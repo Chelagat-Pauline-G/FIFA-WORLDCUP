{
  "nbformat": 4,
  "nbformat_minor": 0,
  "metadata": {
    "colab": {
      "name": "WEEK 6 IP  Polynomial and Logistic regression",
      "provenance": [],
      "collapsed_sections": [],
      "toc_visible": true,
      "authorship_tag": "ABX9TyPoZwdt134prtZkjYKUgced",
      "include_colab_link": true
    },
    "kernelspec": {
      "name": "python3",
      "display_name": "Python 3"
    }
  },
  "cells": [
    {
      "cell_type": "markdown",
      "metadata": {
        "id": "view-in-github",
        "colab_type": "text"
      },
      "source": [
        "<a href=\"https://colab.research.google.com/github/Chelagat-Pauline-G/FIFA-WORLDCUP/blob/master/WEEK_6_IP_Polynomial_and_Logistic_regression.ipynb\" target=\"_parent\"><img src=\"https://colab.research.google.com/assets/colab-badge.svg\" alt=\"Open In Colab\"/></a>"
      ]
    },
    {
      "cell_type": "markdown",
      "metadata": {
        "id": "vBTTWiXJLEjU",
        "colab_type": "text"
      },
      "source": [
        "#1. Defining the Question"
      ]
    },
    {
      "cell_type": "markdown",
      "metadata": {
        "id": "rs0vfmbjLMwJ",
        "colab_type": "text"
      },
      "source": [
        "##a) Specifying the Question"
      ]
    },
    {
      "cell_type": "markdown",
      "metadata": {
        "id": "Q2fAHS8uLT0F",
        "colab_type": "text"
      },
      "source": [
        "You have been recruited as a football analyst in a company - Mchezopesa Ltd and tasked to make a prediction result of a game between team 1 and team 2, **based on who's home and who's away, and on whether or not the game is friendly (include rank in your training).**\n",
        "What to train given:\n",
        "\n",
        "Rank of home team\n",
        "Rank of away team\n",
        "Tournament type\n",
        "\n",
        "Model 1: Predict how many goals the home team scores.(polynomial regression)\n",
        "\n",
        "Model 2: Predict how many goals the away team scores.(polynomial regression)\n",
        "\n",
        "Model 3:Figure out from the home team’s perspective if the game is a Win, Lose or Draw (W, L, D)(logistic regression)"
      ]
    },
    {
      "cell_type": "markdown",
      "metadata": {
        "id": "VyORU8q2LUzo",
        "colab_type": "text"
      },
      "source": [
        "##b) Defining the Metric for Success"
      ]
    },
    {
      "cell_type": "markdown",
      "metadata": {
        "id": "ncEME0L6--8U",
        "colab_type": "text"
      },
      "source": [
        "Successful identification of independent variables/features metricesand building a model with the best hyperparamerters that leads to a correct prediction of the game outcomes (home score and away score) with the highest accuracy possible.\n",
        "Identification of an algorithm that results in the hightest level of accuracy in predicting the outcome of the home team(either win/loss/draw)"
      ]
    },
    {
      "cell_type": "markdown",
      "metadata": {
        "id": "8OwI66-7Lka2",
        "colab_type": "text"
      },
      "source": [
        "##c) Understanding the context"
      ]
    },
    {
      "cell_type": "markdown",
      "metadata": {
        "id": "EAYCRLaALmeh",
        "colab_type": "text"
      },
      "source": [
        "The men's FIFA World Ranking is a ranking system for men's national teams in association football, currently led by Belgium. The teams of the men's member nations of FIFA, football's world governing body, are ranked based on their game results with the most successful teams being ranked highest. The rankings were introduced in December 1992, and eight teams (Argentina, Belgium, Brazil, France, Germany, Italy, the Netherlands and Spain) have held the top position, of which Brazil have spent the longest ranked first.\n",
        "\n",
        "A points system is used, with points being awarded based on the results of all FIFA-recognised full international matches.\n",
        "\n"
      ]
    },
    {
      "cell_type": "markdown",
      "metadata": {
        "id": "glXN_Q7MLccL",
        "colab_type": "text"
      },
      "source": [
        "##d) Recording the Experimental Design"
      ]
    },
    {
      "cell_type": "markdown",
      "metadata": {
        "id": "kpJ2w4TULq1K",
        "colab_type": "text"
      },
      "source": [
        "##e) Data Relevance"
      ]
    },
    {
      "cell_type": "markdown",
      "metadata": {
        "id": "84POFxYL_-VW",
        "colab_type": "text"
      },
      "source": [
        "Only games played after 1993 will be included as that is when the ranking system was first used after its realase in December 1992.\n",
        "\n",
        "Since the ranking is based FIFA-recognised full international matches, only those games will be included in the analysis.\n",
        "Adjusting the game weightings to give:\n",
        "\n",
        " - Less importance to friendly matches and more importance to final round\n",
        "competitions, such as the FIFA World Cup Finals and qualifications. Therefore only countries which partcipated in the world cup 2018 ad in the fifa wourld cup qualification games will be included.\n",
        "\n",
        "\n",
        "- Excluding losses in knock-out rounds of final competitions from the calculation."
      ]
    },
    {
      "cell_type": "markdown",
      "metadata": {
        "id": "zJng8CIbLsgH",
        "colab_type": "text"
      },
      "source": [
        "#2. Reading the data"
      ]
    },
    {
      "cell_type": "code",
      "metadata": {
        "id": "fLGECw58Pqdj",
        "colab_type": "code",
        "colab": {}
      },
      "source": [
        "#importing the libraries we need\n",
        "import pandas as pd\n",
        "import numpy as np\n",
        "\n",
        "import matplotlib.pyplot as plt\n",
        "import seaborn as sns\n",
        "\n",
        "from sklearn.model_selection import train_test_split\n",
        "from sklearn.linear_model import LogisticRegression\n"
      ],
      "execution_count": null,
      "outputs": []
    },
    {
      "cell_type": "code",
      "metadata": {
        "id": "rMLawEBpPRIq",
        "colab_type": "code",
        "colab": {
          "base_uri": "https://localhost:8080/",
          "height": 299
        },
        "outputId": "96d992dc-4d55-44ee-9f2d-62aa5f6a987f"
      },
      "source": [
        "#Loading the data ranking dataset and preveiwing\n",
        "ranking=pd.read_csv('fifa_ranking.csv')\n",
        "ranking.head()"
      ],
      "execution_count": null,
      "outputs": [
        {
          "output_type": "execute_result",
          "data": {
            "text/html": [
              "<div>\n",
              "<style scoped>\n",
              "    .dataframe tbody tr th:only-of-type {\n",
              "        vertical-align: middle;\n",
              "    }\n",
              "\n",
              "    .dataframe tbody tr th {\n",
              "        vertical-align: top;\n",
              "    }\n",
              "\n",
              "    .dataframe thead th {\n",
              "        text-align: right;\n",
              "    }\n",
              "</style>\n",
              "<table border=\"1\" class=\"dataframe\">\n",
              "  <thead>\n",
              "    <tr style=\"text-align: right;\">\n",
              "      <th></th>\n",
              "      <th>rank</th>\n",
              "      <th>country_full</th>\n",
              "      <th>country_abrv</th>\n",
              "      <th>total_points</th>\n",
              "      <th>previous_points</th>\n",
              "      <th>rank_change</th>\n",
              "      <th>cur_year_avg</th>\n",
              "      <th>cur_year_avg_weighted</th>\n",
              "      <th>last_year_avg</th>\n",
              "      <th>last_year_avg_weighted</th>\n",
              "      <th>two_year_ago_avg</th>\n",
              "      <th>two_year_ago_weighted</th>\n",
              "      <th>three_year_ago_avg</th>\n",
              "      <th>three_year_ago_weighted</th>\n",
              "      <th>confederation</th>\n",
              "      <th>rank_date</th>\n",
              "    </tr>\n",
              "  </thead>\n",
              "  <tbody>\n",
              "    <tr>\n",
              "      <th>0</th>\n",
              "      <td>1</td>\n",
              "      <td>Germany</td>\n",
              "      <td>GER</td>\n",
              "      <td>0.0</td>\n",
              "      <td>57</td>\n",
              "      <td>0</td>\n",
              "      <td>0.0</td>\n",
              "      <td>0.0</td>\n",
              "      <td>0.0</td>\n",
              "      <td>0.0</td>\n",
              "      <td>0.0</td>\n",
              "      <td>0.0</td>\n",
              "      <td>0.0</td>\n",
              "      <td>0.0</td>\n",
              "      <td>UEFA</td>\n",
              "      <td>1993-08-08</td>\n",
              "    </tr>\n",
              "    <tr>\n",
              "      <th>1</th>\n",
              "      <td>2</td>\n",
              "      <td>Italy</td>\n",
              "      <td>ITA</td>\n",
              "      <td>0.0</td>\n",
              "      <td>57</td>\n",
              "      <td>0</td>\n",
              "      <td>0.0</td>\n",
              "      <td>0.0</td>\n",
              "      <td>0.0</td>\n",
              "      <td>0.0</td>\n",
              "      <td>0.0</td>\n",
              "      <td>0.0</td>\n",
              "      <td>0.0</td>\n",
              "      <td>0.0</td>\n",
              "      <td>UEFA</td>\n",
              "      <td>1993-08-08</td>\n",
              "    </tr>\n",
              "    <tr>\n",
              "      <th>2</th>\n",
              "      <td>3</td>\n",
              "      <td>Switzerland</td>\n",
              "      <td>SUI</td>\n",
              "      <td>0.0</td>\n",
              "      <td>50</td>\n",
              "      <td>9</td>\n",
              "      <td>0.0</td>\n",
              "      <td>0.0</td>\n",
              "      <td>0.0</td>\n",
              "      <td>0.0</td>\n",
              "      <td>0.0</td>\n",
              "      <td>0.0</td>\n",
              "      <td>0.0</td>\n",
              "      <td>0.0</td>\n",
              "      <td>UEFA</td>\n",
              "      <td>1993-08-08</td>\n",
              "    </tr>\n",
              "    <tr>\n",
              "      <th>3</th>\n",
              "      <td>4</td>\n",
              "      <td>Sweden</td>\n",
              "      <td>SWE</td>\n",
              "      <td>0.0</td>\n",
              "      <td>55</td>\n",
              "      <td>0</td>\n",
              "      <td>0.0</td>\n",
              "      <td>0.0</td>\n",
              "      <td>0.0</td>\n",
              "      <td>0.0</td>\n",
              "      <td>0.0</td>\n",
              "      <td>0.0</td>\n",
              "      <td>0.0</td>\n",
              "      <td>0.0</td>\n",
              "      <td>UEFA</td>\n",
              "      <td>1993-08-08</td>\n",
              "    </tr>\n",
              "    <tr>\n",
              "      <th>4</th>\n",
              "      <td>5</td>\n",
              "      <td>Argentina</td>\n",
              "      <td>ARG</td>\n",
              "      <td>0.0</td>\n",
              "      <td>51</td>\n",
              "      <td>5</td>\n",
              "      <td>0.0</td>\n",
              "      <td>0.0</td>\n",
              "      <td>0.0</td>\n",
              "      <td>0.0</td>\n",
              "      <td>0.0</td>\n",
              "      <td>0.0</td>\n",
              "      <td>0.0</td>\n",
              "      <td>0.0</td>\n",
              "      <td>CONMEBOL</td>\n",
              "      <td>1993-08-08</td>\n",
              "    </tr>\n",
              "  </tbody>\n",
              "</table>\n",
              "</div>"
            ],
            "text/plain": [
              "   rank country_full  ... confederation   rank_date\n",
              "0     1      Germany  ...          UEFA  1993-08-08\n",
              "1     2        Italy  ...          UEFA  1993-08-08\n",
              "2     3  Switzerland  ...          UEFA  1993-08-08\n",
              "3     4       Sweden  ...          UEFA  1993-08-08\n",
              "4     5    Argentina  ...      CONMEBOL  1993-08-08\n",
              "\n",
              "[5 rows x 16 columns]"
            ]
          },
          "metadata": {
            "tags": []
          },
          "execution_count": 70
        }
      ]
    },
    {
      "cell_type": "markdown",
      "metadata": {
        "id": "oZafBA-FcvG2",
        "colab_type": "text"
      },
      "source": [
        "Country Abbreviation,Total Points,Previous Points,Rank Change,Average Previous,Years Points,Average Previous Years Points Weighted (50%),Average 2 Years Ago Points,Average 2 Years Ago Points Weighted (30%),Average 3 Years Ago Points and\n",
        "Average 3 Years Ago Points Weighted (20%) are not needed in the analysis.\n",
        "\n",
        "Therefore they will be drooped from the ranking dataset."
      ]
    },
    {
      "cell_type": "code",
      "metadata": {
        "id": "e0v4vfL8PVoT",
        "colab_type": "code",
        "colab": {
          "base_uri": "https://localhost:8080/",
          "height": 195
        },
        "outputId": "36205b4d-cfff-48b8-aeac-3405b7b86479"
      },
      "source": [
        "#Loading the data the results dataset and previewing\n",
        "results=pd.read_csv('results.csv')\n",
        "results.head()"
      ],
      "execution_count": null,
      "outputs": [
        {
          "output_type": "execute_result",
          "data": {
            "text/html": [
              "<div>\n",
              "<style scoped>\n",
              "    .dataframe tbody tr th:only-of-type {\n",
              "        vertical-align: middle;\n",
              "    }\n",
              "\n",
              "    .dataframe tbody tr th {\n",
              "        vertical-align: top;\n",
              "    }\n",
              "\n",
              "    .dataframe thead th {\n",
              "        text-align: right;\n",
              "    }\n",
              "</style>\n",
              "<table border=\"1\" class=\"dataframe\">\n",
              "  <thead>\n",
              "    <tr style=\"text-align: right;\">\n",
              "      <th></th>\n",
              "      <th>date</th>\n",
              "      <th>home_team</th>\n",
              "      <th>away_team</th>\n",
              "      <th>home_score</th>\n",
              "      <th>away_score</th>\n",
              "      <th>tournament</th>\n",
              "      <th>city</th>\n",
              "      <th>country</th>\n",
              "      <th>neutral</th>\n",
              "    </tr>\n",
              "  </thead>\n",
              "  <tbody>\n",
              "    <tr>\n",
              "      <th>0</th>\n",
              "      <td>1872-11-30</td>\n",
              "      <td>Scotland</td>\n",
              "      <td>England</td>\n",
              "      <td>0</td>\n",
              "      <td>0</td>\n",
              "      <td>Friendly</td>\n",
              "      <td>Glasgow</td>\n",
              "      <td>Scotland</td>\n",
              "      <td>False</td>\n",
              "    </tr>\n",
              "    <tr>\n",
              "      <th>1</th>\n",
              "      <td>1873-03-08</td>\n",
              "      <td>England</td>\n",
              "      <td>Scotland</td>\n",
              "      <td>4</td>\n",
              "      <td>2</td>\n",
              "      <td>Friendly</td>\n",
              "      <td>London</td>\n",
              "      <td>England</td>\n",
              "      <td>False</td>\n",
              "    </tr>\n",
              "    <tr>\n",
              "      <th>2</th>\n",
              "      <td>1874-03-07</td>\n",
              "      <td>Scotland</td>\n",
              "      <td>England</td>\n",
              "      <td>2</td>\n",
              "      <td>1</td>\n",
              "      <td>Friendly</td>\n",
              "      <td>Glasgow</td>\n",
              "      <td>Scotland</td>\n",
              "      <td>False</td>\n",
              "    </tr>\n",
              "    <tr>\n",
              "      <th>3</th>\n",
              "      <td>1875-03-06</td>\n",
              "      <td>England</td>\n",
              "      <td>Scotland</td>\n",
              "      <td>2</td>\n",
              "      <td>2</td>\n",
              "      <td>Friendly</td>\n",
              "      <td>London</td>\n",
              "      <td>England</td>\n",
              "      <td>False</td>\n",
              "    </tr>\n",
              "    <tr>\n",
              "      <th>4</th>\n",
              "      <td>1876-03-04</td>\n",
              "      <td>Scotland</td>\n",
              "      <td>England</td>\n",
              "      <td>3</td>\n",
              "      <td>0</td>\n",
              "      <td>Friendly</td>\n",
              "      <td>Glasgow</td>\n",
              "      <td>Scotland</td>\n",
              "      <td>False</td>\n",
              "    </tr>\n",
              "  </tbody>\n",
              "</table>\n",
              "</div>"
            ],
            "text/plain": [
              "         date home_team away_team  ...     city   country neutral\n",
              "0  1872-11-30  Scotland   England  ...  Glasgow  Scotland   False\n",
              "1  1873-03-08   England  Scotland  ...   London   England   False\n",
              "2  1874-03-07  Scotland   England  ...  Glasgow  Scotland   False\n",
              "3  1875-03-06   England  Scotland  ...   London   England   False\n",
              "4  1876-03-04  Scotland   England  ...  Glasgow  Scotland   False\n",
              "\n",
              "[5 rows x 9 columns]"
            ]
          },
          "metadata": {
            "tags": []
          },
          "execution_count": 71
        }
      ]
    },
    {
      "cell_type": "markdown",
      "metadata": {
        "id": "_PqVdfDmmDoa",
        "colab_type": "text"
      },
      "source": [
        "The city and the country seem not to be useful in the analysis as they have no influencec on the other variables."
      ]
    },
    {
      "cell_type": "markdown",
      "metadata": {
        "id": "EkMBv40rL0Tp",
        "colab_type": "text"
      },
      "source": [
        "#3. Checking the data"
      ]
    },
    {
      "cell_type": "code",
      "metadata": {
        "id": "QhUgHDBxMb7C",
        "colab_type": "code",
        "colab": {
          "base_uri": "https://localhost:8080/",
          "height": 34
        },
        "outputId": "8d0fd2bd-79a8-4762-903f-cad6b061043e"
      },
      "source": [
        "# Determining the no. of records in our dataset\n",
        "#\n",
        "ranking.shape"
      ],
      "execution_count": null,
      "outputs": [
        {
          "output_type": "execute_result",
          "data": {
            "text/plain": [
              "(57793, 16)"
            ]
          },
          "metadata": {
            "tags": []
          },
          "execution_count": 72
        }
      ]
    },
    {
      "cell_type": "code",
      "metadata": {
        "id": "tDsIddhiQJ-4",
        "colab_type": "code",
        "colab": {
          "base_uri": "https://localhost:8080/",
          "height": 34
        },
        "outputId": "e61c817b-3b49-47e7-8e14-cb78aa507d2f"
      },
      "source": [
        "results.shape"
      ],
      "execution_count": null,
      "outputs": [
        {
          "output_type": "execute_result",
          "data": {
            "text/plain": [
              "(40839, 9)"
            ]
          },
          "metadata": {
            "tags": []
          },
          "execution_count": 73
        }
      ]
    },
    {
      "cell_type": "code",
      "metadata": {
        "id": "2m9F5y7ZMiGz",
        "colab_type": "code",
        "colab": {
          "base_uri": "https://localhost:8080/",
          "height": 403
        },
        "outputId": "d201bc85-c40f-456f-8c1b-9a0231b88b52"
      },
      "source": [
        "# Checking whether each column has an appropriate datatype\n",
        "#\n",
        "ranking.info()"
      ],
      "execution_count": null,
      "outputs": [
        {
          "output_type": "stream",
          "text": [
            "<class 'pandas.core.frame.DataFrame'>\n",
            "RangeIndex: 57793 entries, 0 to 57792\n",
            "Data columns (total 16 columns):\n",
            " #   Column                   Non-Null Count  Dtype  \n",
            "---  ------                   --------------  -----  \n",
            " 0   rank                     57793 non-null  int64  \n",
            " 1   country_full             57793 non-null  object \n",
            " 2   country_abrv             57793 non-null  object \n",
            " 3   total_points             57793 non-null  float64\n",
            " 4   previous_points          57793 non-null  int64  \n",
            " 5   rank_change              57793 non-null  int64  \n",
            " 6   cur_year_avg             57793 non-null  float64\n",
            " 7   cur_year_avg_weighted    57793 non-null  float64\n",
            " 8   last_year_avg            57793 non-null  float64\n",
            " 9   last_year_avg_weighted   57793 non-null  float64\n",
            " 10  two_year_ago_avg         57793 non-null  float64\n",
            " 11  two_year_ago_weighted    57793 non-null  float64\n",
            " 12  three_year_ago_avg       57793 non-null  float64\n",
            " 13  three_year_ago_weighted  57793 non-null  float64\n",
            " 14  confederation            57793 non-null  object \n",
            " 15  rank_date                57793 non-null  object \n",
            "dtypes: float64(9), int64(3), object(4)\n",
            "memory usage: 7.1+ MB\n"
          ],
          "name": "stdout"
        }
      ]
    },
    {
      "cell_type": "code",
      "metadata": {
        "id": "GFaVaWR7KcTE",
        "colab_type": "code",
        "colab": {
          "base_uri": "https://localhost:8080/",
          "height": 286
        },
        "outputId": "dc93a204-fdcf-4471-a72b-23889fadb6dc"
      },
      "source": [
        "results.info()"
      ],
      "execution_count": null,
      "outputs": [
        {
          "output_type": "stream",
          "text": [
            "<class 'pandas.core.frame.DataFrame'>\n",
            "RangeIndex: 40839 entries, 0 to 40838\n",
            "Data columns (total 9 columns):\n",
            " #   Column      Non-Null Count  Dtype \n",
            "---  ------      --------------  ----- \n",
            " 0   date        40839 non-null  object\n",
            " 1   home_team   40839 non-null  object\n",
            " 2   away_team   40839 non-null  object\n",
            " 3   home_score  40839 non-null  int64 \n",
            " 4   away_score  40839 non-null  int64 \n",
            " 5   tournament  40839 non-null  object\n",
            " 6   city        40839 non-null  object\n",
            " 7   country     40839 non-null  object\n",
            " 8   neutral     40839 non-null  bool  \n",
            "dtypes: bool(1), int64(2), object(6)\n",
            "memory usage: 2.5+ MB\n"
          ],
          "name": "stdout"
        }
      ]
    },
    {
      "cell_type": "markdown",
      "metadata": {
        "id": "smxpmjJEL4LV",
        "colab_type": "text"
      },
      "source": [
        "#4. External Data Source Validation"
      ]
    },
    {
      "cell_type": "markdown",
      "metadata": {
        "id": "qkIeLrx7MtF-",
        "colab_type": "text"
      },
      "source": [
        "\n",
        "Making sure your data matches something outside of the dataset is very important. It allows you to ensure that the measurements are roughly in line with what they should be and it serves as a check on what other things might be wrong in your dataset. External validation can often be as simple as checking your data against a single number, as we will do here."
      ]
    },
    {
      "cell_type": "markdown",
      "metadata": {
        "id": "rFZuLyh6mei6",
        "colab_type": "text"
      },
      "source": [
        "The dataset is correct according to the following link: https://en.wikipedia.org/wiki/FIFA_World_Rankings\n",
        "\n",
        "The values are consistent and depeict the true nature if the games."
      ]
    },
    {
      "cell_type": "markdown",
      "metadata": {
        "id": "AlUVN3W8MugS",
        "colab_type": "text"
      },
      "source": [
        "#5. Tidying the Dataset"
      ]
    },
    {
      "cell_type": "code",
      "metadata": {
        "id": "6LwxxVp2M0s_",
        "colab_type": "code",
        "colab": {
          "base_uri": "https://localhost:8080/",
          "height": 345
        },
        "outputId": "d22213c0-2d11-4bbd-b5d9-57be2d20293e"
      },
      "source": [
        "# Checking for Outliers\n",
        "#\n",
        "# save the column names onto a dictionary\n",
        "columns_dict={ 'home_score':1, 'away_score':2}\n",
        "\n",
        "plt.figure(figsize=(20,30))\n",
        "\n",
        "# make a boxplot for each numerical column\n",
        "for variable,i in columns_dict.items():\n",
        "  plt.subplot(5,4,i)\n",
        "  plt.boxplot(results[variable])\n",
        "  plt.title(variable)\n",
        "\n",
        "plt.show()"
      ],
      "execution_count": null,
      "outputs": [
        {
          "output_type": "display_data",
          "data": {
            "image/png": "[encoded data removed]",
            "text/plain": [
              "<Figure size 1440x2160 with 2 Axes>"
            ]
          },
          "metadata": {
            "tags": [],
            "needs_background": "light"
          }
        }
      ]
    },
    {
      "cell_type": "markdown",
      "metadata": {
        "id": "lMFzcapUm86X",
        "colab_type": "text"
      },
      "source": [
        "There are a few outliers in the home score and away score columns in the results column. In this case we will not delete them as they are useful and relay further information in our analysis."
      ]
    },
    {
      "cell_type": "code",
      "metadata": {
        "id": "6teMd9A4M6JP",
        "colab_type": "code",
        "colab": {
          "base_uri": "https://localhost:8080/",
          "height": 34
        },
        "outputId": "1351d4a7-af90-4616-f11c-2f20d9956663"
      },
      "source": [
        "# checking for anomalies\n",
        "\n",
        "# find quartile ranges for the column sum of bluecars_taken\n",
        "q1_life_e = results['home_score'].quantile(.25)\n",
        "q3_life_e = results['home_score'].quantile(.75)\n",
        "\n",
        "# calculating inter-quartile range using values from above\n",
        "iqr_life_e = q3_life_e - q1_life_e\n",
        "\n",
        "# another way is to find quantiles using the percentiles from the numpy library\n",
        "q1_l_e, q3_l_e = np.percentile(results['home_score'], [25, 75]) \n",
        "# IQR\n",
        "iqr_l_e = q3_l_e - q1_l_e\n",
        "\n",
        "# compare if the two values are similar\n",
        "print(iqr_life_e, iqr_l_e)\n"
      ],
      "execution_count": null,
      "outputs": [
        {
          "output_type": "stream",
          "text": [
            "1.0 1.0\n"
          ],
          "name": "stdout"
        }
      ]
    },
    {
      "cell_type": "code",
      "metadata": {
        "id": "0yBeCul-M8v2",
        "colab_type": "code",
        "colab": {
          "base_uri": "https://localhost:8080/",
          "height": 487
        },
        "outputId": "2abffa20-19bd-4626-93af-7db2f5527f3b"
      },
      "source": [
        "# Identifying the Missing Data\n",
        "#\n",
        "print(results.isnull().sum())\n",
        "print('********************')\n",
        "print(ranking.isnull().sum())"
      ],
      "execution_count": null,
      "outputs": [
        {
          "output_type": "stream",
          "text": [
            "date          0\n",
            "home_team     0\n",
            "away_team     0\n",
            "home_score    0\n",
            "away_score    0\n",
            "tournament    0\n",
            "city          0\n",
            "country       0\n",
            "neutral       0\n",
            "dtype: int64\n",
            "********************\n",
            "rank                       0\n",
            "country_full               0\n",
            "country_abrv               0\n",
            "total_points               0\n",
            "previous_points            0\n",
            "rank_change                0\n",
            "cur_year_avg               0\n",
            "cur_year_avg_weighted      0\n",
            "last_year_avg              0\n",
            "last_year_avg_weighted     0\n",
            "two_year_ago_avg           0\n",
            "two_year_ago_weighted      0\n",
            "three_year_ago_avg         0\n",
            "three_year_ago_weighted    0\n",
            "confederation              0\n",
            "rank_date                  0\n",
            "dtype: int64\n"
          ],
          "name": "stdout"
        }
      ]
    },
    {
      "cell_type": "code",
      "metadata": {
        "id": "5UE1uCKWcYc4",
        "colab_type": "code",
        "colab": {
          "base_uri": "https://localhost:8080/",
          "height": 118
        },
        "outputId": "76ab27a4-acd7-45c1-f0bb-0b99c34bd769"
      },
      "source": [
        "ranking.columns"
      ],
      "execution_count": null,
      "outputs": [
        {
          "output_type": "execute_result",
          "data": {
            "text/plain": [
              "Index(['rank', 'country_full', 'country_abrv', 'total_points',\n",
              "       'previous_points', 'rank_change', 'cur_year_avg',\n",
              "       'cur_year_avg_weighted', 'last_year_avg', 'last_year_avg_weighted',\n",
              "       'two_year_ago_avg', 'two_year_ago_weighted', 'three_year_ago_avg',\n",
              "       'three_year_ago_weighted', 'confederation', 'rank_date'],\n",
              "      dtype='object')"
            ]
          },
          "metadata": {
            "tags": []
          },
          "execution_count": 79
        }
      ]
    },
    {
      "cell_type": "code",
      "metadata": {
        "id": "lki8grhTgxxh",
        "colab_type": "code",
        "colab": {
          "base_uri": "https://localhost:8080/",
          "height": 299
        },
        "outputId": "ed695c0f-e997-484e-d083-067c04de793c"
      },
      "source": [
        "#Extracting the year and month from the rank date column\n",
        "#method 1\n",
        "#ranking['year'] = pd.DatetimeIndex(ranking['rank_date']).year\n",
        "#ranking.head()\n",
        "\n",
        "#method 2\n",
        "year = []\n",
        "for row in ranking['rank_date']:\n",
        "    year.append(int(row[:4]))\n",
        "ranking ['match_year']= year\n",
        "ranking['month'] = pd.DatetimeIndex(ranking['rank_date']).month\n",
        "ranking.head()"
      ],
      "execution_count": null,
      "outputs": [
        {
          "output_type": "execute_result",
          "data": {
            "text/html": [
              "<div>\n",
              "<style scoped>\n",
              "    .dataframe tbody tr th:only-of-type {\n",
              "        vertical-align: middle;\n",
              "    }\n",
              "\n",
              "    .dataframe tbody tr th {\n",
              "        vertical-align: top;\n",
              "    }\n",
              "\n",
              "    .dataframe thead th {\n",
              "        text-align: right;\n",
              "    }\n",
              "</style>\n",
              "<table border=\"1\" class=\"dataframe\">\n",
              "  <thead>\n",
              "    <tr style=\"text-align: right;\">\n",
              "      <th></th>\n",
              "      <th>rank</th>\n",
              "      <th>country_full</th>\n",
              "      <th>country_abrv</th>\n",
              "      <th>total_points</th>\n",
              "      <th>previous_points</th>\n",
              "      <th>rank_change</th>\n",
              "      <th>cur_year_avg</th>\n",
              "      <th>cur_year_avg_weighted</th>\n",
              "      <th>last_year_avg</th>\n",
              "      <th>last_year_avg_weighted</th>\n",
              "      <th>two_year_ago_avg</th>\n",
              "      <th>two_year_ago_weighted</th>\n",
              "      <th>three_year_ago_avg</th>\n",
              "      <th>three_year_ago_weighted</th>\n",
              "      <th>confederation</th>\n",
              "      <th>rank_date</th>\n",
              "      <th>match_year</th>\n",
              "      <th>month</th>\n",
              "    </tr>\n",
              "  </thead>\n",
              "  <tbody>\n",
              "    <tr>\n",
              "      <th>0</th>\n",
              "      <td>1</td>\n",
              "      <td>Germany</td>\n",
              "      <td>GER</td>\n",
              "      <td>0.0</td>\n",
              "      <td>57</td>\n",
              "      <td>0</td>\n",
              "      <td>0.0</td>\n",
              "      <td>0.0</td>\n",
              "      <td>0.0</td>\n",
              "      <td>0.0</td>\n",
              "      <td>0.0</td>\n",
              "      <td>0.0</td>\n",
              "      <td>0.0</td>\n",
              "      <td>0.0</td>\n",
              "      <td>UEFA</td>\n",
              "      <td>1993-08-08</td>\n",
              "      <td>1993</td>\n",
              "      <td>8</td>\n",
              "    </tr>\n",
              "    <tr>\n",
              "      <th>1</th>\n",
              "      <td>2</td>\n",
              "      <td>Italy</td>\n",
              "      <td>ITA</td>\n",
              "      <td>0.0</td>\n",
              "      <td>57</td>\n",
              "      <td>0</td>\n",
              "      <td>0.0</td>\n",
              "      <td>0.0</td>\n",
              "      <td>0.0</td>\n",
              "      <td>0.0</td>\n",
              "      <td>0.0</td>\n",
              "      <td>0.0</td>\n",
              "      <td>0.0</td>\n",
              "      <td>0.0</td>\n",
              "      <td>UEFA</td>\n",
              "      <td>1993-08-08</td>\n",
              "      <td>1993</td>\n",
              "      <td>8</td>\n",
              "    </tr>\n",
              "    <tr>\n",
              "      <th>2</th>\n",
              "      <td>3</td>\n",
              "      <td>Switzerland</td>\n",
              "      <td>SUI</td>\n",
              "      <td>0.0</td>\n",
              "      <td>50</td>\n",
              "      <td>9</td>\n",
              "      <td>0.0</td>\n",
              "      <td>0.0</td>\n",
              "      <td>0.0</td>\n",
              "      <td>0.0</td>\n",
              "      <td>0.0</td>\n",
              "      <td>0.0</td>\n",
              "      <td>0.0</td>\n",
              "      <td>0.0</td>\n",
              "      <td>UEFA</td>\n",
              "      <td>1993-08-08</td>\n",
              "      <td>1993</td>\n",
              "      <td>8</td>\n",
              "    </tr>\n",
              "    <tr>\n",
              "      <th>3</th>\n",
              "      <td>4</td>\n",
              "      <td>Sweden</td>\n",
              "      <td>SWE</td>\n",
              "      <td>0.0</td>\n",
              "      <td>55</td>\n",
              "      <td>0</td>\n",
              "      <td>0.0</td>\n",
              "      <td>0.0</td>\n",
              "      <td>0.0</td>\n",
              "      <td>0.0</td>\n",
              "      <td>0.0</td>\n",
              "      <td>0.0</td>\n",
              "      <td>0.0</td>\n",
              "      <td>0.0</td>\n",
              "      <td>UEFA</td>\n",
              "      <td>1993-08-08</td>\n",
              "      <td>1993</td>\n",
              "      <td>8</td>\n",
              "    </tr>\n",
              "    <tr>\n",
              "      <th>4</th>\n",
              "      <td>5</td>\n",
              "      <td>Argentina</td>\n",
              "      <td>ARG</td>\n",
              "      <td>0.0</td>\n",
              "      <td>51</td>\n",
              "      <td>5</td>\n",
              "      <td>0.0</td>\n",
              "      <td>0.0</td>\n",
              "      <td>0.0</td>\n",
              "      <td>0.0</td>\n",
              "      <td>0.0</td>\n",
              "      <td>0.0</td>\n",
              "      <td>0.0</td>\n",
              "      <td>0.0</td>\n",
              "      <td>CONMEBOL</td>\n",
              "      <td>1993-08-08</td>\n",
              "      <td>1993</td>\n",
              "      <td>8</td>\n",
              "    </tr>\n",
              "  </tbody>\n",
              "</table>\n",
              "</div>"
            ],
            "text/plain": [
              "   rank country_full country_abrv  ...   rank_date  match_year  month\n",
              "0     1      Germany          GER  ...  1993-08-08        1993      8\n",
              "1     2        Italy          ITA  ...  1993-08-08        1993      8\n",
              "2     3  Switzerland          SUI  ...  1993-08-08        1993      8\n",
              "3     4       Sweden          SWE  ...  1993-08-08        1993      8\n",
              "4     5    Argentina          ARG  ...  1993-08-08        1993      8\n",
              "\n",
              "[5 rows x 18 columns]"
            ]
          },
          "metadata": {
            "tags": []
          },
          "execution_count": 80
        }
      ]
    },
    {
      "cell_type": "code",
      "metadata": {
        "id": "0eyyspcnNCFq",
        "colab_type": "code",
        "colab": {
          "base_uri": "https://localhost:8080/",
          "height": 402
        },
        "outputId": "5819e0a5-927e-45ea-9d9e-dc903dba18ba"
      },
      "source": [
        "# More data cleaning procedures\n",
        "# Dropping the columns we dont need from the ranking dataset:these columns are not nenessary in the analysis as they are not directly involved in answering the research questions\n",
        "ranking=ranking.drop(['country_abrv', 'total_points',\n",
        "      'previous_points', 'rank_change', 'cur_year_avg',\n",
        "      'cur_year_avg_weighted', 'last_year_avg', 'last_year_avg_weighted',\n",
        "       'two_year_ago_avg', 'two_year_ago_weighted', 'three_year_ago_avg',\n",
        "       'three_year_ago_weighted','confederation'],1)\n",
        "ranking"
      ],
      "execution_count": null,
      "outputs": [
        {
          "output_type": "execute_result",
          "data": {
            "text/html": [
              "<div>\n",
              "<style scoped>\n",
              "    .dataframe tbody tr th:only-of-type {\n",
              "        vertical-align: middle;\n",
              "    }\n",
              "\n",
              "    .dataframe tbody tr th {\n",
              "        vertical-align: top;\n",
              "    }\n",
              "\n",
              "    .dataframe thead th {\n",
              "        text-align: right;\n",
              "    }\n",
              "</style>\n",
              "<table border=\"1\" class=\"dataframe\">\n",
              "  <thead>\n",
              "    <tr style=\"text-align: right;\">\n",
              "      <th></th>\n",
              "      <th>rank</th>\n",
              "      <th>country_full</th>\n",
              "      <th>rank_date</th>\n",
              "      <th>match_year</th>\n",
              "      <th>month</th>\n",
              "    </tr>\n",
              "  </thead>\n",
              "  <tbody>\n",
              "    <tr>\n",
              "      <th>0</th>\n",
              "      <td>1</td>\n",
              "      <td>Germany</td>\n",
              "      <td>1993-08-08</td>\n",
              "      <td>1993</td>\n",
              "      <td>8</td>\n",
              "    </tr>\n",
              "    <tr>\n",
              "      <th>1</th>\n",
              "      <td>2</td>\n",
              "      <td>Italy</td>\n",
              "      <td>1993-08-08</td>\n",
              "      <td>1993</td>\n",
              "      <td>8</td>\n",
              "    </tr>\n",
              "    <tr>\n",
              "      <th>2</th>\n",
              "      <td>3</td>\n",
              "      <td>Switzerland</td>\n",
              "      <td>1993-08-08</td>\n",
              "      <td>1993</td>\n",
              "      <td>8</td>\n",
              "    </tr>\n",
              "    <tr>\n",
              "      <th>3</th>\n",
              "      <td>4</td>\n",
              "      <td>Sweden</td>\n",
              "      <td>1993-08-08</td>\n",
              "      <td>1993</td>\n",
              "      <td>8</td>\n",
              "    </tr>\n",
              "    <tr>\n",
              "      <th>4</th>\n",
              "      <td>5</td>\n",
              "      <td>Argentina</td>\n",
              "      <td>1993-08-08</td>\n",
              "      <td>1993</td>\n",
              "      <td>8</td>\n",
              "    </tr>\n",
              "    <tr>\n",
              "      <th>...</th>\n",
              "      <td>...</td>\n",
              "      <td>...</td>\n",
              "      <td>...</td>\n",
              "      <td>...</td>\n",
              "      <td>...</td>\n",
              "    </tr>\n",
              "    <tr>\n",
              "      <th>57788</th>\n",
              "      <td>206</td>\n",
              "      <td>Anguilla</td>\n",
              "      <td>2018-06-07</td>\n",
              "      <td>2018</td>\n",
              "      <td>6</td>\n",
              "    </tr>\n",
              "    <tr>\n",
              "      <th>57789</th>\n",
              "      <td>206</td>\n",
              "      <td>Bahamas</td>\n",
              "      <td>2018-06-07</td>\n",
              "      <td>2018</td>\n",
              "      <td>6</td>\n",
              "    </tr>\n",
              "    <tr>\n",
              "      <th>57790</th>\n",
              "      <td>206</td>\n",
              "      <td>Eritrea</td>\n",
              "      <td>2018-06-07</td>\n",
              "      <td>2018</td>\n",
              "      <td>6</td>\n",
              "    </tr>\n",
              "    <tr>\n",
              "      <th>57791</th>\n",
              "      <td>206</td>\n",
              "      <td>Somalia</td>\n",
              "      <td>2018-06-07</td>\n",
              "      <td>2018</td>\n",
              "      <td>6</td>\n",
              "    </tr>\n",
              "    <tr>\n",
              "      <th>57792</th>\n",
              "      <td>206</td>\n",
              "      <td>Tonga</td>\n",
              "      <td>2018-06-07</td>\n",
              "      <td>2018</td>\n",
              "      <td>6</td>\n",
              "    </tr>\n",
              "  </tbody>\n",
              "</table>\n",
              "<p>57793 rows × 5 columns</p>\n",
              "</div>"
            ],
            "text/plain": [
              "       rank country_full   rank_date  match_year  month\n",
              "0         1      Germany  1993-08-08        1993      8\n",
              "1         2        Italy  1993-08-08        1993      8\n",
              "2         3  Switzerland  1993-08-08        1993      8\n",
              "3         4       Sweden  1993-08-08        1993      8\n",
              "4         5    Argentina  1993-08-08        1993      8\n",
              "...     ...          ...         ...         ...    ...\n",
              "57788   206     Anguilla  2018-06-07        2018      6\n",
              "57789   206      Bahamas  2018-06-07        2018      6\n",
              "57790   206      Eritrea  2018-06-07        2018      6\n",
              "57791   206      Somalia  2018-06-07        2018      6\n",
              "57792   206        Tonga  2018-06-07        2018      6\n",
              "\n",
              "[57793 rows x 5 columns]"
            ]
          },
          "metadata": {
            "tags": []
          },
          "execution_count": 81
        }
      ]
    },
    {
      "cell_type": "code",
      "metadata": {
        "id": "BXLfvdYDhx4a",
        "colab_type": "code",
        "colab": {
          "base_uri": "https://localhost:8080/",
          "height": 34
        },
        "outputId": "0e2fe6f1-29b9-4415-d476-89dc0ba7012f"
      },
      "source": [
        "ranking.shape"
      ],
      "execution_count": null,
      "outputs": [
        {
          "output_type": "execute_result",
          "data": {
            "text/plain": [
              "(57793, 5)"
            ]
          },
          "metadata": {
            "tags": []
          },
          "execution_count": 82
        }
      ]
    },
    {
      "cell_type": "code",
      "metadata": {
        "id": "zanS-5NKj9y2",
        "colab_type": "code",
        "colab": {}
      },
      "source": [
        "#setting the year and country as index values in the ranking dataset\n",
        "#ranking=ranking.set_index(['rank_date', 'country_full'])\n",
        "#ranking"
      ],
      "execution_count": null,
      "outputs": []
    },
    {
      "cell_type": "code",
      "metadata": {
        "id": "JaECDg4VUMV6",
        "colab_type": "code",
        "colab": {
          "base_uri": "https://localhost:8080/",
          "height": 195
        },
        "outputId": "c33d68dd-f67f-4d11-877a-9ae2c5b53be4"
      },
      "source": [
        "#getting the status of the home team( whether the home team won, lost or drew in the match)\n",
        "status = []\n",
        "for i in range (len(results['home_team'])):\n",
        "    if results ['home_score'][i] > results['away_score'][i]:\n",
        "        status.append('Win')\n",
        "    elif results['home_score'][i] < results ['away_score'][i]:\n",
        "        status.append('Loss')\n",
        "    else:\n",
        "        status.append('Draw')\n",
        "results['home_status'] = status\n",
        "\n",
        "results.head()"
      ],
      "execution_count": null,
      "outputs": [
        {
          "output_type": "execute_result",
          "data": {
            "text/html": [
              "<div>\n",
              "<style scoped>\n",
              "    .dataframe tbody tr th:only-of-type {\n",
              "        vertical-align: middle;\n",
              "    }\n",
              "\n",
              "    .dataframe tbody tr th {\n",
              "        vertical-align: top;\n",
              "    }\n",
              "\n",
              "    .dataframe thead th {\n",
              "        text-align: right;\n",
              "    }\n",
              "</style>\n",
              "<table border=\"1\" class=\"dataframe\">\n",
              "  <thead>\n",
              "    <tr style=\"text-align: right;\">\n",
              "      <th></th>\n",
              "      <th>date</th>\n",
              "      <th>home_team</th>\n",
              "      <th>away_team</th>\n",
              "      <th>home_score</th>\n",
              "      <th>away_score</th>\n",
              "      <th>tournament</th>\n",
              "      <th>city</th>\n",
              "      <th>country</th>\n",
              "      <th>neutral</th>\n",
              "      <th>home_status</th>\n",
              "    </tr>\n",
              "  </thead>\n",
              "  <tbody>\n",
              "    <tr>\n",
              "      <th>0</th>\n",
              "      <td>1872-11-30</td>\n",
              "      <td>Scotland</td>\n",
              "      <td>England</td>\n",
              "      <td>0</td>\n",
              "      <td>0</td>\n",
              "      <td>Friendly</td>\n",
              "      <td>Glasgow</td>\n",
              "      <td>Scotland</td>\n",
              "      <td>False</td>\n",
              "      <td>Draw</td>\n",
              "    </tr>\n",
              "    <tr>\n",
              "      <th>1</th>\n",
              "      <td>1873-03-08</td>\n",
              "      <td>England</td>\n",
              "      <td>Scotland</td>\n",
              "      <td>4</td>\n",
              "      <td>2</td>\n",
              "      <td>Friendly</td>\n",
              "      <td>London</td>\n",
              "      <td>England</td>\n",
              "      <td>False</td>\n",
              "      <td>Win</td>\n",
              "    </tr>\n",
              "    <tr>\n",
              "      <th>2</th>\n",
              "      <td>1874-03-07</td>\n",
              "      <td>Scotland</td>\n",
              "      <td>England</td>\n",
              "      <td>2</td>\n",
              "      <td>1</td>\n",
              "      <td>Friendly</td>\n",
              "      <td>Glasgow</td>\n",
              "      <td>Scotland</td>\n",
              "      <td>False</td>\n",
              "      <td>Win</td>\n",
              "    </tr>\n",
              "    <tr>\n",
              "      <th>3</th>\n",
              "      <td>1875-03-06</td>\n",
              "      <td>England</td>\n",
              "      <td>Scotland</td>\n",
              "      <td>2</td>\n",
              "      <td>2</td>\n",
              "      <td>Friendly</td>\n",
              "      <td>London</td>\n",
              "      <td>England</td>\n",
              "      <td>False</td>\n",
              "      <td>Draw</td>\n",
              "    </tr>\n",
              "    <tr>\n",
              "      <th>4</th>\n",
              "      <td>1876-03-04</td>\n",
              "      <td>Scotland</td>\n",
              "      <td>England</td>\n",
              "      <td>3</td>\n",
              "      <td>0</td>\n",
              "      <td>Friendly</td>\n",
              "      <td>Glasgow</td>\n",
              "      <td>Scotland</td>\n",
              "      <td>False</td>\n",
              "      <td>Win</td>\n",
              "    </tr>\n",
              "  </tbody>\n",
              "</table>\n",
              "</div>"
            ],
            "text/plain": [
              "         date home_team away_team  ...   country  neutral home_status\n",
              "0  1872-11-30  Scotland   England  ...  Scotland    False        Draw\n",
              "1  1873-03-08   England  Scotland  ...   England    False         Win\n",
              "2  1874-03-07  Scotland   England  ...  Scotland    False         Win\n",
              "3  1875-03-06   England  Scotland  ...   England    False        Draw\n",
              "4  1876-03-04  Scotland   England  ...  Scotland    False         Win\n",
              "\n",
              "[5 rows x 10 columns]"
            ]
          },
          "metadata": {
            "tags": []
          },
          "execution_count": 84
        }
      ]
    },
    {
      "cell_type": "code",
      "metadata": {
        "id": "HuN9qhGoe4t-",
        "colab_type": "code",
        "colab": {
          "base_uri": "https://localhost:8080/",
          "height": 237
        },
        "outputId": "895d4ccf-21db-4eae-ed63-65ac0d05fe51"
      },
      "source": [
        "#Creating a column for year only and dropping those before 1993 and 2018(for uniformity) in the results dataframe. \n",
        "#The ranking system started in 1993 rgerefore data befire 1993 is not useful.\n",
        "year = []\n",
        "for row in results['date']:\n",
        "    year.append(int(row[:4]))\n",
        "results ['match_year']= year\n",
        "results_1993=results[results.match_year >=1993]\n",
        "results_2018=results_1993[results_1993.match_year < 2019]\n",
        "\n",
        "years_only=results_2018['match_year']\n",
        "years_only.count()\n",
        "\n",
        "#Extracting the year from the rank date column\n",
        "results_2018['month'] = pd.DatetimeIndex(results_2018['date']).month\n",
        "results_2018.head()\n",
        "\n",
        "results_2018.tail(3)"
      ],
      "execution_count": null,
      "outputs": [
        {
          "output_type": "stream",
          "text": [
            "/usr/local/lib/python3.6/dist-packages/ipykernel_launcher.py:14: SettingWithCopyWarning: \n",
            "A value is trying to be set on a copy of a slice from a DataFrame.\n",
            "Try using .loc[row_indexer,col_indexer] = value instead\n",
            "\n",
            "See the caveats in the documentation: https://pandas.pydata.org/pandas-docs/stable/user_guide/indexing.html#returning-a-view-versus-a-copy\n",
            "  \n"
          ],
          "name": "stderr"
        },
        {
          "output_type": "execute_result",
          "data": {
            "text/html": [
              "<div>\n",
              "<style scoped>\n",
              "    .dataframe tbody tr th:only-of-type {\n",
              "        vertical-align: middle;\n",
              "    }\n",
              "\n",
              "    .dataframe tbody tr th {\n",
              "        vertical-align: top;\n",
              "    }\n",
              "\n",
              "    .dataframe thead th {\n",
              "        text-align: right;\n",
              "    }\n",
              "</style>\n",
              "<table border=\"1\" class=\"dataframe\">\n",
              "  <thead>\n",
              "    <tr style=\"text-align: right;\">\n",
              "      <th></th>\n",
              "      <th>date</th>\n",
              "      <th>home_team</th>\n",
              "      <th>away_team</th>\n",
              "      <th>home_score</th>\n",
              "      <th>away_score</th>\n",
              "      <th>tournament</th>\n",
              "      <th>city</th>\n",
              "      <th>country</th>\n",
              "      <th>neutral</th>\n",
              "      <th>home_status</th>\n",
              "      <th>match_year</th>\n",
              "      <th>month</th>\n",
              "    </tr>\n",
              "  </thead>\n",
              "  <tbody>\n",
              "    <tr>\n",
              "      <th>40348</th>\n",
              "      <td>2018-12-31</td>\n",
              "      <td>Kyrgyzstan</td>\n",
              "      <td>Palestine</td>\n",
              "      <td>2</td>\n",
              "      <td>1</td>\n",
              "      <td>Friendly</td>\n",
              "      <td>Doha</td>\n",
              "      <td>Qatar</td>\n",
              "      <td>True</td>\n",
              "      <td>Win</td>\n",
              "      <td>2018</td>\n",
              "      <td>12</td>\n",
              "    </tr>\n",
              "    <tr>\n",
              "      <th>40349</th>\n",
              "      <td>2018-12-31</td>\n",
              "      <td>Philippines</td>\n",
              "      <td>Vietnam</td>\n",
              "      <td>2</td>\n",
              "      <td>4</td>\n",
              "      <td>Friendly</td>\n",
              "      <td>Doha</td>\n",
              "      <td>Qatar</td>\n",
              "      <td>True</td>\n",
              "      <td>Loss</td>\n",
              "      <td>2018</td>\n",
              "      <td>12</td>\n",
              "    </tr>\n",
              "    <tr>\n",
              "      <th>40350</th>\n",
              "      <td>2018-12-31</td>\n",
              "      <td>Qatar</td>\n",
              "      <td>Iran</td>\n",
              "      <td>1</td>\n",
              "      <td>2</td>\n",
              "      <td>Friendly</td>\n",
              "      <td>Doha</td>\n",
              "      <td>Qatar</td>\n",
              "      <td>False</td>\n",
              "      <td>Loss</td>\n",
              "      <td>2018</td>\n",
              "      <td>12</td>\n",
              "    </tr>\n",
              "  </tbody>\n",
              "</table>\n",
              "</div>"
            ],
            "text/plain": [
              "             date    home_team  away_team  ...  home_status  match_year month\n",
              "40348  2018-12-31   Kyrgyzstan  Palestine  ...          Win        2018    12\n",
              "40349  2018-12-31  Philippines    Vietnam  ...         Loss        2018    12\n",
              "40350  2018-12-31        Qatar       Iran  ...         Loss        2018    12\n",
              "\n",
              "[3 rows x 12 columns]"
            ]
          },
          "metadata": {
            "tags": []
          },
          "execution_count": 85
        }
      ]
    },
    {
      "cell_type": "code",
      "metadata": {
        "id": "3q-APQdwnfh9",
        "colab_type": "code",
        "colab": {}
      },
      "source": [
        "#merging the two dataframes into one dataframe\n",
        "\n",
        "#new=results_2018.merge( ranking,left_on=['country','match_year','month'], right_on=['country_full','match_year','month'],how='inner')\n",
        "#new.drop_duplicates()\n",
        "#new.head()"
      ],
      "execution_count": null,
      "outputs": []
    },
    {
      "cell_type": "code",
      "metadata": {
        "id": "TY88mMLlZPdE",
        "colab_type": "code",
        "colab": {}
      },
      "source": [
        "#df1 = new[new['home_team'] == new['country_full']]\n",
        "#df1.rename(columns={'rank':'home_team_rank'}, inplace=True)\n",
        "#df1"
      ],
      "execution_count": null,
      "outputs": []
    },
    {
      "cell_type": "code",
      "metadata": {
        "id": "OqPX04H_Zfer",
        "colab_type": "code",
        "colab": {}
      },
      "source": [
        "#df2 = new[new['away_team'] == new['country_full']]\n",
        "#df2.rename(columns={'rank':'home_team_rank'}, inplace=True)\n",
        "#df2"
      ],
      "execution_count": null,
      "outputs": []
    },
    {
      "cell_type": "code",
      "metadata": {
        "id": "SIM39DowSbqE",
        "colab_type": "code",
        "colab": {
          "base_uri": "https://localhost:8080/",
          "height": 402
        },
        "outputId": "2b1fae6e-d519-4365-d330-cfbe0ac135c3"
      },
      "source": [
        "#Merging he two dataframes based on the year the match was played and the month to create a new dataframe\n",
        "new2=pd.merge(results_2018, ranking, how = 'left', left_on = ['match_year', 'month'], right_on = ['match_year', 'month'])\n",
        "new2"
      ],
      "execution_count": null,
      "outputs": [
        {
          "output_type": "execute_result",
          "data": {
            "text/html": [
              "<div>\n",
              "<style scoped>\n",
              "    .dataframe tbody tr th:only-of-type {\n",
              "        vertical-align: middle;\n",
              "    }\n",
              "\n",
              "    .dataframe tbody tr th {\n",
              "        vertical-align: top;\n",
              "    }\n",
              "\n",
              "    .dataframe thead th {\n",
              "        text-align: right;\n",
              "    }\n",
              "</style>\n",
              "<table border=\"1\" class=\"dataframe\">\n",
              "  <thead>\n",
              "    <tr style=\"text-align: right;\">\n",
              "      <th></th>\n",
              "      <th>date</th>\n",
              "      <th>home_team</th>\n",
              "      <th>away_team</th>\n",
              "      <th>home_score</th>\n",
              "      <th>away_score</th>\n",
              "      <th>tournament</th>\n",
              "      <th>city</th>\n",
              "      <th>country</th>\n",
              "      <th>neutral</th>\n",
              "      <th>home_status</th>\n",
              "      <th>match_year</th>\n",
              "      <th>month</th>\n",
              "      <th>rank</th>\n",
              "      <th>country_full</th>\n",
              "      <th>rank_date</th>\n",
              "    </tr>\n",
              "  </thead>\n",
              "  <tbody>\n",
              "    <tr>\n",
              "      <th>0</th>\n",
              "      <td>1993-01-01</td>\n",
              "      <td>Ghana</td>\n",
              "      <td>Mali</td>\n",
              "      <td>1</td>\n",
              "      <td>1</td>\n",
              "      <td>Friendly</td>\n",
              "      <td>Libreville</td>\n",
              "      <td>Gabon</td>\n",
              "      <td>True</td>\n",
              "      <td>Draw</td>\n",
              "      <td>1993</td>\n",
              "      <td>1</td>\n",
              "      <td>NaN</td>\n",
              "      <td>NaN</td>\n",
              "      <td>NaN</td>\n",
              "    </tr>\n",
              "    <tr>\n",
              "      <th>1</th>\n",
              "      <td>1993-01-02</td>\n",
              "      <td>Gabon</td>\n",
              "      <td>Burkina Faso</td>\n",
              "      <td>1</td>\n",
              "      <td>1</td>\n",
              "      <td>Friendly</td>\n",
              "      <td>Libreville</td>\n",
              "      <td>Gabon</td>\n",
              "      <td>False</td>\n",
              "      <td>Draw</td>\n",
              "      <td>1993</td>\n",
              "      <td>1</td>\n",
              "      <td>NaN</td>\n",
              "      <td>NaN</td>\n",
              "      <td>NaN</td>\n",
              "    </tr>\n",
              "    <tr>\n",
              "      <th>2</th>\n",
              "      <td>1993-01-02</td>\n",
              "      <td>Kuwait</td>\n",
              "      <td>Lebanon</td>\n",
              "      <td>2</td>\n",
              "      <td>0</td>\n",
              "      <td>Friendly</td>\n",
              "      <td>Kuwait City</td>\n",
              "      <td>Kuwait</td>\n",
              "      <td>False</td>\n",
              "      <td>Win</td>\n",
              "      <td>1993</td>\n",
              "      <td>1</td>\n",
              "      <td>NaN</td>\n",
              "      <td>NaN</td>\n",
              "      <td>NaN</td>\n",
              "    </tr>\n",
              "    <tr>\n",
              "      <th>3</th>\n",
              "      <td>1993-01-03</td>\n",
              "      <td>Burkina Faso</td>\n",
              "      <td>Mali</td>\n",
              "      <td>1</td>\n",
              "      <td>0</td>\n",
              "      <td>Friendly</td>\n",
              "      <td>Libreville</td>\n",
              "      <td>Gabon</td>\n",
              "      <td>True</td>\n",
              "      <td>Win</td>\n",
              "      <td>1993</td>\n",
              "      <td>1</td>\n",
              "      <td>NaN</td>\n",
              "      <td>NaN</td>\n",
              "      <td>NaN</td>\n",
              "    </tr>\n",
              "    <tr>\n",
              "      <th>4</th>\n",
              "      <td>1993-01-03</td>\n",
              "      <td>Gabon</td>\n",
              "      <td>Ghana</td>\n",
              "      <td>2</td>\n",
              "      <td>3</td>\n",
              "      <td>Friendly</td>\n",
              "      <td>Libreville</td>\n",
              "      <td>Gabon</td>\n",
              "      <td>False</td>\n",
              "      <td>Loss</td>\n",
              "      <td>1993</td>\n",
              "      <td>1</td>\n",
              "      <td>NaN</td>\n",
              "      <td>NaN</td>\n",
              "      <td>NaN</td>\n",
              "    </tr>\n",
              "    <tr>\n",
              "      <th>...</th>\n",
              "      <td>...</td>\n",
              "      <td>...</td>\n",
              "      <td>...</td>\n",
              "      <td>...</td>\n",
              "      <td>...</td>\n",
              "      <td>...</td>\n",
              "      <td>...</td>\n",
              "      <td>...</td>\n",
              "      <td>...</td>\n",
              "      <td>...</td>\n",
              "      <td>...</td>\n",
              "      <td>...</td>\n",
              "      <td>...</td>\n",
              "      <td>...</td>\n",
              "      <td>...</td>\n",
              "    </tr>\n",
              "    <tr>\n",
              "      <th>4295911</th>\n",
              "      <td>2018-12-30</td>\n",
              "      <td>Yemen</td>\n",
              "      <td>Syria</td>\n",
              "      <td>0</td>\n",
              "      <td>1</td>\n",
              "      <td>Friendly</td>\n",
              "      <td>Abu Dhabi</td>\n",
              "      <td>United Arab Emirates</td>\n",
              "      <td>True</td>\n",
              "      <td>Loss</td>\n",
              "      <td>2018</td>\n",
              "      <td>12</td>\n",
              "      <td>NaN</td>\n",
              "      <td>NaN</td>\n",
              "      <td>NaN</td>\n",
              "    </tr>\n",
              "    <tr>\n",
              "      <th>4295912</th>\n",
              "      <td>2018-12-31</td>\n",
              "      <td>South Korea</td>\n",
              "      <td>Saudi Arabia</td>\n",
              "      <td>0</td>\n",
              "      <td>0</td>\n",
              "      <td>Friendly</td>\n",
              "      <td>Abu Dhabi</td>\n",
              "      <td>United Arab Emirates</td>\n",
              "      <td>True</td>\n",
              "      <td>Draw</td>\n",
              "      <td>2018</td>\n",
              "      <td>12</td>\n",
              "      <td>NaN</td>\n",
              "      <td>NaN</td>\n",
              "      <td>NaN</td>\n",
              "    </tr>\n",
              "    <tr>\n",
              "      <th>4295913</th>\n",
              "      <td>2018-12-31</td>\n",
              "      <td>Kyrgyzstan</td>\n",
              "      <td>Palestine</td>\n",
              "      <td>2</td>\n",
              "      <td>1</td>\n",
              "      <td>Friendly</td>\n",
              "      <td>Doha</td>\n",
              "      <td>Qatar</td>\n",
              "      <td>True</td>\n",
              "      <td>Win</td>\n",
              "      <td>2018</td>\n",
              "      <td>12</td>\n",
              "      <td>NaN</td>\n",
              "      <td>NaN</td>\n",
              "      <td>NaN</td>\n",
              "    </tr>\n",
              "    <tr>\n",
              "      <th>4295914</th>\n",
              "      <td>2018-12-31</td>\n",
              "      <td>Philippines</td>\n",
              "      <td>Vietnam</td>\n",
              "      <td>2</td>\n",
              "      <td>4</td>\n",
              "      <td>Friendly</td>\n",
              "      <td>Doha</td>\n",
              "      <td>Qatar</td>\n",
              "      <td>True</td>\n",
              "      <td>Loss</td>\n",
              "      <td>2018</td>\n",
              "      <td>12</td>\n",
              "      <td>NaN</td>\n",
              "      <td>NaN</td>\n",
              "      <td>NaN</td>\n",
              "    </tr>\n",
              "    <tr>\n",
              "      <th>4295915</th>\n",
              "      <td>2018-12-31</td>\n",
              "      <td>Qatar</td>\n",
              "      <td>Iran</td>\n",
              "      <td>1</td>\n",
              "      <td>2</td>\n",
              "      <td>Friendly</td>\n",
              "      <td>Doha</td>\n",
              "      <td>Qatar</td>\n",
              "      <td>False</td>\n",
              "      <td>Loss</td>\n",
              "      <td>2018</td>\n",
              "      <td>12</td>\n",
              "      <td>NaN</td>\n",
              "      <td>NaN</td>\n",
              "      <td>NaN</td>\n",
              "    </tr>\n",
              "  </tbody>\n",
              "</table>\n",
              "<p>4295916 rows × 15 columns</p>\n",
              "</div>"
            ],
            "text/plain": [
              "               date     home_team     away_team  ...  rank  country_full rank_date\n",
              "0        1993-01-01         Ghana          Mali  ...   NaN           NaN       NaN\n",
              "1        1993-01-02         Gabon  Burkina Faso  ...   NaN           NaN       NaN\n",
              "2        1993-01-02        Kuwait       Lebanon  ...   NaN           NaN       NaN\n",
              "3        1993-01-03  Burkina Faso          Mali  ...   NaN           NaN       NaN\n",
              "4        1993-01-03         Gabon         Ghana  ...   NaN           NaN       NaN\n",
              "...             ...           ...           ...  ...   ...           ...       ...\n",
              "4295911  2018-12-30         Yemen         Syria  ...   NaN           NaN       NaN\n",
              "4295912  2018-12-31   South Korea  Saudi Arabia  ...   NaN           NaN       NaN\n",
              "4295913  2018-12-31    Kyrgyzstan     Palestine  ...   NaN           NaN       NaN\n",
              "4295914  2018-12-31   Philippines       Vietnam  ...   NaN           NaN       NaN\n",
              "4295915  2018-12-31         Qatar          Iran  ...   NaN           NaN       NaN\n",
              "\n",
              "[4295916 rows x 15 columns]"
            ]
          },
          "metadata": {
            "tags": []
          },
          "execution_count": 89
        }
      ]
    },
    {
      "cell_type": "code",
      "metadata": {
        "id": "UTaIQfL82JkR",
        "colab_type": "code",
        "colab": {}
      },
      "source": [
        "#merged= pd.merge(results,ranking,on='Product_ID',how='outer',indicator=True)\n",
        "\n",
        "#merged=pd.merge(results.drop_duplicates(),ranking,left_on='country',right_on='country_full')\n",
        "#merged\n",
        "\n",
        "\n",
        "#merged = results_2018.merge(ranking, left_on='date', right_on='rank_date')\n",
        "#merged.drop_duplicates()\n",
        "\n",
        "#merge=pd.merge(results_2018,ranking,how='inner',left_on=['date','country'],right_on=['rank_date','country_full'])\n",
        "#merge.head(2)"
      ],
      "execution_count": null,
      "outputs": []
    },
    {
      "cell_type": "code",
      "metadata": {
        "id": "EVT61yg5PUE0",
        "colab_type": "code",
        "colab": {
          "base_uri": "https://localhost:8080/",
          "height": 654
        },
        "outputId": "588e6d29-3154-4283-b606-28659d4fce77"
      },
      "source": [
        "#Creating a new dataframe with the home teams rank and reanaming that column\n",
        "df_home_team_rank = new2[new2['home_team'] == new2['country_full']]\n",
        "df_home_team_rank.rename(columns={'rank':'home_team_rank'}, inplace=True)\n",
        "df_home_team_rank"
      ],
      "execution_count": null,
      "outputs": [
        {
          "output_type": "stream",
          "text": [
            "/usr/local/lib/python3.6/dist-packages/pandas/core/frame.py:4133: SettingWithCopyWarning: \n",
            "A value is trying to be set on a copy of a slice from a DataFrame\n",
            "\n",
            "See the caveats in the documentation: https://pandas.pydata.org/pandas-docs/stable/user_guide/indexing.html#returning-a-view-versus-a-copy\n",
            "  errors=errors,\n"
          ],
          "name": "stderr"
        },
        {
          "output_type": "execute_result",
          "data": {
            "text/html": [
              "<div>\n",
              "<style scoped>\n",
              "    .dataframe tbody tr th:only-of-type {\n",
              "        vertical-align: middle;\n",
              "    }\n",
              "\n",
              "    .dataframe tbody tr th {\n",
              "        vertical-align: top;\n",
              "    }\n",
              "\n",
              "    .dataframe thead th {\n",
              "        text-align: right;\n",
              "    }\n",
              "</style>\n",
              "<table border=\"1\" class=\"dataframe\">\n",
              "  <thead>\n",
              "    <tr style=\"text-align: right;\">\n",
              "      <th></th>\n",
              "      <th>date</th>\n",
              "      <th>home_team</th>\n",
              "      <th>away_team</th>\n",
              "      <th>home_score</th>\n",
              "      <th>away_score</th>\n",
              "      <th>tournament</th>\n",
              "      <th>city</th>\n",
              "      <th>country</th>\n",
              "      <th>neutral</th>\n",
              "      <th>home_status</th>\n",
              "      <th>match_year</th>\n",
              "      <th>month</th>\n",
              "      <th>home_team_rank</th>\n",
              "      <th>country_full</th>\n",
              "      <th>rank_date</th>\n",
              "    </tr>\n",
              "  </thead>\n",
              "  <tbody>\n",
              "    <tr>\n",
              "      <th>567</th>\n",
              "      <td>1993-08-01</td>\n",
              "      <td>Colombia</td>\n",
              "      <td>Paraguay</td>\n",
              "      <td>0</td>\n",
              "      <td>0</td>\n",
              "      <td>FIFA World Cup qualification</td>\n",
              "      <td>Barranquilla</td>\n",
              "      <td>Colombia</td>\n",
              "      <td>False</td>\n",
              "      <td>Draw</td>\n",
              "      <td>1993</td>\n",
              "      <td>8</td>\n",
              "      <td>19.0</td>\n",
              "      <td>Colombia</td>\n",
              "      <td>1993-08-08</td>\n",
              "    </tr>\n",
              "    <tr>\n",
              "      <th>785</th>\n",
              "      <td>1993-08-01</td>\n",
              "      <td>Peru</td>\n",
              "      <td>Argentina</td>\n",
              "      <td>0</td>\n",
              "      <td>1</td>\n",
              "      <td>FIFA World Cup qualification</td>\n",
              "      <td>Lima</td>\n",
              "      <td>Peru</td>\n",
              "      <td>False</td>\n",
              "      <td>Loss</td>\n",
              "      <td>1993</td>\n",
              "      <td>8</td>\n",
              "      <td>70.0</td>\n",
              "      <td>Peru</td>\n",
              "      <td>1993-08-08</td>\n",
              "    </tr>\n",
              "    <tr>\n",
              "      <th>904</th>\n",
              "      <td>1993-08-01</td>\n",
              "      <td>Uruguay</td>\n",
              "      <td>Ecuador</td>\n",
              "      <td>0</td>\n",
              "      <td>0</td>\n",
              "      <td>FIFA World Cup qualification</td>\n",
              "      <td>Montevideo</td>\n",
              "      <td>Uruguay</td>\n",
              "      <td>False</td>\n",
              "      <td>Draw</td>\n",
              "      <td>1993</td>\n",
              "      <td>8</td>\n",
              "      <td>22.0</td>\n",
              "      <td>Uruguay</td>\n",
              "      <td>1993-08-08</td>\n",
              "    </tr>\n",
              "    <tr>\n",
              "      <th>1143</th>\n",
              "      <td>1993-08-01</td>\n",
              "      <td>Venezuela</td>\n",
              "      <td>Brazil</td>\n",
              "      <td>1</td>\n",
              "      <td>5</td>\n",
              "      <td>FIFA World Cup qualification</td>\n",
              "      <td>San Cristóbal</td>\n",
              "      <td>Venezuela</td>\n",
              "      <td>False</td>\n",
              "      <td>Loss</td>\n",
              "      <td>1993</td>\n",
              "      <td>8</td>\n",
              "      <td>94.0</td>\n",
              "      <td>Venezuela</td>\n",
              "      <td>1993-08-08</td>\n",
              "    </tr>\n",
              "    <tr>\n",
              "      <th>1274</th>\n",
              "      <td>1993-08-07</td>\n",
              "      <td>Senegal</td>\n",
              "      <td>Zambia</td>\n",
              "      <td>0</td>\n",
              "      <td>0</td>\n",
              "      <td>FIFA World Cup qualification</td>\n",
              "      <td>Abidjan</td>\n",
              "      <td>Ivory Coast</td>\n",
              "      <td>True</td>\n",
              "      <td>Draw</td>\n",
              "      <td>1993</td>\n",
              "      <td>8</td>\n",
              "      <td>58.0</td>\n",
              "      <td>Senegal</td>\n",
              "      <td>1993-08-08</td>\n",
              "    </tr>\n",
              "    <tr>\n",
              "      <th>...</th>\n",
              "      <td>...</td>\n",
              "      <td>...</td>\n",
              "      <td>...</td>\n",
              "      <td>...</td>\n",
              "      <td>...</td>\n",
              "      <td>...</td>\n",
              "      <td>...</td>\n",
              "      <td>...</td>\n",
              "      <td>...</td>\n",
              "      <td>...</td>\n",
              "      <td>...</td>\n",
              "      <td>...</td>\n",
              "      <td>...</td>\n",
              "      <td>...</td>\n",
              "      <td>...</td>\n",
              "    </tr>\n",
              "    <tr>\n",
              "      <th>4294448</th>\n",
              "      <td>2018-06-28</td>\n",
              "      <td>Senegal</td>\n",
              "      <td>Colombia</td>\n",
              "      <td>0</td>\n",
              "      <td>1</td>\n",
              "      <td>FIFA World Cup</td>\n",
              "      <td>Samara</td>\n",
              "      <td>Russia</td>\n",
              "      <td>True</td>\n",
              "      <td>Loss</td>\n",
              "      <td>2018</td>\n",
              "      <td>6</td>\n",
              "      <td>27.0</td>\n",
              "      <td>Senegal</td>\n",
              "      <td>2018-06-07</td>\n",
              "    </tr>\n",
              "    <tr>\n",
              "      <th>4294687</th>\n",
              "      <td>2018-06-28</td>\n",
              "      <td>Panama</td>\n",
              "      <td>Tunisia</td>\n",
              "      <td>1</td>\n",
              "      <td>2</td>\n",
              "      <td>FIFA World Cup</td>\n",
              "      <td>Saransk</td>\n",
              "      <td>Russia</td>\n",
              "      <td>True</td>\n",
              "      <td>Loss</td>\n",
              "      <td>2018</td>\n",
              "      <td>6</td>\n",
              "      <td>55.0</td>\n",
              "      <td>Panama</td>\n",
              "      <td>2018-06-07</td>\n",
              "    </tr>\n",
              "    <tr>\n",
              "      <th>4294856</th>\n",
              "      <td>2018-06-28</td>\n",
              "      <td>England</td>\n",
              "      <td>Belgium</td>\n",
              "      <td>0</td>\n",
              "      <td>1</td>\n",
              "      <td>FIFA World Cup</td>\n",
              "      <td>Kaliningrad</td>\n",
              "      <td>Russia</td>\n",
              "      <td>True</td>\n",
              "      <td>Loss</td>\n",
              "      <td>2018</td>\n",
              "      <td>6</td>\n",
              "      <td>12.0</td>\n",
              "      <td>England</td>\n",
              "      <td>2018-06-07</td>\n",
              "    </tr>\n",
              "    <tr>\n",
              "      <th>4295061</th>\n",
              "      <td>2018-06-30</td>\n",
              "      <td>France</td>\n",
              "      <td>Argentina</td>\n",
              "      <td>4</td>\n",
              "      <td>3</td>\n",
              "      <td>FIFA World Cup</td>\n",
              "      <td>Kazan</td>\n",
              "      <td>Russia</td>\n",
              "      <td>True</td>\n",
              "      <td>Win</td>\n",
              "      <td>2018</td>\n",
              "      <td>6</td>\n",
              "      <td>7.0</td>\n",
              "      <td>France</td>\n",
              "      <td>2018-06-07</td>\n",
              "    </tr>\n",
              "    <tr>\n",
              "      <th>4295279</th>\n",
              "      <td>2018-06-30</td>\n",
              "      <td>Uruguay</td>\n",
              "      <td>Portugal</td>\n",
              "      <td>2</td>\n",
              "      <td>1</td>\n",
              "      <td>FIFA World Cup</td>\n",
              "      <td>Sochi</td>\n",
              "      <td>Russia</td>\n",
              "      <td>True</td>\n",
              "      <td>Win</td>\n",
              "      <td>2018</td>\n",
              "      <td>6</td>\n",
              "      <td>14.0</td>\n",
              "      <td>Uruguay</td>\n",
              "      <td>2018-06-07</td>\n",
              "    </tr>\n",
              "  </tbody>\n",
              "</table>\n",
              "<p>18609 rows × 15 columns</p>\n",
              "</div>"
            ],
            "text/plain": [
              "               date  home_team  ... country_full   rank_date\n",
              "567      1993-08-01   Colombia  ...     Colombia  1993-08-08\n",
              "785      1993-08-01       Peru  ...         Peru  1993-08-08\n",
              "904      1993-08-01    Uruguay  ...      Uruguay  1993-08-08\n",
              "1143     1993-08-01  Venezuela  ...    Venezuela  1993-08-08\n",
              "1274     1993-08-07    Senegal  ...      Senegal  1993-08-08\n",
              "...             ...        ...  ...          ...         ...\n",
              "4294448  2018-06-28    Senegal  ...      Senegal  2018-06-07\n",
              "4294687  2018-06-28     Panama  ...       Panama  2018-06-07\n",
              "4294856  2018-06-28    England  ...      England  2018-06-07\n",
              "4295061  2018-06-30     France  ...       France  2018-06-07\n",
              "4295279  2018-06-30    Uruguay  ...      Uruguay  2018-06-07\n",
              "\n",
              "[18609 rows x 15 columns]"
            ]
          },
          "metadata": {
            "tags": []
          },
          "execution_count": 91
        }
      ]
    },
    {
      "cell_type": "code",
      "metadata": {
        "id": "ftFQ-5MpR4w-",
        "colab_type": "code",
        "colab": {
          "base_uri": "https://localhost:8080/",
          "height": 654
        },
        "outputId": "6e0c0163-49c9-4ccf-ecde-895efd173a49"
      },
      "source": [
        "#Creating a new dataframe with the away teams rank and reanaming that column\n",
        "df_away_team_rank = new2[new2['away_team'] == new2['country_full']]\n",
        "df_away_team_rank.rename(columns={'rank': 'away_team_rank'}, inplace=True)\n",
        "df_away_team_rank"
      ],
      "execution_count": null,
      "outputs": [
        {
          "output_type": "stream",
          "text": [
            "/usr/local/lib/python3.6/dist-packages/pandas/core/frame.py:4133: SettingWithCopyWarning: \n",
            "A value is trying to be set on a copy of a slice from a DataFrame\n",
            "\n",
            "See the caveats in the documentation: https://pandas.pydata.org/pandas-docs/stable/user_guide/indexing.html#returning-a-view-versus-a-copy\n",
            "  errors=errors,\n"
          ],
          "name": "stderr"
        },
        {
          "output_type": "execute_result",
          "data": {
            "text/html": [
              "<div>\n",
              "<style scoped>\n",
              "    .dataframe tbody tr th:only-of-type {\n",
              "        vertical-align: middle;\n",
              "    }\n",
              "\n",
              "    .dataframe tbody tr th {\n",
              "        vertical-align: top;\n",
              "    }\n",
              "\n",
              "    .dataframe thead th {\n",
              "        text-align: right;\n",
              "    }\n",
              "</style>\n",
              "<table border=\"1\" class=\"dataframe\">\n",
              "  <thead>\n",
              "    <tr style=\"text-align: right;\">\n",
              "      <th></th>\n",
              "      <th>date</th>\n",
              "      <th>home_team</th>\n",
              "      <th>away_team</th>\n",
              "      <th>home_score</th>\n",
              "      <th>away_score</th>\n",
              "      <th>tournament</th>\n",
              "      <th>city</th>\n",
              "      <th>country</th>\n",
              "      <th>neutral</th>\n",
              "      <th>home_status</th>\n",
              "      <th>match_year</th>\n",
              "      <th>month</th>\n",
              "      <th>away_team_rank</th>\n",
              "      <th>country_full</th>\n",
              "      <th>rank_date</th>\n",
              "    </tr>\n",
              "  </thead>\n",
              "  <tbody>\n",
              "    <tr>\n",
              "      <th>615</th>\n",
              "      <td>1993-08-01</td>\n",
              "      <td>Colombia</td>\n",
              "      <td>Paraguay</td>\n",
              "      <td>0</td>\n",
              "      <td>0</td>\n",
              "      <td>FIFA World Cup qualification</td>\n",
              "      <td>Barranquilla</td>\n",
              "      <td>Colombia</td>\n",
              "      <td>False</td>\n",
              "      <td>Draw</td>\n",
              "      <td>1993</td>\n",
              "      <td>8</td>\n",
              "      <td>67.0</td>\n",
              "      <td>Paraguay</td>\n",
              "      <td>1993-08-08</td>\n",
              "    </tr>\n",
              "    <tr>\n",
              "      <th>720</th>\n",
              "      <td>1993-08-01</td>\n",
              "      <td>Peru</td>\n",
              "      <td>Argentina</td>\n",
              "      <td>0</td>\n",
              "      <td>1</td>\n",
              "      <td>FIFA World Cup qualification</td>\n",
              "      <td>Lima</td>\n",
              "      <td>Peru</td>\n",
              "      <td>False</td>\n",
              "      <td>Loss</td>\n",
              "      <td>1993</td>\n",
              "      <td>8</td>\n",
              "      <td>5.0</td>\n",
              "      <td>Argentina</td>\n",
              "      <td>1993-08-08</td>\n",
              "    </tr>\n",
              "    <tr>\n",
              "      <th>917</th>\n",
              "      <td>1993-08-01</td>\n",
              "      <td>Uruguay</td>\n",
              "      <td>Ecuador</td>\n",
              "      <td>0</td>\n",
              "      <td>0</td>\n",
              "      <td>FIFA World Cup qualification</td>\n",
              "      <td>Montevideo</td>\n",
              "      <td>Uruguay</td>\n",
              "      <td>False</td>\n",
              "      <td>Draw</td>\n",
              "      <td>1993</td>\n",
              "      <td>8</td>\n",
              "      <td>35.0</td>\n",
              "      <td>Ecuador</td>\n",
              "      <td>1993-08-08</td>\n",
              "    </tr>\n",
              "    <tr>\n",
              "      <th>1057</th>\n",
              "      <td>1993-08-01</td>\n",
              "      <td>Venezuela</td>\n",
              "      <td>Brazil</td>\n",
              "      <td>1</td>\n",
              "      <td>5</td>\n",
              "      <td>FIFA World Cup qualification</td>\n",
              "      <td>San Cristóbal</td>\n",
              "      <td>Venezuela</td>\n",
              "      <td>False</td>\n",
              "      <td>Loss</td>\n",
              "      <td>1993</td>\n",
              "      <td>8</td>\n",
              "      <td>8.0</td>\n",
              "      <td>Brazil</td>\n",
              "      <td>1993-08-08</td>\n",
              "    </tr>\n",
              "    <tr>\n",
              "      <th>1241</th>\n",
              "      <td>1993-08-07</td>\n",
              "      <td>Senegal</td>\n",
              "      <td>Zambia</td>\n",
              "      <td>0</td>\n",
              "      <td>0</td>\n",
              "      <td>FIFA World Cup qualification</td>\n",
              "      <td>Abidjan</td>\n",
              "      <td>Ivory Coast</td>\n",
              "      <td>True</td>\n",
              "      <td>Draw</td>\n",
              "      <td>1993</td>\n",
              "      <td>8</td>\n",
              "      <td>25.0</td>\n",
              "      <td>Zambia</td>\n",
              "      <td>1993-08-08</td>\n",
              "    </tr>\n",
              "    <tr>\n",
              "      <th>...</th>\n",
              "      <td>...</td>\n",
              "      <td>...</td>\n",
              "      <td>...</td>\n",
              "      <td>...</td>\n",
              "      <td>...</td>\n",
              "      <td>...</td>\n",
              "      <td>...</td>\n",
              "      <td>...</td>\n",
              "      <td>...</td>\n",
              "      <td>...</td>\n",
              "      <td>...</td>\n",
              "      <td>...</td>\n",
              "      <td>...</td>\n",
              "      <td>...</td>\n",
              "      <td>...</td>\n",
              "    </tr>\n",
              "    <tr>\n",
              "      <th>4294437</th>\n",
              "      <td>2018-06-28</td>\n",
              "      <td>Senegal</td>\n",
              "      <td>Colombia</td>\n",
              "      <td>0</td>\n",
              "      <td>1</td>\n",
              "      <td>FIFA World Cup</td>\n",
              "      <td>Samara</td>\n",
              "      <td>Russia</td>\n",
              "      <td>True</td>\n",
              "      <td>Loss</td>\n",
              "      <td>2018</td>\n",
              "      <td>6</td>\n",
              "      <td>16.0</td>\n",
              "      <td>Colombia</td>\n",
              "      <td>2018-06-07</td>\n",
              "    </tr>\n",
              "    <tr>\n",
              "      <th>4294653</th>\n",
              "      <td>2018-06-28</td>\n",
              "      <td>Panama</td>\n",
              "      <td>Tunisia</td>\n",
              "      <td>1</td>\n",
              "      <td>2</td>\n",
              "      <td>FIFA World Cup</td>\n",
              "      <td>Saransk</td>\n",
              "      <td>Russia</td>\n",
              "      <td>True</td>\n",
              "      <td>Loss</td>\n",
              "      <td>2018</td>\n",
              "      <td>6</td>\n",
              "      <td>21.0</td>\n",
              "      <td>Tunisia</td>\n",
              "      <td>2018-06-07</td>\n",
              "    </tr>\n",
              "    <tr>\n",
              "      <th>4294846</th>\n",
              "      <td>2018-06-28</td>\n",
              "      <td>England</td>\n",
              "      <td>Belgium</td>\n",
              "      <td>0</td>\n",
              "      <td>1</td>\n",
              "      <td>FIFA World Cup</td>\n",
              "      <td>Kaliningrad</td>\n",
              "      <td>Russia</td>\n",
              "      <td>True</td>\n",
              "      <td>Loss</td>\n",
              "      <td>2018</td>\n",
              "      <td>6</td>\n",
              "      <td>3.0</td>\n",
              "      <td>Belgium</td>\n",
              "      <td>2018-06-07</td>\n",
              "    </tr>\n",
              "    <tr>\n",
              "      <th>4295059</th>\n",
              "      <td>2018-06-30</td>\n",
              "      <td>France</td>\n",
              "      <td>Argentina</td>\n",
              "      <td>4</td>\n",
              "      <td>3</td>\n",
              "      <td>FIFA World Cup</td>\n",
              "      <td>Kazan</td>\n",
              "      <td>Russia</td>\n",
              "      <td>True</td>\n",
              "      <td>Win</td>\n",
              "      <td>2018</td>\n",
              "      <td>6</td>\n",
              "      <td>5.0</td>\n",
              "      <td>Argentina</td>\n",
              "      <td>2018-06-07</td>\n",
              "    </tr>\n",
              "    <tr>\n",
              "      <th>4295269</th>\n",
              "      <td>2018-06-30</td>\n",
              "      <td>Uruguay</td>\n",
              "      <td>Portugal</td>\n",
              "      <td>2</td>\n",
              "      <td>1</td>\n",
              "      <td>FIFA World Cup</td>\n",
              "      <td>Sochi</td>\n",
              "      <td>Russia</td>\n",
              "      <td>True</td>\n",
              "      <td>Win</td>\n",
              "      <td>2018</td>\n",
              "      <td>6</td>\n",
              "      <td>4.0</td>\n",
              "      <td>Portugal</td>\n",
              "      <td>2018-06-07</td>\n",
              "    </tr>\n",
              "  </tbody>\n",
              "</table>\n",
              "<p>18526 rows × 15 columns</p>\n",
              "</div>"
            ],
            "text/plain": [
              "               date  home_team  ... country_full   rank_date\n",
              "615      1993-08-01   Colombia  ...     Paraguay  1993-08-08\n",
              "720      1993-08-01       Peru  ...    Argentina  1993-08-08\n",
              "917      1993-08-01    Uruguay  ...      Ecuador  1993-08-08\n",
              "1057     1993-08-01  Venezuela  ...       Brazil  1993-08-08\n",
              "1241     1993-08-07    Senegal  ...       Zambia  1993-08-08\n",
              "...             ...        ...  ...          ...         ...\n",
              "4294437  2018-06-28    Senegal  ...     Colombia  2018-06-07\n",
              "4294653  2018-06-28     Panama  ...      Tunisia  2018-06-07\n",
              "4294846  2018-06-28    England  ...      Belgium  2018-06-07\n",
              "4295059  2018-06-30     France  ...    Argentina  2018-06-07\n",
              "4295269  2018-06-30    Uruguay  ...     Portugal  2018-06-07\n",
              "\n",
              "[18526 rows x 15 columns]"
            ]
          },
          "metadata": {
            "tags": []
          },
          "execution_count": 92
        }
      ]
    },
    {
      "cell_type": "code",
      "metadata": {
        "id": "klBhc8R7WSxN",
        "colab_type": "code",
        "colab": {
          "base_uri": "https://localhost:8080/",
          "height": 538
        },
        "outputId": "6dd3c71e-7e62-4661-f5bd-b041e661da2d"
      },
      "source": [
        "#Merging the two dataframes with the home team and away team rank\n",
        "#df1 = pd.concat(([df_home_team_rank, df_away_team_rank], axis=1, join='inner'))\n",
        "#df1.drop_duplicates()\n",
        "#df1.count()\n",
        "\n",
        "new=df_home_team_rank.merge( df_away_team_rank,left_on=['country'], right_on=['country_full'],how='left')\n",
        "new.drop_duplicates()\n",
        "new.head()\n",
        "new.count()"
      ],
      "execution_count": null,
      "outputs": [
        {
          "output_type": "execute_result",
          "data": {
            "text/plain": [
              "date_x            2062036\n",
              "home_team_x       2062036\n",
              "away_team_x       2062036\n",
              "home_score_x      2062036\n",
              "away_score_x      2062036\n",
              "tournament_x      2062036\n",
              "city_x            2062036\n",
              "country_x         2062036\n",
              "neutral_x         2062036\n",
              "home_status_x     2062036\n",
              "match_year_x      2062036\n",
              "month_x           2062036\n",
              "home_team_rank    2062036\n",
              "country_full_x    2062036\n",
              "rank_date_x       2062036\n",
              "date_y            2061223\n",
              "home_team_y       2061223\n",
              "away_team_y       2061223\n",
              "home_score_y      2061223\n",
              "away_score_y      2061223\n",
              "tournament_y      2061223\n",
              "city_y            2061223\n",
              "country_y         2061223\n",
              "neutral_y         2061223\n",
              "home_status_y     2061223\n",
              "match_year_y      2061223\n",
              "month_y           2061223\n",
              "away_team_rank    2061223\n",
              "country_full_y    2061223\n",
              "rank_date_y       2061223\n",
              "dtype: int64"
            ]
          },
          "metadata": {
            "tags": []
          },
          "execution_count": 93
        }
      ]
    },
    {
      "cell_type": "code",
      "metadata": {
        "id": "abrs22rqaJ-3",
        "colab_type": "code",
        "colab": {
          "base_uri": "https://localhost:8080/",
          "height": 674
        },
        "outputId": "ad23380d-9271-4849-e45a-9de0d049f36e"
      },
      "source": [
        "#merging the dataframes with the home team and away team ranks into one dataframe\n",
        "result= pd.merge(df_home_team_rank, df_away_team_rank, how='left',on=['home_team','away_team', 'home_status',\n",
        "                                                                        'match_year', 'month','tournament',\n",
        "                                                                        'home_score', 'away_score','neutral', 'city', 'country'])                                                     \n",
        "result.drop_duplicates()"
      ],
      "execution_count": null,
      "outputs": [
        {
          "output_type": "execute_result",
          "data": {
            "text/html": [
              "<div>\n",
              "<style scoped>\n",
              "    .dataframe tbody tr th:only-of-type {\n",
              "        vertical-align: middle;\n",
              "    }\n",
              "\n",
              "    .dataframe tbody tr th {\n",
              "        vertical-align: top;\n",
              "    }\n",
              "\n",
              "    .dataframe thead th {\n",
              "        text-align: right;\n",
              "    }\n",
              "</style>\n",
              "<table border=\"1\" class=\"dataframe\">\n",
              "  <thead>\n",
              "    <tr style=\"text-align: right;\">\n",
              "      <th></th>\n",
              "      <th>date_x</th>\n",
              "      <th>home_team</th>\n",
              "      <th>away_team</th>\n",
              "      <th>home_score</th>\n",
              "      <th>away_score</th>\n",
              "      <th>tournament</th>\n",
              "      <th>city</th>\n",
              "      <th>country</th>\n",
              "      <th>neutral</th>\n",
              "      <th>home_status</th>\n",
              "      <th>match_year</th>\n",
              "      <th>month</th>\n",
              "      <th>home_team_rank</th>\n",
              "      <th>country_full_x</th>\n",
              "      <th>rank_date_x</th>\n",
              "      <th>date_y</th>\n",
              "      <th>away_team_rank</th>\n",
              "      <th>country_full_y</th>\n",
              "      <th>rank_date_y</th>\n",
              "    </tr>\n",
              "  </thead>\n",
              "  <tbody>\n",
              "    <tr>\n",
              "      <th>0</th>\n",
              "      <td>1993-08-01</td>\n",
              "      <td>Colombia</td>\n",
              "      <td>Paraguay</td>\n",
              "      <td>0</td>\n",
              "      <td>0</td>\n",
              "      <td>FIFA World Cup qualification</td>\n",
              "      <td>Barranquilla</td>\n",
              "      <td>Colombia</td>\n",
              "      <td>False</td>\n",
              "      <td>Draw</td>\n",
              "      <td>1993</td>\n",
              "      <td>8</td>\n",
              "      <td>19.0</td>\n",
              "      <td>Colombia</td>\n",
              "      <td>1993-08-08</td>\n",
              "      <td>1993-08-01</td>\n",
              "      <td>67.0</td>\n",
              "      <td>Paraguay</td>\n",
              "      <td>1993-08-08</td>\n",
              "    </tr>\n",
              "    <tr>\n",
              "      <th>1</th>\n",
              "      <td>1993-08-01</td>\n",
              "      <td>Peru</td>\n",
              "      <td>Argentina</td>\n",
              "      <td>0</td>\n",
              "      <td>1</td>\n",
              "      <td>FIFA World Cup qualification</td>\n",
              "      <td>Lima</td>\n",
              "      <td>Peru</td>\n",
              "      <td>False</td>\n",
              "      <td>Loss</td>\n",
              "      <td>1993</td>\n",
              "      <td>8</td>\n",
              "      <td>70.0</td>\n",
              "      <td>Peru</td>\n",
              "      <td>1993-08-08</td>\n",
              "      <td>1993-08-01</td>\n",
              "      <td>5.0</td>\n",
              "      <td>Argentina</td>\n",
              "      <td>1993-08-08</td>\n",
              "    </tr>\n",
              "    <tr>\n",
              "      <th>2</th>\n",
              "      <td>1993-08-01</td>\n",
              "      <td>Uruguay</td>\n",
              "      <td>Ecuador</td>\n",
              "      <td>0</td>\n",
              "      <td>0</td>\n",
              "      <td>FIFA World Cup qualification</td>\n",
              "      <td>Montevideo</td>\n",
              "      <td>Uruguay</td>\n",
              "      <td>False</td>\n",
              "      <td>Draw</td>\n",
              "      <td>1993</td>\n",
              "      <td>8</td>\n",
              "      <td>22.0</td>\n",
              "      <td>Uruguay</td>\n",
              "      <td>1993-08-08</td>\n",
              "      <td>1993-08-01</td>\n",
              "      <td>35.0</td>\n",
              "      <td>Ecuador</td>\n",
              "      <td>1993-08-08</td>\n",
              "    </tr>\n",
              "    <tr>\n",
              "      <th>3</th>\n",
              "      <td>1993-08-01</td>\n",
              "      <td>Venezuela</td>\n",
              "      <td>Brazil</td>\n",
              "      <td>1</td>\n",
              "      <td>5</td>\n",
              "      <td>FIFA World Cup qualification</td>\n",
              "      <td>San Cristóbal</td>\n",
              "      <td>Venezuela</td>\n",
              "      <td>False</td>\n",
              "      <td>Loss</td>\n",
              "      <td>1993</td>\n",
              "      <td>8</td>\n",
              "      <td>94.0</td>\n",
              "      <td>Venezuela</td>\n",
              "      <td>1993-08-08</td>\n",
              "      <td>1993-08-01</td>\n",
              "      <td>8.0</td>\n",
              "      <td>Brazil</td>\n",
              "      <td>1993-08-08</td>\n",
              "    </tr>\n",
              "    <tr>\n",
              "      <th>4</th>\n",
              "      <td>1993-08-07</td>\n",
              "      <td>Senegal</td>\n",
              "      <td>Zambia</td>\n",
              "      <td>0</td>\n",
              "      <td>0</td>\n",
              "      <td>FIFA World Cup qualification</td>\n",
              "      <td>Abidjan</td>\n",
              "      <td>Ivory Coast</td>\n",
              "      <td>True</td>\n",
              "      <td>Draw</td>\n",
              "      <td>1993</td>\n",
              "      <td>8</td>\n",
              "      <td>58.0</td>\n",
              "      <td>Senegal</td>\n",
              "      <td>1993-08-08</td>\n",
              "      <td>1993-08-07</td>\n",
              "      <td>25.0</td>\n",
              "      <td>Zambia</td>\n",
              "      <td>1993-08-08</td>\n",
              "    </tr>\n",
              "    <tr>\n",
              "      <th>...</th>\n",
              "      <td>...</td>\n",
              "      <td>...</td>\n",
              "      <td>...</td>\n",
              "      <td>...</td>\n",
              "      <td>...</td>\n",
              "      <td>...</td>\n",
              "      <td>...</td>\n",
              "      <td>...</td>\n",
              "      <td>...</td>\n",
              "      <td>...</td>\n",
              "      <td>...</td>\n",
              "      <td>...</td>\n",
              "      <td>...</td>\n",
              "      <td>...</td>\n",
              "      <td>...</td>\n",
              "      <td>...</td>\n",
              "      <td>...</td>\n",
              "      <td>...</td>\n",
              "      <td>...</td>\n",
              "    </tr>\n",
              "    <tr>\n",
              "      <th>18767</th>\n",
              "      <td>2018-06-28</td>\n",
              "      <td>Senegal</td>\n",
              "      <td>Colombia</td>\n",
              "      <td>0</td>\n",
              "      <td>1</td>\n",
              "      <td>FIFA World Cup</td>\n",
              "      <td>Samara</td>\n",
              "      <td>Russia</td>\n",
              "      <td>True</td>\n",
              "      <td>Loss</td>\n",
              "      <td>2018</td>\n",
              "      <td>6</td>\n",
              "      <td>27.0</td>\n",
              "      <td>Senegal</td>\n",
              "      <td>2018-06-07</td>\n",
              "      <td>2018-06-28</td>\n",
              "      <td>16.0</td>\n",
              "      <td>Colombia</td>\n",
              "      <td>2018-06-07</td>\n",
              "    </tr>\n",
              "    <tr>\n",
              "      <th>18768</th>\n",
              "      <td>2018-06-28</td>\n",
              "      <td>Panama</td>\n",
              "      <td>Tunisia</td>\n",
              "      <td>1</td>\n",
              "      <td>2</td>\n",
              "      <td>FIFA World Cup</td>\n",
              "      <td>Saransk</td>\n",
              "      <td>Russia</td>\n",
              "      <td>True</td>\n",
              "      <td>Loss</td>\n",
              "      <td>2018</td>\n",
              "      <td>6</td>\n",
              "      <td>55.0</td>\n",
              "      <td>Panama</td>\n",
              "      <td>2018-06-07</td>\n",
              "      <td>2018-06-28</td>\n",
              "      <td>21.0</td>\n",
              "      <td>Tunisia</td>\n",
              "      <td>2018-06-07</td>\n",
              "    </tr>\n",
              "    <tr>\n",
              "      <th>18769</th>\n",
              "      <td>2018-06-28</td>\n",
              "      <td>England</td>\n",
              "      <td>Belgium</td>\n",
              "      <td>0</td>\n",
              "      <td>1</td>\n",
              "      <td>FIFA World Cup</td>\n",
              "      <td>Kaliningrad</td>\n",
              "      <td>Russia</td>\n",
              "      <td>True</td>\n",
              "      <td>Loss</td>\n",
              "      <td>2018</td>\n",
              "      <td>6</td>\n",
              "      <td>12.0</td>\n",
              "      <td>England</td>\n",
              "      <td>2018-06-07</td>\n",
              "      <td>2018-06-28</td>\n",
              "      <td>3.0</td>\n",
              "      <td>Belgium</td>\n",
              "      <td>2018-06-07</td>\n",
              "    </tr>\n",
              "    <tr>\n",
              "      <th>18770</th>\n",
              "      <td>2018-06-30</td>\n",
              "      <td>France</td>\n",
              "      <td>Argentina</td>\n",
              "      <td>4</td>\n",
              "      <td>3</td>\n",
              "      <td>FIFA World Cup</td>\n",
              "      <td>Kazan</td>\n",
              "      <td>Russia</td>\n",
              "      <td>True</td>\n",
              "      <td>Win</td>\n",
              "      <td>2018</td>\n",
              "      <td>6</td>\n",
              "      <td>7.0</td>\n",
              "      <td>France</td>\n",
              "      <td>2018-06-07</td>\n",
              "      <td>2018-06-30</td>\n",
              "      <td>5.0</td>\n",
              "      <td>Argentina</td>\n",
              "      <td>2018-06-07</td>\n",
              "    </tr>\n",
              "    <tr>\n",
              "      <th>18771</th>\n",
              "      <td>2018-06-30</td>\n",
              "      <td>Uruguay</td>\n",
              "      <td>Portugal</td>\n",
              "      <td>2</td>\n",
              "      <td>1</td>\n",
              "      <td>FIFA World Cup</td>\n",
              "      <td>Sochi</td>\n",
              "      <td>Russia</td>\n",
              "      <td>True</td>\n",
              "      <td>Win</td>\n",
              "      <td>2018</td>\n",
              "      <td>6</td>\n",
              "      <td>14.0</td>\n",
              "      <td>Uruguay</td>\n",
              "      <td>2018-06-07</td>\n",
              "      <td>2018-06-30</td>\n",
              "      <td>4.0</td>\n",
              "      <td>Portugal</td>\n",
              "      <td>2018-06-07</td>\n",
              "    </tr>\n",
              "  </tbody>\n",
              "</table>\n",
              "<p>18733 rows × 19 columns</p>\n",
              "</div>"
            ],
            "text/plain": [
              "           date_x  home_team  ... country_full_y  rank_date_y\n",
              "0      1993-08-01   Colombia  ...       Paraguay   1993-08-08\n",
              "1      1993-08-01       Peru  ...      Argentina   1993-08-08\n",
              "2      1993-08-01    Uruguay  ...        Ecuador   1993-08-08\n",
              "3      1993-08-01  Venezuela  ...         Brazil   1993-08-08\n",
              "4      1993-08-07    Senegal  ...         Zambia   1993-08-08\n",
              "...           ...        ...  ...            ...          ...\n",
              "18767  2018-06-28    Senegal  ...       Colombia   2018-06-07\n",
              "18768  2018-06-28     Panama  ...        Tunisia   2018-06-07\n",
              "18769  2018-06-28    England  ...        Belgium   2018-06-07\n",
              "18770  2018-06-30     France  ...      Argentina   2018-06-07\n",
              "18771  2018-06-30    Uruguay  ...       Portugal   2018-06-07\n",
              "\n",
              "[18733 rows x 19 columns]"
            ]
          },
          "metadata": {
            "tags": []
          },
          "execution_count": 94
        }
      ]
    },
    {
      "cell_type": "code",
      "metadata": {
        "id": "a_U3rQ8FY5iS",
        "colab_type": "code",
        "colab": {}
      },
      "source": [
        "#dropping the rows with null values for uniformity \n",
        "#result.dropna(axis=0,subset=[''])\n"
      ],
      "execution_count": null,
      "outputs": []
    },
    {
      "cell_type": "code",
      "metadata": {
        "id": "jBFEySKPLcnt",
        "colab_type": "code",
        "colab": {
          "base_uri": "https://localhost:8080/",
          "height": 402
        },
        "outputId": "aeba1042-dbcb-474d-f158-7712b65feb39"
      },
      "source": [
        "#picking the columns we need\n",
        "final=result[['home_team','home_score','away_team', 'away_score','tournament','match_year','home_team_rank','away_team_rank','neutral','home_status']]\n",
        "final"
      ],
      "execution_count": null,
      "outputs": [
        {
          "output_type": "execute_result",
          "data": {
            "text/html": [
              "<div>\n",
              "<style scoped>\n",
              "    .dataframe tbody tr th:only-of-type {\n",
              "        vertical-align: middle;\n",
              "    }\n",
              "\n",
              "    .dataframe tbody tr th {\n",
              "        vertical-align: top;\n",
              "    }\n",
              "\n",
              "    .dataframe thead th {\n",
              "        text-align: right;\n",
              "    }\n",
              "</style>\n",
              "<table border=\"1\" class=\"dataframe\">\n",
              "  <thead>\n",
              "    <tr style=\"text-align: right;\">\n",
              "      <th></th>\n",
              "      <th>home_team</th>\n",
              "      <th>home_score</th>\n",
              "      <th>away_team</th>\n",
              "      <th>away_score</th>\n",
              "      <th>tournament</th>\n",
              "      <th>match_year</th>\n",
              "      <th>home_team_rank</th>\n",
              "      <th>away_team_rank</th>\n",
              "      <th>neutral</th>\n",
              "      <th>home_status</th>\n",
              "    </tr>\n",
              "  </thead>\n",
              "  <tbody>\n",
              "    <tr>\n",
              "      <th>0</th>\n",
              "      <td>Colombia</td>\n",
              "      <td>0</td>\n",
              "      <td>Paraguay</td>\n",
              "      <td>0</td>\n",
              "      <td>FIFA World Cup qualification</td>\n",
              "      <td>1993</td>\n",
              "      <td>19.0</td>\n",
              "      <td>67.0</td>\n",
              "      <td>False</td>\n",
              "      <td>Draw</td>\n",
              "    </tr>\n",
              "    <tr>\n",
              "      <th>1</th>\n",
              "      <td>Peru</td>\n",
              "      <td>0</td>\n",
              "      <td>Argentina</td>\n",
              "      <td>1</td>\n",
              "      <td>FIFA World Cup qualification</td>\n",
              "      <td>1993</td>\n",
              "      <td>70.0</td>\n",
              "      <td>5.0</td>\n",
              "      <td>False</td>\n",
              "      <td>Loss</td>\n",
              "    </tr>\n",
              "    <tr>\n",
              "      <th>2</th>\n",
              "      <td>Uruguay</td>\n",
              "      <td>0</td>\n",
              "      <td>Ecuador</td>\n",
              "      <td>0</td>\n",
              "      <td>FIFA World Cup qualification</td>\n",
              "      <td>1993</td>\n",
              "      <td>22.0</td>\n",
              "      <td>35.0</td>\n",
              "      <td>False</td>\n",
              "      <td>Draw</td>\n",
              "    </tr>\n",
              "    <tr>\n",
              "      <th>3</th>\n",
              "      <td>Venezuela</td>\n",
              "      <td>1</td>\n",
              "      <td>Brazil</td>\n",
              "      <td>5</td>\n",
              "      <td>FIFA World Cup qualification</td>\n",
              "      <td>1993</td>\n",
              "      <td>94.0</td>\n",
              "      <td>8.0</td>\n",
              "      <td>False</td>\n",
              "      <td>Loss</td>\n",
              "    </tr>\n",
              "    <tr>\n",
              "      <th>4</th>\n",
              "      <td>Senegal</td>\n",
              "      <td>0</td>\n",
              "      <td>Zambia</td>\n",
              "      <td>0</td>\n",
              "      <td>FIFA World Cup qualification</td>\n",
              "      <td>1993</td>\n",
              "      <td>58.0</td>\n",
              "      <td>25.0</td>\n",
              "      <td>True</td>\n",
              "      <td>Draw</td>\n",
              "    </tr>\n",
              "    <tr>\n",
              "      <th>...</th>\n",
              "      <td>...</td>\n",
              "      <td>...</td>\n",
              "      <td>...</td>\n",
              "      <td>...</td>\n",
              "      <td>...</td>\n",
              "      <td>...</td>\n",
              "      <td>...</td>\n",
              "      <td>...</td>\n",
              "      <td>...</td>\n",
              "      <td>...</td>\n",
              "    </tr>\n",
              "    <tr>\n",
              "      <th>18767</th>\n",
              "      <td>Senegal</td>\n",
              "      <td>0</td>\n",
              "      <td>Colombia</td>\n",
              "      <td>1</td>\n",
              "      <td>FIFA World Cup</td>\n",
              "      <td>2018</td>\n",
              "      <td>27.0</td>\n",
              "      <td>16.0</td>\n",
              "      <td>True</td>\n",
              "      <td>Loss</td>\n",
              "    </tr>\n",
              "    <tr>\n",
              "      <th>18768</th>\n",
              "      <td>Panama</td>\n",
              "      <td>1</td>\n",
              "      <td>Tunisia</td>\n",
              "      <td>2</td>\n",
              "      <td>FIFA World Cup</td>\n",
              "      <td>2018</td>\n",
              "      <td>55.0</td>\n",
              "      <td>21.0</td>\n",
              "      <td>True</td>\n",
              "      <td>Loss</td>\n",
              "    </tr>\n",
              "    <tr>\n",
              "      <th>18769</th>\n",
              "      <td>England</td>\n",
              "      <td>0</td>\n",
              "      <td>Belgium</td>\n",
              "      <td>1</td>\n",
              "      <td>FIFA World Cup</td>\n",
              "      <td>2018</td>\n",
              "      <td>12.0</td>\n",
              "      <td>3.0</td>\n",
              "      <td>True</td>\n",
              "      <td>Loss</td>\n",
              "    </tr>\n",
              "    <tr>\n",
              "      <th>18770</th>\n",
              "      <td>France</td>\n",
              "      <td>4</td>\n",
              "      <td>Argentina</td>\n",
              "      <td>3</td>\n",
              "      <td>FIFA World Cup</td>\n",
              "      <td>2018</td>\n",
              "      <td>7.0</td>\n",
              "      <td>5.0</td>\n",
              "      <td>True</td>\n",
              "      <td>Win</td>\n",
              "    </tr>\n",
              "    <tr>\n",
              "      <th>18771</th>\n",
              "      <td>Uruguay</td>\n",
              "      <td>2</td>\n",
              "      <td>Portugal</td>\n",
              "      <td>1</td>\n",
              "      <td>FIFA World Cup</td>\n",
              "      <td>2018</td>\n",
              "      <td>14.0</td>\n",
              "      <td>4.0</td>\n",
              "      <td>True</td>\n",
              "      <td>Win</td>\n",
              "    </tr>\n",
              "  </tbody>\n",
              "</table>\n",
              "<p>18772 rows × 10 columns</p>\n",
              "</div>"
            ],
            "text/plain": [
              "       home_team  home_score  away_team  ...  away_team_rank neutral  home_status\n",
              "0       Colombia           0   Paraguay  ...            67.0   False         Draw\n",
              "1           Peru           0  Argentina  ...             5.0   False         Loss\n",
              "2        Uruguay           0    Ecuador  ...            35.0   False         Draw\n",
              "3      Venezuela           1     Brazil  ...             8.0   False         Loss\n",
              "4        Senegal           0     Zambia  ...            25.0    True         Draw\n",
              "...          ...         ...        ...  ...             ...     ...          ...\n",
              "18767    Senegal           0   Colombia  ...            16.0    True         Loss\n",
              "18768     Panama           1    Tunisia  ...            21.0    True         Loss\n",
              "18769    England           0    Belgium  ...             3.0    True         Loss\n",
              "18770     France           4  Argentina  ...             5.0    True          Win\n",
              "18771    Uruguay           2   Portugal  ...             4.0    True          Win\n",
              "\n",
              "[18772 rows x 10 columns]"
            ]
          },
          "metadata": {
            "tags": []
          },
          "execution_count": 96
        }
      ]
    },
    {
      "cell_type": "markdown",
      "metadata": {
        "id": "TsYSZlCHo0be",
        "colab_type": "text"
      },
      "source": [
        "The useful columns include:\n",
        "- home team name: Its is the name of the home team where the game wsa played.\n",
        "- home team score: It is the score the home team got at the end of a full match will be used in modelling.\n",
        "- away team name: it is the name if the away team that was playing against the home team\n",
        "- away team score: the score of the away team at the end of the full match\n",
        "tournamnet\n",
        "- match year: the year the game was played. It is usefull as the different teams have different ranks iver the years\n",
        "home team rank: the rank of the home team in tthat year. Maybe the higher the ranks the better the team olayed and more goals they scored.\n",
        "-away team rank: the rank of the away team in that year. Maybe the higher then ranks the better the team played and more goals they scored.\n",
        "- netral: whether the game was played in a neutral venue or not. It affects the outcomes of the match as studies have foudn out that the home team tends to do better (win) as the spectators put a lot of pressure on the referree to favor the home team\n",
        "-home status: whether the home team lost won or drew the game"
      ]
    },
    {
      "cell_type": "code",
      "metadata": {
        "id": "kIrU2KyW1Ump",
        "colab_type": "code",
        "colab": {
          "base_uri": "https://localhost:8080/",
          "height": 202
        },
        "outputId": "8e857e4b-2190-44f5-d805-b301153d8786"
      },
      "source": [
        "#Checking for null vaues\n",
        "final.isnull().sum()"
      ],
      "execution_count": null,
      "outputs": [
        {
          "output_type": "execute_result",
          "data": {
            "text/plain": [
              "home_team            0\n",
              "home_score           0\n",
              "away_team            0\n",
              "away_score           0\n",
              "tournament           0\n",
              "match_year           0\n",
              "home_team_rank       0\n",
              "away_team_rank    1773\n",
              "neutral              0\n",
              "home_status          0\n",
              "dtype: int64"
            ]
          },
          "metadata": {
            "tags": []
          },
          "execution_count": 97
        }
      ]
    },
    {
      "cell_type": "code",
      "metadata": {
        "id": "svN8WBSP2NJq",
        "colab_type": "code",
        "colab": {
          "base_uri": "https://localhost:8080/",
          "height": 402
        },
        "outputId": "7c72bddb-03d3-45c4-ff40-0dfc586f4266"
      },
      "source": [
        "final = final.dropna(axis=0, subset=['away_team_rank'])\n",
        "final"
      ],
      "execution_count": null,
      "outputs": [
        {
          "output_type": "execute_result",
          "data": {
            "text/html": [
              "<div>\n",
              "<style scoped>\n",
              "    .dataframe tbody tr th:only-of-type {\n",
              "        vertical-align: middle;\n",
              "    }\n",
              "\n",
              "    .dataframe tbody tr th {\n",
              "        vertical-align: top;\n",
              "    }\n",
              "\n",
              "    .dataframe thead th {\n",
              "        text-align: right;\n",
              "    }\n",
              "</style>\n",
              "<table border=\"1\" class=\"dataframe\">\n",
              "  <thead>\n",
              "    <tr style=\"text-align: right;\">\n",
              "      <th></th>\n",
              "      <th>home_team</th>\n",
              "      <th>home_score</th>\n",
              "      <th>away_team</th>\n",
              "      <th>away_score</th>\n",
              "      <th>tournament</th>\n",
              "      <th>match_year</th>\n",
              "      <th>home_team_rank</th>\n",
              "      <th>away_team_rank</th>\n",
              "      <th>neutral</th>\n",
              "      <th>home_status</th>\n",
              "    </tr>\n",
              "  </thead>\n",
              "  <tbody>\n",
              "    <tr>\n",
              "      <th>0</th>\n",
              "      <td>Colombia</td>\n",
              "      <td>0</td>\n",
              "      <td>Paraguay</td>\n",
              "      <td>0</td>\n",
              "      <td>FIFA World Cup qualification</td>\n",
              "      <td>1993</td>\n",
              "      <td>19.0</td>\n",
              "      <td>67.0</td>\n",
              "      <td>False</td>\n",
              "      <td>Draw</td>\n",
              "    </tr>\n",
              "    <tr>\n",
              "      <th>1</th>\n",
              "      <td>Peru</td>\n",
              "      <td>0</td>\n",
              "      <td>Argentina</td>\n",
              "      <td>1</td>\n",
              "      <td>FIFA World Cup qualification</td>\n",
              "      <td>1993</td>\n",
              "      <td>70.0</td>\n",
              "      <td>5.0</td>\n",
              "      <td>False</td>\n",
              "      <td>Loss</td>\n",
              "    </tr>\n",
              "    <tr>\n",
              "      <th>2</th>\n",
              "      <td>Uruguay</td>\n",
              "      <td>0</td>\n",
              "      <td>Ecuador</td>\n",
              "      <td>0</td>\n",
              "      <td>FIFA World Cup qualification</td>\n",
              "      <td>1993</td>\n",
              "      <td>22.0</td>\n",
              "      <td>35.0</td>\n",
              "      <td>False</td>\n",
              "      <td>Draw</td>\n",
              "    </tr>\n",
              "    <tr>\n",
              "      <th>3</th>\n",
              "      <td>Venezuela</td>\n",
              "      <td>1</td>\n",
              "      <td>Brazil</td>\n",
              "      <td>5</td>\n",
              "      <td>FIFA World Cup qualification</td>\n",
              "      <td>1993</td>\n",
              "      <td>94.0</td>\n",
              "      <td>8.0</td>\n",
              "      <td>False</td>\n",
              "      <td>Loss</td>\n",
              "    </tr>\n",
              "    <tr>\n",
              "      <th>4</th>\n",
              "      <td>Senegal</td>\n",
              "      <td>0</td>\n",
              "      <td>Zambia</td>\n",
              "      <td>0</td>\n",
              "      <td>FIFA World Cup qualification</td>\n",
              "      <td>1993</td>\n",
              "      <td>58.0</td>\n",
              "      <td>25.0</td>\n",
              "      <td>True</td>\n",
              "      <td>Draw</td>\n",
              "    </tr>\n",
              "    <tr>\n",
              "      <th>...</th>\n",
              "      <td>...</td>\n",
              "      <td>...</td>\n",
              "      <td>...</td>\n",
              "      <td>...</td>\n",
              "      <td>...</td>\n",
              "      <td>...</td>\n",
              "      <td>...</td>\n",
              "      <td>...</td>\n",
              "      <td>...</td>\n",
              "      <td>...</td>\n",
              "    </tr>\n",
              "    <tr>\n",
              "      <th>18767</th>\n",
              "      <td>Senegal</td>\n",
              "      <td>0</td>\n",
              "      <td>Colombia</td>\n",
              "      <td>1</td>\n",
              "      <td>FIFA World Cup</td>\n",
              "      <td>2018</td>\n",
              "      <td>27.0</td>\n",
              "      <td>16.0</td>\n",
              "      <td>True</td>\n",
              "      <td>Loss</td>\n",
              "    </tr>\n",
              "    <tr>\n",
              "      <th>18768</th>\n",
              "      <td>Panama</td>\n",
              "      <td>1</td>\n",
              "      <td>Tunisia</td>\n",
              "      <td>2</td>\n",
              "      <td>FIFA World Cup</td>\n",
              "      <td>2018</td>\n",
              "      <td>55.0</td>\n",
              "      <td>21.0</td>\n",
              "      <td>True</td>\n",
              "      <td>Loss</td>\n",
              "    </tr>\n",
              "    <tr>\n",
              "      <th>18769</th>\n",
              "      <td>England</td>\n",
              "      <td>0</td>\n",
              "      <td>Belgium</td>\n",
              "      <td>1</td>\n",
              "      <td>FIFA World Cup</td>\n",
              "      <td>2018</td>\n",
              "      <td>12.0</td>\n",
              "      <td>3.0</td>\n",
              "      <td>True</td>\n",
              "      <td>Loss</td>\n",
              "    </tr>\n",
              "    <tr>\n",
              "      <th>18770</th>\n",
              "      <td>France</td>\n",
              "      <td>4</td>\n",
              "      <td>Argentina</td>\n",
              "      <td>3</td>\n",
              "      <td>FIFA World Cup</td>\n",
              "      <td>2018</td>\n",
              "      <td>7.0</td>\n",
              "      <td>5.0</td>\n",
              "      <td>True</td>\n",
              "      <td>Win</td>\n",
              "    </tr>\n",
              "    <tr>\n",
              "      <th>18771</th>\n",
              "      <td>Uruguay</td>\n",
              "      <td>2</td>\n",
              "      <td>Portugal</td>\n",
              "      <td>1</td>\n",
              "      <td>FIFA World Cup</td>\n",
              "      <td>2018</td>\n",
              "      <td>14.0</td>\n",
              "      <td>4.0</td>\n",
              "      <td>True</td>\n",
              "      <td>Win</td>\n",
              "    </tr>\n",
              "  </tbody>\n",
              "</table>\n",
              "<p>16999 rows × 10 columns</p>\n",
              "</div>"
            ],
            "text/plain": [
              "       home_team  home_score  away_team  ...  away_team_rank neutral  home_status\n",
              "0       Colombia           0   Paraguay  ...            67.0   False         Draw\n",
              "1           Peru           0  Argentina  ...             5.0   False         Loss\n",
              "2        Uruguay           0    Ecuador  ...            35.0   False         Draw\n",
              "3      Venezuela           1     Brazil  ...             8.0   False         Loss\n",
              "4        Senegal           0     Zambia  ...            25.0    True         Draw\n",
              "...          ...         ...        ...  ...             ...     ...          ...\n",
              "18767    Senegal           0   Colombia  ...            16.0    True         Loss\n",
              "18768     Panama           1    Tunisia  ...            21.0    True         Loss\n",
              "18769    England           0    Belgium  ...             3.0    True         Loss\n",
              "18770     France           4  Argentina  ...             5.0    True          Win\n",
              "18771    Uruguay           2   Portugal  ...             4.0    True          Win\n",
              "\n",
              "[16999 rows x 10 columns]"
            ]
          },
          "metadata": {
            "tags": []
          },
          "execution_count": 98
        }
      ]
    },
    {
      "cell_type": "code",
      "metadata": {
        "id": "aAjgCLJC2iVv",
        "colab_type": "code",
        "colab": {
          "base_uri": "https://localhost:8080/",
          "height": 202
        },
        "outputId": "f1fb68c5-5fcd-4c80-d9bd-48e935e926f6"
      },
      "source": [
        "final.isnull().sum()"
      ],
      "execution_count": null,
      "outputs": [
        {
          "output_type": "execute_result",
          "data": {
            "text/plain": [
              "home_team         0\n",
              "home_score        0\n",
              "away_team         0\n",
              "away_score        0\n",
              "tournament        0\n",
              "match_year        0\n",
              "home_team_rank    0\n",
              "away_team_rank    0\n",
              "neutral           0\n",
              "home_status       0\n",
              "dtype: int64"
            ]
          },
          "metadata": {
            "tags": []
          },
          "execution_count": 99
        }
      ]
    },
    {
      "cell_type": "code",
      "metadata": {
        "id": "MTUknhYXr48h",
        "colab_type": "code",
        "colab": {
          "base_uri": "https://localhost:8080/",
          "height": 437
        },
        "outputId": "7dab77da-15f7-427e-b658-df722f9b0cba"
      },
      "source": [
        "#Checking whether their are any friendly games in the tournament column\n",
        "final.tournament.unique()\n",
        "\n",
        "#Dropping the friendly as they are not competitive and therefore not used in ranking.\n",
        "final=final[final.tournament != 'Friendly']\n",
        "final.tournament.unique()"
      ],
      "execution_count": null,
      "outputs": [
        {
          "output_type": "execute_result",
          "data": {
            "text/plain": [
              "array(['FIFA World Cup qualification',\n",
              "       'African Cup of Nations qualification', 'Amílcar Cabral Cup',\n",
              "       'United Arab Emirates Friendship Tournament',\n",
              "       'Malta International Tournament',\n",
              "       'CFU Caribbean Cup qualification', 'African Cup of Nations',\n",
              "       'CFU Caribbean Cup', 'UEFA Euro qualification', 'Kirin Cup',\n",
              "       'FIFA World Cup', 'Oceania Nations Cup qualification',\n",
              "       'Baltic Cup', 'Gulf Cup', 'Simba Tournament', 'CECAFA Cup',\n",
              "       'Dynasty Cup', \"King's Cup\", 'SAFF Cup', 'Copa Paz del Chaco',\n",
              "       'Korea Cup', 'USA Cup', 'Copa América', 'Merdeka Tournament',\n",
              "       'South Pacific Games', 'UNCAF Cup', 'Oceania Nations Cup',\n",
              "       'Windward Islands Tournament', 'Gold Cup',\n",
              "       'AFC Asian Cup qualification', 'Lunar New Year Cup',\n",
              "       'AFF Championship', 'AFC Asian Cup', 'King Hassan II Tournament',\n",
              "       'Cyprus International Tournament', 'Dunhill Cup', 'Nehru Cup',\n",
              "       'COSAFA Cup', 'Tournoi de France', 'Confederations Cup',\n",
              "       'UAFA Cup', 'Gold Cup qualification', 'UNIFFAC Cup',\n",
              "       'Nordic Championship', 'WAFF Championship', 'UEFA Euro',\n",
              "       'Millennium Cup', \"Prime Minister's Cup\", 'SKN Football Festival',\n",
              "       'EAFF Championship', 'AFC Challenge Cup', 'Copa del Pacífico',\n",
              "       'UAFA Cup qualification', 'AFC Challenge Cup qualification',\n",
              "       'African Nations Championship', 'VFF Cup', 'Dragon Cup',\n",
              "       'Nile Basin Tournament', 'Nations Cup', 'Pacific Games',\n",
              "       'ABCS Tournament', 'OSN Cup', 'Copa América qualification',\n",
              "       'Intercontinental Cup'], dtype=object)"
            ]
          },
          "metadata": {
            "tags": []
          },
          "execution_count": 100
        }
      ]
    },
    {
      "cell_type": "markdown",
      "metadata": {
        "id": "alpWuG5QrN1O",
        "colab_type": "text"
      },
      "source": [
        "The friendly matches are not competitive and therefore not conisidered when ranking teams therefore we will drop them from our dataset."
      ]
    },
    {
      "cell_type": "code",
      "metadata": {
        "id": "yODJv_VircDP",
        "colab_type": "code",
        "colab": {}
      },
      "source": [
        "#Exporting the final dataset to a new dataset\n",
        "final=final.to_csv('final.csv')"
      ],
      "execution_count": null,
      "outputs": []
    },
    {
      "cell_type": "code",
      "metadata": {
        "id": "J8SGZBRYr9GZ",
        "colab_type": "code",
        "colab": {
          "base_uri": "https://localhost:8080/",
          "height": 502
        },
        "outputId": "15b705ad-3f0d-477d-c340-68ae0a7c3ac0"
      },
      "source": [
        "final=pd.read_csv('final.csv')\n",
        "final"
      ],
      "execution_count": null,
      "outputs": [
        {
          "output_type": "execute_result",
          "data": {
            "text/html": [
              "<div>\n",
              "<style scoped>\n",
              "    .dataframe tbody tr th:only-of-type {\n",
              "        vertical-align: middle;\n",
              "    }\n",
              "\n",
              "    .dataframe tbody tr th {\n",
              "        vertical-align: top;\n",
              "    }\n",
              "\n",
              "    .dataframe thead th {\n",
              "        text-align: right;\n",
              "    }\n",
              "</style>\n",
              "<table border=\"1\" class=\"dataframe\">\n",
              "  <thead>\n",
              "    <tr style=\"text-align: right;\">\n",
              "      <th></th>\n",
              "      <th>Unnamed: 0</th>\n",
              "      <th>home_team</th>\n",
              "      <th>home_score</th>\n",
              "      <th>away_team</th>\n",
              "      <th>away_score</th>\n",
              "      <th>tournament</th>\n",
              "      <th>match_year</th>\n",
              "      <th>home_team_rank</th>\n",
              "      <th>away_team_rank</th>\n",
              "      <th>neutral</th>\n",
              "      <th>home_status</th>\n",
              "    </tr>\n",
              "  </thead>\n",
              "  <tbody>\n",
              "    <tr>\n",
              "      <th>0</th>\n",
              "      <td>0</td>\n",
              "      <td>Colombia</td>\n",
              "      <td>0</td>\n",
              "      <td>Paraguay</td>\n",
              "      <td>0</td>\n",
              "      <td>FIFA World Cup qualification</td>\n",
              "      <td>1993</td>\n",
              "      <td>19.0</td>\n",
              "      <td>67.0</td>\n",
              "      <td>False</td>\n",
              "      <td>Draw</td>\n",
              "    </tr>\n",
              "    <tr>\n",
              "      <th>1</th>\n",
              "      <td>1</td>\n",
              "      <td>Peru</td>\n",
              "      <td>0</td>\n",
              "      <td>Argentina</td>\n",
              "      <td>1</td>\n",
              "      <td>FIFA World Cup qualification</td>\n",
              "      <td>1993</td>\n",
              "      <td>70.0</td>\n",
              "      <td>5.0</td>\n",
              "      <td>False</td>\n",
              "      <td>Loss</td>\n",
              "    </tr>\n",
              "    <tr>\n",
              "      <th>2</th>\n",
              "      <td>2</td>\n",
              "      <td>Uruguay</td>\n",
              "      <td>0</td>\n",
              "      <td>Ecuador</td>\n",
              "      <td>0</td>\n",
              "      <td>FIFA World Cup qualification</td>\n",
              "      <td>1993</td>\n",
              "      <td>22.0</td>\n",
              "      <td>35.0</td>\n",
              "      <td>False</td>\n",
              "      <td>Draw</td>\n",
              "    </tr>\n",
              "    <tr>\n",
              "      <th>3</th>\n",
              "      <td>3</td>\n",
              "      <td>Venezuela</td>\n",
              "      <td>1</td>\n",
              "      <td>Brazil</td>\n",
              "      <td>5</td>\n",
              "      <td>FIFA World Cup qualification</td>\n",
              "      <td>1993</td>\n",
              "      <td>94.0</td>\n",
              "      <td>8.0</td>\n",
              "      <td>False</td>\n",
              "      <td>Loss</td>\n",
              "    </tr>\n",
              "    <tr>\n",
              "      <th>4</th>\n",
              "      <td>4</td>\n",
              "      <td>Senegal</td>\n",
              "      <td>0</td>\n",
              "      <td>Zambia</td>\n",
              "      <td>0</td>\n",
              "      <td>FIFA World Cup qualification</td>\n",
              "      <td>1993</td>\n",
              "      <td>58.0</td>\n",
              "      <td>25.0</td>\n",
              "      <td>True</td>\n",
              "      <td>Draw</td>\n",
              "    </tr>\n",
              "    <tr>\n",
              "      <th>...</th>\n",
              "      <td>...</td>\n",
              "      <td>...</td>\n",
              "      <td>...</td>\n",
              "      <td>...</td>\n",
              "      <td>...</td>\n",
              "      <td>...</td>\n",
              "      <td>...</td>\n",
              "      <td>...</td>\n",
              "      <td>...</td>\n",
              "      <td>...</td>\n",
              "      <td>...</td>\n",
              "    </tr>\n",
              "    <tr>\n",
              "      <th>10517</th>\n",
              "      <td>18767</td>\n",
              "      <td>Senegal</td>\n",
              "      <td>0</td>\n",
              "      <td>Colombia</td>\n",
              "      <td>1</td>\n",
              "      <td>FIFA World Cup</td>\n",
              "      <td>2018</td>\n",
              "      <td>27.0</td>\n",
              "      <td>16.0</td>\n",
              "      <td>True</td>\n",
              "      <td>Loss</td>\n",
              "    </tr>\n",
              "    <tr>\n",
              "      <th>10518</th>\n",
              "      <td>18768</td>\n",
              "      <td>Panama</td>\n",
              "      <td>1</td>\n",
              "      <td>Tunisia</td>\n",
              "      <td>2</td>\n",
              "      <td>FIFA World Cup</td>\n",
              "      <td>2018</td>\n",
              "      <td>55.0</td>\n",
              "      <td>21.0</td>\n",
              "      <td>True</td>\n",
              "      <td>Loss</td>\n",
              "    </tr>\n",
              "    <tr>\n",
              "      <th>10519</th>\n",
              "      <td>18769</td>\n",
              "      <td>England</td>\n",
              "      <td>0</td>\n",
              "      <td>Belgium</td>\n",
              "      <td>1</td>\n",
              "      <td>FIFA World Cup</td>\n",
              "      <td>2018</td>\n",
              "      <td>12.0</td>\n",
              "      <td>3.0</td>\n",
              "      <td>True</td>\n",
              "      <td>Loss</td>\n",
              "    </tr>\n",
              "    <tr>\n",
              "      <th>10520</th>\n",
              "      <td>18770</td>\n",
              "      <td>France</td>\n",
              "      <td>4</td>\n",
              "      <td>Argentina</td>\n",
              "      <td>3</td>\n",
              "      <td>FIFA World Cup</td>\n",
              "      <td>2018</td>\n",
              "      <td>7.0</td>\n",
              "      <td>5.0</td>\n",
              "      <td>True</td>\n",
              "      <td>Win</td>\n",
              "    </tr>\n",
              "    <tr>\n",
              "      <th>10521</th>\n",
              "      <td>18771</td>\n",
              "      <td>Uruguay</td>\n",
              "      <td>2</td>\n",
              "      <td>Portugal</td>\n",
              "      <td>1</td>\n",
              "      <td>FIFA World Cup</td>\n",
              "      <td>2018</td>\n",
              "      <td>14.0</td>\n",
              "      <td>4.0</td>\n",
              "      <td>True</td>\n",
              "      <td>Win</td>\n",
              "    </tr>\n",
              "  </tbody>\n",
              "</table>\n",
              "<p>10522 rows × 11 columns</p>\n",
              "</div>"
            ],
            "text/plain": [
              "       Unnamed: 0  home_team  home_score  ... away_team_rank  neutral home_status\n",
              "0               0   Colombia           0  ...           67.0    False        Draw\n",
              "1               1       Peru           0  ...            5.0    False        Loss\n",
              "2               2    Uruguay           0  ...           35.0    False        Draw\n",
              "3               3  Venezuela           1  ...            8.0    False        Loss\n",
              "4               4    Senegal           0  ...           25.0     True        Draw\n",
              "...           ...        ...         ...  ...            ...      ...         ...\n",
              "10517       18767    Senegal           0  ...           16.0     True        Loss\n",
              "10518       18768     Panama           1  ...           21.0     True        Loss\n",
              "10519       18769    England           0  ...            3.0     True        Loss\n",
              "10520       18770     France           4  ...            5.0     True         Win\n",
              "10521       18771    Uruguay           2  ...            4.0     True         Win\n",
              "\n",
              "[10522 rows x 11 columns]"
            ]
          },
          "metadata": {
            "tags": []
          },
          "execution_count": 102
        }
      ]
    },
    {
      "cell_type": "markdown",
      "metadata": {
        "id": "wVdSfrw8M5lv",
        "colab_type": "text"
      },
      "source": [
        "#6. Exploratory Analysis"
      ]
    },
    {
      "cell_type": "code",
      "metadata": {
        "id": "YWygHV7ht1WX",
        "colab_type": "code",
        "colab": {
          "base_uri": "https://localhost:8080/",
          "height": 84
        },
        "outputId": "f9b1058e-93cd-4e6d-ba9d-9c500d717fe2"
      },
      "source": [
        "#creating a frequency table of the home status\n",
        "home_status=final['home_status'].value_counts()\n",
        "home_status"
      ],
      "execution_count": null,
      "outputs": [
        {
          "output_type": "execute_result",
          "data": {
            "text/plain": [
              "Win     5190\n",
              "Loss    3035\n",
              "Draw    2297\n",
              "Name: home_status, dtype: int64"
            ]
          },
          "metadata": {
            "tags": []
          },
          "execution_count": 103
        }
      ]
    },
    {
      "cell_type": "markdown",
      "metadata": {
        "id": "wDfryuzkvKM1",
        "colab_type": "text"
      },
      "source": [
        "Most of the teams that won the matched played at home therfore the there must be a relationship between playing at home and winning."
      ]
    },
    {
      "cell_type": "code",
      "metadata": {
        "id": "4gzy3w02vb0D",
        "colab_type": "code",
        "colab": {
          "base_uri": "https://localhost:8080/",
          "height": 67
        },
        "outputId": "ce3ad808-f759-45c1-b404-19ae00e22004"
      },
      "source": [
        "#creating a frequency table of the home status\n",
        "neutral=final['neutral'].value_counts()\n",
        "neutral"
      ],
      "execution_count": null,
      "outputs": [
        {
          "output_type": "execute_result",
          "data": {
            "text/plain": [
              "False    7689\n",
              "True     2833\n",
              "Name: neutral, dtype: int64"
            ]
          },
          "metadata": {
            "tags": []
          },
          "execution_count": 104
        }
      ]
    },
    {
      "cell_type": "markdown",
      "metadata": {
        "id": "BJ7m0MmdvsRW",
        "colab_type": "text"
      },
      "source": [
        "Most games were not played in neutral ground therefore they somehow affect the outcome of the game swaying the outcome in the direction of the home team."
      ]
    },
    {
      "cell_type": "code",
      "metadata": {
        "id": "0QedUGphxt8p",
        "colab_type": "code",
        "colab": {
          "base_uri": "https://localhost:8080/",
          "height": 283
        },
        "outputId": "7aba34ad-e0c1-4742-ff9b-84d41fe19565"
      },
      "source": [
        "# Ploting the univariate summaries and recording our observations\n",
        "#\n",
        "final.boxplot(column=['home_score'])"
      ],
      "execution_count": null,
      "outputs": [
        {
          "output_type": "execute_result",
          "data": {
            "text/plain": [
              "<matplotlib.axes._subplots.AxesSubplot at 0x7fb8fb0fdc88>"
            ]
          },
          "metadata": {
            "tags": []
          },
          "execution_count": 105
        },
        {
          "output_type": "display_data",
          "data": {
            "image/png": "[encoded data removed]",
            "text/plain": [
              "<Figure size 432x288 with 1 Axes>"
            ]
          },
          "metadata": {
            "tags": [],
            "needs_background": "light"
          }
        }
      ]
    },
    {
      "cell_type": "code",
      "metadata": {
        "id": "yffqCUM8yRIY",
        "colab_type": "code",
        "colab": {
          "base_uri": "https://localhost:8080/",
          "height": 282
        },
        "outputId": "1319bf3f-05bc-4025-8f62-fb7aca58f481"
      },
      "source": [
        "# Ploting the univariate summaries and recording our observations\n",
        "#\n",
        "final.boxplot(column=['away_score'])"
      ],
      "execution_count": null,
      "outputs": [
        {
          "output_type": "execute_result",
          "data": {
            "text/plain": [
              "<matplotlib.axes._subplots.AxesSubplot at 0x7fb8fb146e48>"
            ]
          },
          "metadata": {
            "tags": []
          },
          "execution_count": 106
        },
        {
          "output_type": "display_data",
          "data": {
            "image/png": "[encoded data removed]",
            "text/plain": [
              "<Figure size 432x288 with 1 Axes>"
            ]
          },
          "metadata": {
            "tags": [],
            "needs_background": "light"
          }
        }
      ]
    },
    {
      "cell_type": "code",
      "metadata": {
        "id": "9oEIh5Meuog5",
        "colab_type": "code",
        "colab": {
          "base_uri": "https://localhost:8080/",
          "height": 254
        },
        "outputId": "7f1a876b-e7ee-4a78-af39-47d1fe220035"
      },
      "source": [
        "#finding the correlation between the different variables\n",
        "final.corr()\n",
        "# Correlation coefficients between -.20 and .20 are generally considered weak, \n",
        "# between .20 and .50 (positive or negative) are considered moderate, \n",
        "# and above .50 (positive or negative) are considered strong. "
      ],
      "execution_count": null,
      "outputs": [
        {
          "output_type": "execute_result",
          "data": {
            "text/html": [
              "<div>\n",
              "<style scoped>\n",
              "    .dataframe tbody tr th:only-of-type {\n",
              "        vertical-align: middle;\n",
              "    }\n",
              "\n",
              "    .dataframe tbody tr th {\n",
              "        vertical-align: top;\n",
              "    }\n",
              "\n",
              "    .dataframe thead th {\n",
              "        text-align: right;\n",
              "    }\n",
              "</style>\n",
              "<table border=\"1\" class=\"dataframe\">\n",
              "  <thead>\n",
              "    <tr style=\"text-align: right;\">\n",
              "      <th></th>\n",
              "      <th>Unnamed: 0</th>\n",
              "      <th>home_score</th>\n",
              "      <th>away_score</th>\n",
              "      <th>match_year</th>\n",
              "      <th>home_team_rank</th>\n",
              "      <th>away_team_rank</th>\n",
              "      <th>neutral</th>\n",
              "    </tr>\n",
              "  </thead>\n",
              "  <tbody>\n",
              "    <tr>\n",
              "      <th>Unnamed: 0</th>\n",
              "      <td>1.000000</td>\n",
              "      <td>-0.057168</td>\n",
              "      <td>-0.003569</td>\n",
              "      <td>0.997688</td>\n",
              "      <td>0.094534</td>\n",
              "      <td>0.076264</td>\n",
              "      <td>0.011022</td>\n",
              "    </tr>\n",
              "    <tr>\n",
              "      <th>home_score</th>\n",
              "      <td>-0.057168</td>\n",
              "      <td>1.000000</td>\n",
              "      <td>-0.207135</td>\n",
              "      <td>-0.055681</td>\n",
              "      <td>-0.155803</td>\n",
              "      <td>0.363316</td>\n",
              "      <td>-0.041832</td>\n",
              "    </tr>\n",
              "    <tr>\n",
              "      <th>away_score</th>\n",
              "      <td>-0.003569</td>\n",
              "      <td>-0.207135</td>\n",
              "      <td>1.000000</td>\n",
              "      <td>-0.003540</td>\n",
              "      <td>0.275484</td>\n",
              "      <td>-0.194530</td>\n",
              "      <td>0.107107</td>\n",
              "    </tr>\n",
              "    <tr>\n",
              "      <th>match_year</th>\n",
              "      <td>0.997688</td>\n",
              "      <td>-0.055681</td>\n",
              "      <td>-0.003540</td>\n",
              "      <td>1.000000</td>\n",
              "      <td>0.099268</td>\n",
              "      <td>0.081990</td>\n",
              "      <td>0.016215</td>\n",
              "    </tr>\n",
              "    <tr>\n",
              "      <th>home_team_rank</th>\n",
              "      <td>0.094534</td>\n",
              "      <td>-0.155803</td>\n",
              "      <td>0.275484</td>\n",
              "      <td>0.099268</td>\n",
              "      <td>1.000000</td>\n",
              "      <td>0.416741</td>\n",
              "      <td>0.068149</td>\n",
              "    </tr>\n",
              "    <tr>\n",
              "      <th>away_team_rank</th>\n",
              "      <td>0.076264</td>\n",
              "      <td>0.363316</td>\n",
              "      <td>-0.194530</td>\n",
              "      <td>0.081990</td>\n",
              "      <td>0.416741</td>\n",
              "      <td>1.000000</td>\n",
              "      <td>0.081978</td>\n",
              "    </tr>\n",
              "    <tr>\n",
              "      <th>neutral</th>\n",
              "      <td>0.011022</td>\n",
              "      <td>-0.041832</td>\n",
              "      <td>0.107107</td>\n",
              "      <td>0.016215</td>\n",
              "      <td>0.068149</td>\n",
              "      <td>0.081978</td>\n",
              "      <td>1.000000</td>\n",
              "    </tr>\n",
              "  </tbody>\n",
              "</table>\n",
              "</div>"
            ],
            "text/plain": [
              "                Unnamed: 0  home_score  ...  away_team_rank   neutral\n",
              "Unnamed: 0        1.000000   -0.057168  ...        0.076264  0.011022\n",
              "home_score       -0.057168    1.000000  ...        0.363316 -0.041832\n",
              "away_score       -0.003569   -0.207135  ...       -0.194530  0.107107\n",
              "match_year        0.997688   -0.055681  ...        0.081990  0.016215\n",
              "home_team_rank    0.094534   -0.155803  ...        0.416741  0.068149\n",
              "away_team_rank    0.076264    0.363316  ...        1.000000  0.081978\n",
              "neutral           0.011022   -0.041832  ...        0.081978  1.000000\n",
              "\n",
              "[7 rows x 7 columns]"
            ]
          },
          "metadata": {
            "tags": []
          },
          "execution_count": 107
        }
      ]
    },
    {
      "cell_type": "markdown",
      "metadata": {
        "id": "y2zZ5xpcxOpR",
        "colab_type": "text"
      },
      "source": [
        "There is a weak negative correlation between home socre and away score,yeah the game was played and the rank pf the home team.\n",
        "There is a moderate positive between home score and the rank if the away team meaning that if the away team is ranked highly the home team plays better.\n",
        "There is a moderate positive correlation between the home team rank and the away team ranks."
      ]
    },
    {
      "cell_type": "code",
      "metadata": {
        "id": "m1w8CeBN0OZw",
        "colab_type": "code",
        "colab": {
          "base_uri": "https://localhost:8080/",
          "height": 573
        },
        "outputId": "a8941f8b-d943-49e7-f84d-de0c813eaf55"
      },
      "source": [
        "# Scatterplot of the two columns\n",
        "# Or Using Seaborn: Using the function regplot to create our scatterplot\n",
        "sns.regplot(x=final['away_team_rank'], y=final['home_score'], fit_reg=True)\n",
        "#plt.scatter(x=final['away_team_rank'], y=final['home_team_rank'], c='red')\n",
        "plt.title('Scatterplot away team rank vs home score')\n",
        "plt.xlabel('Rank of away team')\n",
        "plt.ylabel('Number of goals scored by home team')\n",
        "plt.show()\n",
        "\n",
        "# Scatterplot of the two columns\n",
        "# Or Using Seaborn: Using the function regplot to create our scatterplot\n",
        "sns.regplot(x=final['home_team_rank'], y=final['away_score'], fit_reg=True)\n",
        "#plt.scatter(x=final['away_team_rank'], y=final['home_team_rank'], c='red')\n",
        "plt.title('Scatterplot of home team rank vs away score')\n",
        "plt.xlabel('Rank of home team')\n",
        "plt.ylabel('Number of goals scored byaway team')\n",
        "plt.show()"
      ],
      "execution_count": null,
      "outputs": [
        {
          "output_type": "display_data",
          "data": {
            "image/png": "[encoded data removed]",
            "text/plain": [
              "<Figure size 432x288 with 1 Axes>"
            ]
          },
          "metadata": {
            "tags": [],
            "needs_background": "light"
          }
        },
        {
          "output_type": "display_data",
          "data": {
            "image/png": "[encoded data removed]",
            "text/plain": [
              "<Figure size 432x288 with 1 Axes>"
            ]
          },
          "metadata": {
            "tags": [],
            "needs_background": "light"
          }
        }
      ]
    },
    {
      "cell_type": "markdown",
      "metadata": {
        "id": "NIKGYXzn11eG",
        "colab_type": "text"
      },
      "source": [
        "The better the rank of the away team the fewer goals the home team was ale to score. This implies that the better an away team is ranked the higher the level of difficulty on the home team. If the away team is of a lower rank the home team is better placed to score more goals and win the game eventually."
      ]
    },
    {
      "cell_type": "markdown",
      "metadata": {
        "id": "B71O7XYRNOYh",
        "colab_type": "text"
      },
      "source": [
        "#7. Implementing the Solution"
      ]
    },
    {
      "cell_type": "markdown",
      "metadata": {
        "id": "DorPX0ybwfe6",
        "colab_type": "text"
      },
      "source": [
        "#Model 1:  Modelling to predict the number of goals a home team will scores."
      ]
    },
    {
      "cell_type": "code",
      "metadata": {
        "id": "9In4imJm0q7c",
        "colab_type": "code",
        "colab": {}
      },
      "source": [
        "#importing the libraries we need\n",
        "from sklearn import metrics\n",
        "from sklearn.model_selection import train_test_split\n",
        "\n",
        "from sklearn.linear_model import LinearRegression\n",
        "from sklearn.preprocessing import PolynomialFeatures"
      ],
      "execution_count": null,
      "outputs": []
    },
    {
      "cell_type": "code",
      "metadata": {
        "id": "9nkGVN0XRGrM",
        "colab_type": "code",
        "colab": {
          "base_uri": "https://localhost:8080/",
          "height": 402
        },
        "outputId": "5a66fc03-5fb5-4d2c-d619-8e274ef2ed83"
      },
      "source": [
        "final_1"
      ],
      "execution_count": null,
      "outputs": [
        {
          "output_type": "execute_result",
          "data": {
            "text/html": [
              "<div>\n",
              "<style scoped>\n",
              "    .dataframe tbody tr th:only-of-type {\n",
              "        vertical-align: middle;\n",
              "    }\n",
              "\n",
              "    .dataframe tbody tr th {\n",
              "        vertical-align: top;\n",
              "    }\n",
              "\n",
              "    .dataframe thead th {\n",
              "        text-align: right;\n",
              "    }\n",
              "</style>\n",
              "<table border=\"1\" class=\"dataframe\">\n",
              "  <thead>\n",
              "    <tr style=\"text-align: right;\">\n",
              "      <th></th>\n",
              "      <th>Unnamed: 0</th>\n",
              "      <th>home_team</th>\n",
              "      <th>home_score</th>\n",
              "      <th>away_team</th>\n",
              "      <th>away_score</th>\n",
              "      <th>tournament</th>\n",
              "      <th>match_year</th>\n",
              "      <th>home_team_rank</th>\n",
              "      <th>away_team_rank</th>\n",
              "      <th>neutral</th>\n",
              "      <th>home_status</th>\n",
              "    </tr>\n",
              "  </thead>\n",
              "  <tbody>\n",
              "    <tr>\n",
              "      <th>0</th>\n",
              "      <td>0</td>\n",
              "      <td>41</td>\n",
              "      <td>0</td>\n",
              "      <td>137</td>\n",
              "      <td>0</td>\n",
              "      <td>26</td>\n",
              "      <td>1993</td>\n",
              "      <td>19.0</td>\n",
              "      <td>67.0</td>\n",
              "      <td>0</td>\n",
              "      <td>0</td>\n",
              "    </tr>\n",
              "    <tr>\n",
              "      <th>1</th>\n",
              "      <td>1</td>\n",
              "      <td>138</td>\n",
              "      <td>0</td>\n",
              "      <td>8</td>\n",
              "      <td>1</td>\n",
              "      <td>26</td>\n",
              "      <td>1993</td>\n",
              "      <td>70.0</td>\n",
              "      <td>5.0</td>\n",
              "      <td>0</td>\n",
              "      <td>1</td>\n",
              "    </tr>\n",
              "    <tr>\n",
              "      <th>2</th>\n",
              "      <td>2</td>\n",
              "      <td>184</td>\n",
              "      <td>0</td>\n",
              "      <td>55</td>\n",
              "      <td>0</td>\n",
              "      <td>26</td>\n",
              "      <td>1993</td>\n",
              "      <td>22.0</td>\n",
              "      <td>35.0</td>\n",
              "      <td>0</td>\n",
              "      <td>0</td>\n",
              "    </tr>\n",
              "    <tr>\n",
              "      <th>3</th>\n",
              "      <td>3</td>\n",
              "      <td>187</td>\n",
              "      <td>1</td>\n",
              "      <td>27</td>\n",
              "      <td>5</td>\n",
              "      <td>26</td>\n",
              "      <td>1993</td>\n",
              "      <td>94.0</td>\n",
              "      <td>8.0</td>\n",
              "      <td>0</td>\n",
              "      <td>1</td>\n",
              "    </tr>\n",
              "    <tr>\n",
              "      <th>4</th>\n",
              "      <td>4</td>\n",
              "      <td>152</td>\n",
              "      <td>0</td>\n",
              "      <td>191</td>\n",
              "      <td>0</td>\n",
              "      <td>26</td>\n",
              "      <td>1993</td>\n",
              "      <td>58.0</td>\n",
              "      <td>25.0</td>\n",
              "      <td>1</td>\n",
              "      <td>0</td>\n",
              "    </tr>\n",
              "    <tr>\n",
              "      <th>...</th>\n",
              "      <td>...</td>\n",
              "      <td>...</td>\n",
              "      <td>...</td>\n",
              "      <td>...</td>\n",
              "      <td>...</td>\n",
              "      <td>...</td>\n",
              "      <td>...</td>\n",
              "      <td>...</td>\n",
              "      <td>...</td>\n",
              "      <td>...</td>\n",
              "      <td>...</td>\n",
              "    </tr>\n",
              "    <tr>\n",
              "      <th>10517</th>\n",
              "      <td>18767</td>\n",
              "      <td>152</td>\n",
              "      <td>0</td>\n",
              "      <td>41</td>\n",
              "      <td>1</td>\n",
              "      <td>25</td>\n",
              "      <td>2018</td>\n",
              "      <td>27.0</td>\n",
              "      <td>16.0</td>\n",
              "      <td>1</td>\n",
              "      <td>1</td>\n",
              "    </tr>\n",
              "    <tr>\n",
              "      <th>10518</th>\n",
              "      <td>18768</td>\n",
              "      <td>135</td>\n",
              "      <td>1</td>\n",
              "      <td>177</td>\n",
              "      <td>2</td>\n",
              "      <td>25</td>\n",
              "      <td>2018</td>\n",
              "      <td>55.0</td>\n",
              "      <td>21.0</td>\n",
              "      <td>1</td>\n",
              "      <td>1</td>\n",
              "    </tr>\n",
              "    <tr>\n",
              "      <th>10519</th>\n",
              "      <td>18769</td>\n",
              "      <td>58</td>\n",
              "      <td>0</td>\n",
              "      <td>19</td>\n",
              "      <td>1</td>\n",
              "      <td>25</td>\n",
              "      <td>2018</td>\n",
              "      <td>12.0</td>\n",
              "      <td>3.0</td>\n",
              "      <td>1</td>\n",
              "      <td>1</td>\n",
              "    </tr>\n",
              "    <tr>\n",
              "      <th>10520</th>\n",
              "      <td>18770</td>\n",
              "      <td>66</td>\n",
              "      <td>4</td>\n",
              "      <td>8</td>\n",
              "      <td>3</td>\n",
              "      <td>25</td>\n",
              "      <td>2018</td>\n",
              "      <td>7.0</td>\n",
              "      <td>5.0</td>\n",
              "      <td>1</td>\n",
              "      <td>2</td>\n",
              "    </tr>\n",
              "    <tr>\n",
              "      <th>10521</th>\n",
              "      <td>18771</td>\n",
              "      <td>184</td>\n",
              "      <td>2</td>\n",
              "      <td>141</td>\n",
              "      <td>1</td>\n",
              "      <td>25</td>\n",
              "      <td>2018</td>\n",
              "      <td>14.0</td>\n",
              "      <td>4.0</td>\n",
              "      <td>1</td>\n",
              "      <td>2</td>\n",
              "    </tr>\n",
              "  </tbody>\n",
              "</table>\n",
              "<p>10522 rows × 11 columns</p>\n",
              "</div>"
            ],
            "text/plain": [
              "       Unnamed: 0  home_team  home_score  ...  away_team_rank  neutral  home_status\n",
              "0               0         41           0  ...            67.0        0            0\n",
              "1               1        138           0  ...             5.0        0            1\n",
              "2               2        184           0  ...            35.0        0            0\n",
              "3               3        187           1  ...             8.0        0            1\n",
              "4               4        152           0  ...            25.0        1            0\n",
              "...           ...        ...         ...  ...             ...      ...          ...\n",
              "10517       18767        152           0  ...            16.0        1            1\n",
              "10518       18768        135           1  ...            21.0        1            1\n",
              "10519       18769         58           0  ...             3.0        1            1\n",
              "10520       18770         66           4  ...             5.0        1            2\n",
              "10521       18771        184           2  ...             4.0        1            2\n",
              "\n",
              "[10522 rows x 11 columns]"
            ]
          },
          "metadata": {
            "tags": []
          },
          "execution_count": 110
        }
      ]
    },
    {
      "cell_type": "code",
      "metadata": {
        "id": "HSOccjavwvm4",
        "colab_type": "code",
        "colab": {}
      },
      "source": [
        "from sklearn.preprocessing import LabelEncoder\n",
        "from sklearn.pipeline import Pipeline\n",
        "\n",
        "#class MultiColumnLabelEncoder:\n",
        "#    def __init__(self,columns = None):\n",
        "#        self.columns = columns # array of column names to encode\n",
        "#\n",
        "#    def fit(self,X,y=None):\n",
        "#        return self # not relevant here\n",
        "#\n",
        "#    def transform(self,X):\n",
        "        \n",
        "#        Transforms columns of X specified in self.columns using\n",
        "#        LabelEncoder(). If no columns specified, transforms all\n",
        "#        columns in X.\n",
        "        \n",
        "#        output = X.copy()\n",
        "#        if self.columns is not None:\n",
        "#            for col in self.columns:\n",
        "#                output[col] = LabelEncoder().fit_transform(output[col])\n",
        "#        else:\n",
        "#            for colname,col in output.iteritems():\n",
        "#                output[colname] = LabelEncoder().fit_transform(col)\n",
        "#        return output\n",
        "\n",
        "#    def fit_transform(self,X,y=None):\n",
        "#        return self.fit(X,y).transform(X)\n",
        "\n",
        "#final_1=MultiColumnLabelEncoder(columns = ['home_team','away_team','tournament','home_status','neutral']).fit_transform(final)\n",
        "#final_1.head()"
      ],
      "execution_count": null,
      "outputs": []
    },
    {
      "cell_type": "code",
      "metadata": {
        "id": "pdPqj1Rc7jxd",
        "colab_type": "code",
        "colab": {
          "base_uri": "https://localhost:8080/",
          "height": 838
        },
        "outputId": "1465454c-a66a-4165-b57d-bf20c56d5150"
      },
      "source": [
        "#Get the 2 and the last column from the dataset \n",
        "X = final_1[['tournament','home_team_rank','away_team_rank','neutral','match_year']]\n",
        "\n",
        "y = final_1['home_score']\n",
        "print(X)\n",
        "print(y)\n",
        "#The tournamnet type is picked as it will dictate the level of competitivenesss the teams will put out.\n",
        "#The home team rank and away team rank are picked as they have a positive moderate correlation with the score\n",
        "# Nueatral was picked as wther a game was played in a neutral ground affects the outcome of the match from previous research.\n",
        "\n",
        "X = pd.get_dummies(X, drop_first=True)\n",
        "X"
      ],
      "execution_count": null,
      "outputs": [
        {
          "output_type": "stream",
          "text": [
            "       tournament  home_team_rank  away_team_rank  neutral  match_year\n",
            "0              26            19.0            67.0        0        1993\n",
            "1              26            70.0             5.0        0        1993\n",
            "2              26            22.0            35.0        0        1993\n",
            "3              26            94.0             8.0        0        1993\n",
            "4              26            58.0            25.0        1        1993\n",
            "...           ...             ...             ...      ...         ...\n",
            "10517          25            27.0            16.0        1        2018\n",
            "10518          25            55.0            21.0        1        2018\n",
            "10519          25            12.0             3.0        1        2018\n",
            "10520          25             7.0             5.0        1        2018\n",
            "10521          25            14.0             4.0        1        2018\n",
            "\n",
            "[10522 rows x 5 columns]\n",
            "0        0\n",
            "1        0\n",
            "2        0\n",
            "3        1\n",
            "4        0\n",
            "        ..\n",
            "10517    0\n",
            "10518    1\n",
            "10519    0\n",
            "10520    4\n",
            "10521    2\n",
            "Name: home_score, Length: 10522, dtype: int64\n"
          ],
          "name": "stdout"
        },
        {
          "output_type": "execute_result",
          "data": {
            "text/html": [
              "<div>\n",
              "<style scoped>\n",
              "    .dataframe tbody tr th:only-of-type {\n",
              "        vertical-align: middle;\n",
              "    }\n",
              "\n",
              "    .dataframe tbody tr th {\n",
              "        vertical-align: top;\n",
              "    }\n",
              "\n",
              "    .dataframe thead th {\n",
              "        text-align: right;\n",
              "    }\n",
              "</style>\n",
              "<table border=\"1\" class=\"dataframe\">\n",
              "  <thead>\n",
              "    <tr style=\"text-align: right;\">\n",
              "      <th></th>\n",
              "      <th>tournament</th>\n",
              "      <th>home_team_rank</th>\n",
              "      <th>away_team_rank</th>\n",
              "      <th>neutral</th>\n",
              "      <th>match_year</th>\n",
              "    </tr>\n",
              "  </thead>\n",
              "  <tbody>\n",
              "    <tr>\n",
              "      <th>0</th>\n",
              "      <td>26</td>\n",
              "      <td>19.0</td>\n",
              "      <td>67.0</td>\n",
              "      <td>0</td>\n",
              "      <td>1993</td>\n",
              "    </tr>\n",
              "    <tr>\n",
              "      <th>1</th>\n",
              "      <td>26</td>\n",
              "      <td>70.0</td>\n",
              "      <td>5.0</td>\n",
              "      <td>0</td>\n",
              "      <td>1993</td>\n",
              "    </tr>\n",
              "    <tr>\n",
              "      <th>2</th>\n",
              "      <td>26</td>\n",
              "      <td>22.0</td>\n",
              "      <td>35.0</td>\n",
              "      <td>0</td>\n",
              "      <td>1993</td>\n",
              "    </tr>\n",
              "    <tr>\n",
              "      <th>3</th>\n",
              "      <td>26</td>\n",
              "      <td>94.0</td>\n",
              "      <td>8.0</td>\n",
              "      <td>0</td>\n",
              "      <td>1993</td>\n",
              "    </tr>\n",
              "    <tr>\n",
              "      <th>4</th>\n",
              "      <td>26</td>\n",
              "      <td>58.0</td>\n",
              "      <td>25.0</td>\n",
              "      <td>1</td>\n",
              "      <td>1993</td>\n",
              "    </tr>\n",
              "    <tr>\n",
              "      <th>...</th>\n",
              "      <td>...</td>\n",
              "      <td>...</td>\n",
              "      <td>...</td>\n",
              "      <td>...</td>\n",
              "      <td>...</td>\n",
              "    </tr>\n",
              "    <tr>\n",
              "      <th>10517</th>\n",
              "      <td>25</td>\n",
              "      <td>27.0</td>\n",
              "      <td>16.0</td>\n",
              "      <td>1</td>\n",
              "      <td>2018</td>\n",
              "    </tr>\n",
              "    <tr>\n",
              "      <th>10518</th>\n",
              "      <td>25</td>\n",
              "      <td>55.0</td>\n",
              "      <td>21.0</td>\n",
              "      <td>1</td>\n",
              "      <td>2018</td>\n",
              "    </tr>\n",
              "    <tr>\n",
              "      <th>10519</th>\n",
              "      <td>25</td>\n",
              "      <td>12.0</td>\n",
              "      <td>3.0</td>\n",
              "      <td>1</td>\n",
              "      <td>2018</td>\n",
              "    </tr>\n",
              "    <tr>\n",
              "      <th>10520</th>\n",
              "      <td>25</td>\n",
              "      <td>7.0</td>\n",
              "      <td>5.0</td>\n",
              "      <td>1</td>\n",
              "      <td>2018</td>\n",
              "    </tr>\n",
              "    <tr>\n",
              "      <th>10521</th>\n",
              "      <td>25</td>\n",
              "      <td>14.0</td>\n",
              "      <td>4.0</td>\n",
              "      <td>1</td>\n",
              "      <td>2018</td>\n",
              "    </tr>\n",
              "  </tbody>\n",
              "</table>\n",
              "<p>10522 rows × 5 columns</p>\n",
              "</div>"
            ],
            "text/plain": [
              "       tournament  home_team_rank  away_team_rank  neutral  match_year\n",
              "0              26            19.0            67.0        0        1993\n",
              "1              26            70.0             5.0        0        1993\n",
              "2              26            22.0            35.0        0        1993\n",
              "3              26            94.0             8.0        0        1993\n",
              "4              26            58.0            25.0        1        1993\n",
              "...           ...             ...             ...      ...         ...\n",
              "10517          25            27.0            16.0        1        2018\n",
              "10518          25            55.0            21.0        1        2018\n",
              "10519          25            12.0             3.0        1        2018\n",
              "10520          25             7.0             5.0        1        2018\n",
              "10521          25            14.0             4.0        1        2018\n",
              "\n",
              "[10522 rows x 5 columns]"
            ]
          },
          "metadata": {
            "tags": []
          },
          "execution_count": 118
        }
      ]
    },
    {
      "cell_type": "code",
      "metadata": {
        "id": "qPLB-iWkSA-O",
        "colab_type": "code",
        "colab": {}
      },
      "source": [
        ""
      ],
      "execution_count": null,
      "outputs": []
    },
    {
      "cell_type": "markdown",
      "metadata": {
        "id": "Rw_7mIafEURi",
        "colab_type": "text"
      },
      "source": [
        "###Checking for multicollinearity"
      ]
    },
    {
      "cell_type": "code",
      "metadata": {
        "id": "PtSQpLPD6odL",
        "colab_type": "code",
        "colab": {
          "base_uri": "https://localhost:8080/",
          "height": 195
        },
        "outputId": "9981b066-ba7e-4172-99c1-5a8ea9e677f3"
      },
      "source": [
        "# Let's display the correlations between the variables\n",
        "correlations=X.corr()\n",
        "correlations"
      ],
      "execution_count": null,
      "outputs": [
        {
          "output_type": "execute_result",
          "data": {
            "text/html": [
              "<div>\n",
              "<style scoped>\n",
              "    .dataframe tbody tr th:only-of-type {\n",
              "        vertical-align: middle;\n",
              "    }\n",
              "\n",
              "    .dataframe tbody tr th {\n",
              "        vertical-align: top;\n",
              "    }\n",
              "\n",
              "    .dataframe thead th {\n",
              "        text-align: right;\n",
              "    }\n",
              "</style>\n",
              "<table border=\"1\" class=\"dataframe\">\n",
              "  <thead>\n",
              "    <tr style=\"text-align: right;\">\n",
              "      <th></th>\n",
              "      <th>tournament</th>\n",
              "      <th>home_team_rank</th>\n",
              "      <th>away_team_rank</th>\n",
              "      <th>neutral</th>\n",
              "      <th>match_year</th>\n",
              "    </tr>\n",
              "  </thead>\n",
              "  <tbody>\n",
              "    <tr>\n",
              "      <th>tournament</th>\n",
              "      <td>1.000000</td>\n",
              "      <td>-0.181589</td>\n",
              "      <td>-0.194909</td>\n",
              "      <td>-0.102544</td>\n",
              "      <td>-0.077456</td>\n",
              "    </tr>\n",
              "    <tr>\n",
              "      <th>home_team_rank</th>\n",
              "      <td>-0.181589</td>\n",
              "      <td>1.000000</td>\n",
              "      <td>0.416741</td>\n",
              "      <td>0.068149</td>\n",
              "      <td>0.099268</td>\n",
              "    </tr>\n",
              "    <tr>\n",
              "      <th>away_team_rank</th>\n",
              "      <td>-0.194909</td>\n",
              "      <td>0.416741</td>\n",
              "      <td>1.000000</td>\n",
              "      <td>0.081978</td>\n",
              "      <td>0.081990</td>\n",
              "    </tr>\n",
              "    <tr>\n",
              "      <th>neutral</th>\n",
              "      <td>-0.102544</td>\n",
              "      <td>0.068149</td>\n",
              "      <td>0.081978</td>\n",
              "      <td>1.000000</td>\n",
              "      <td>0.016215</td>\n",
              "    </tr>\n",
              "    <tr>\n",
              "      <th>match_year</th>\n",
              "      <td>-0.077456</td>\n",
              "      <td>0.099268</td>\n",
              "      <td>0.081990</td>\n",
              "      <td>0.016215</td>\n",
              "      <td>1.000000</td>\n",
              "    </tr>\n",
              "  </tbody>\n",
              "</table>\n",
              "</div>"
            ],
            "text/plain": [
              "                tournament  home_team_rank  ...   neutral  match_year\n",
              "tournament        1.000000       -0.181589  ... -0.102544   -0.077456\n",
              "home_team_rank   -0.181589        1.000000  ...  0.068149    0.099268\n",
              "away_team_rank   -0.194909        0.416741  ...  0.081978    0.081990\n",
              "neutral          -0.102544        0.068149  ...  1.000000    0.016215\n",
              "match_year       -0.077456        0.099268  ...  0.016215    1.000000\n",
              "\n",
              "[5 rows x 5 columns]"
            ]
          },
          "metadata": {
            "tags": []
          },
          "execution_count": 119
        }
      ]
    },
    {
      "cell_type": "code",
      "metadata": {
        "id": "n1526HF28G8i",
        "colab_type": "code",
        "colab": {
          "base_uri": "https://localhost:8080/",
          "height": 195
        },
        "outputId": "75e788f5-419a-4a10-e677-2c51cf38da18"
      },
      "source": [
        "#Creating a dataframe and getting the inverse\n",
        "pd.DataFrame(np.linalg.inv(correlations.values), index = correlations.index, columns=correlations.columns)"
      ],
      "execution_count": null,
      "outputs": [
        {
          "output_type": "execute_result",
          "data": {
            "text/html": [
              "<div>\n",
              "<style scoped>\n",
              "    .dataframe tbody tr th:only-of-type {\n",
              "        vertical-align: middle;\n",
              "    }\n",
              "\n",
              "    .dataframe tbody tr th {\n",
              "        vertical-align: top;\n",
              "    }\n",
              "\n",
              "    .dataframe thead th {\n",
              "        text-align: right;\n",
              "    }\n",
              "</style>\n",
              "<table border=\"1\" class=\"dataframe\">\n",
              "  <thead>\n",
              "    <tr style=\"text-align: right;\">\n",
              "      <th></th>\n",
              "      <th>tournament</th>\n",
              "      <th>home_team_rank</th>\n",
              "      <th>away_team_rank</th>\n",
              "      <th>neutral</th>\n",
              "      <th>match_year</th>\n",
              "    </tr>\n",
              "  </thead>\n",
              "  <tbody>\n",
              "    <tr>\n",
              "      <th>tournament</th>\n",
              "      <td>1.063687</td>\n",
              "      <td>0.121077</td>\n",
              "      <td>0.144971</td>\n",
              "      <td>0.088013</td>\n",
              "      <td>0.057057</td>\n",
              "    </tr>\n",
              "    <tr>\n",
              "      <th>home_team_rank</th>\n",
              "      <td>0.121077</td>\n",
              "      <td>1.231898</td>\n",
              "      <td>-0.481269</td>\n",
              "      <td>-0.030901</td>\n",
              "      <td>-0.072949</td>\n",
              "    </tr>\n",
              "    <tr>\n",
              "      <th>away_team_rank</th>\n",
              "      <td>0.144971</td>\n",
              "      <td>-0.481269</td>\n",
              "      <td>1.236573</td>\n",
              "      <td>-0.053035</td>\n",
              "      <td>-0.041523</td>\n",
              "    </tr>\n",
              "    <tr>\n",
              "      <th>neutral</th>\n",
              "      <td>0.088013</td>\n",
              "      <td>-0.030901</td>\n",
              "      <td>-0.053035</td>\n",
              "      <td>1.015515</td>\n",
              "      <td>-0.002233</td>\n",
              "    </tr>\n",
              "    <tr>\n",
              "      <th>match_year</th>\n",
              "      <td>0.057057</td>\n",
              "      <td>-0.072949</td>\n",
              "      <td>-0.041523</td>\n",
              "      <td>-0.002233</td>\n",
              "      <td>1.015102</td>\n",
              "    </tr>\n",
              "  </tbody>\n",
              "</table>\n",
              "</div>"
            ],
            "text/plain": [
              "                tournament  home_team_rank  ...   neutral  match_year\n",
              "tournament        1.063687        0.121077  ...  0.088013    0.057057\n",
              "home_team_rank    0.121077        1.231898  ... -0.030901   -0.072949\n",
              "away_team_rank    0.144971       -0.481269  ... -0.053035   -0.041523\n",
              "neutral           0.088013       -0.030901  ...  1.015515   -0.002233\n",
              "match_year        0.057057       -0.072949  ... -0.002233    1.015102\n",
              "\n",
              "[5 rows x 5 columns]"
            ]
          },
          "metadata": {
            "tags": []
          },
          "execution_count": 120
        }
      ]
    },
    {
      "cell_type": "markdown",
      "metadata": {
        "id": "RzsLCXIC9BHC",
        "colab_type": "text"
      },
      "source": [
        "The rule of thumb threshold is VIF at the level of 2.5, meaning if the VIF is above 2.5 you should consider there is effect of multicollinearity. Therefore we will not drop any column as we dont risk building a model with high multicolinearity."
      ]
    },
    {
      "cell_type": "code",
      "metadata": {
        "id": "O_mOrN3M9N_E",
        "colab_type": "code",
        "colab": {}
      },
      "source": [
        "#seeing if the VIF score will change if we remove the home status\n",
        "#revised = X.drop(columns=['home_status'])\n",
        "\n",
        "#correlations = revised.corr()\n",
        "#pd.DataFrame(np.linalg.inv(correlations.values), index = correlations.index, columns=correlations.columns)"
      ],
      "execution_count": null,
      "outputs": []
    },
    {
      "cell_type": "code",
      "metadata": {
        "id": "Ov7pmDXgFFLe",
        "colab_type": "code",
        "colab": {}
      },
      "source": [
        ""
      ],
      "execution_count": null,
      "outputs": []
    },
    {
      "cell_type": "markdown",
      "metadata": {
        "id": "k1djHl3aE6ay",
        "colab_type": "text"
      },
      "source": [
        "###Building the model"
      ]
    },
    {
      "cell_type": "code",
      "metadata": {
        "id": "hBdzypT8MEwU",
        "colab_type": "code",
        "colab": {
          "base_uri": "https://localhost:8080/",
          "height": 84
        },
        "outputId": "16e9c6f5-4b58-4d17-e15d-92ac20535eb7"
      },
      "source": [
        "final_1.columns"
      ],
      "execution_count": null,
      "outputs": [
        {
          "output_type": "execute_result",
          "data": {
            "text/plain": [
              "Index(['Unnamed: 0', 'home_team', 'home_score', 'away_team', 'away_score',\n",
              "       'tournament', 'match_year', 'home_team_rank', 'away_team_rank',\n",
              "       'neutral', 'home_status'],\n",
              "      dtype='object')"
            ]
          },
          "metadata": {
            "tags": []
          },
          "execution_count": 116
        }
      ]
    },
    {
      "cell_type": "code",
      "metadata": {
        "id": "m_6BPvCOzZuW",
        "colab_type": "code",
        "colab": {
          "base_uri": "https://localhost:8080/",
          "height": 168
        },
        "outputId": "ebb09f9a-6661-4f66-86ea-3c835200372d"
      },
      "source": [
        "#Using the home team rank to create model\n",
        "X = final_1[['tournament','home_team_rank','away_team_rank','neutral','match_year']].values\n",
        "\n",
        "y = final_1['home_score'].values\n",
        "print(X)\n",
        "print(y)\n",
        "# Split the dataset into train and test sets\n",
        "X_train, Y_train, X_test, Y_test = train_test_split(X,y, test_size = 0.2, random_state=0)\n",
        "\n",
        "\n",
        "# Fit Linear Regression model to the dataset(this is optional. \n",
        "# We are doing this for the sole purpose of comparing the linear regression model to the polynomial regression model)\n",
        "reg_line = LinearRegression()\n",
        "reg_line.fit(X,y)\n",
        "\n",
        "# Visualize the Linear Regression results\n",
        "#plt.scatter(X, y, color='blue') # You can put any color you like. This just helps us highlight the data points\n",
        "#plt.plot(X, reg_line.predict(X), color='red')\n",
        "#plt.title('Salary Prediction(Linear Regression)')\n",
        "#plt.xlabel('Position Level')\n",
        "#plt.ylabel('Salary')\n",
        "#plt.show()\n",
        "\n",
        "# Fit polynomial Regression to the dataset\n",
        "poly_reg = PolynomialFeatures(degree = 2)\n",
        "\n",
        "X_poly = poly_reg.fit_transform(X)\n",
        "\n",
        "\n",
        "pol_reg = LinearRegression()\n",
        "pol_reg.fit(X_poly, y)\n",
        "\n",
        "#Visualize the Polynomial Regression results\n",
        "#plt.scatter(X, y, color='blue' ) # You can put any color you like. This just helps us highlight the data points\n",
        "#plt.plot(X, pol_reg.predict(X_poly), color='red')\n",
        "#plt.title('Salary Prediction (Polynomial Regression)')\n",
        "#plt.xlabel('Position Level')\n",
        "#plt.ylabel('Salary')\n",
        "#plt.figure(figsize=(20,20))\n",
        "#plt.show()\n",
        "\n",
        "pol_reg.predict(poly_reg.fit_transform([[1,50,50,1,2000]]))"
      ],
      "execution_count": null,
      "outputs": [
        {
          "output_type": "stream",
          "text": [
            "[[2.600e+01 1.900e+01 6.700e+01 0.000e+00 1.993e+03]\n",
            " [2.600e+01 7.000e+01 5.000e+00 0.000e+00 1.993e+03]\n",
            " [2.600e+01 2.200e+01 3.500e+01 0.000e+00 1.993e+03]\n",
            " ...\n",
            " [2.500e+01 1.200e+01 3.000e+00 1.000e+00 2.018e+03]\n",
            " [2.500e+01 7.000e+00 5.000e+00 1.000e+00 2.018e+03]\n",
            " [2.500e+01 1.400e+01 4.000e+00 1.000e+00 2.018e+03]]\n",
            "[0 0 0 ... 0 4 2]\n"
          ],
          "name": "stdout"
        },
        {
          "output_type": "execute_result",
          "data": {
            "text/plain": [
              "array([1.18815109])"
            ]
          },
          "metadata": {
            "tags": []
          },
          "execution_count": 176
        }
      ]
    },
    {
      "cell_type": "code",
      "metadata": {
        "id": "NzwZDOts5hqr",
        "colab_type": "code",
        "colab": {
          "base_uri": "https://localhost:8080/",
          "height": 67
        },
        "outputId": "ad099bf8-c71a-4996-e594-403013268b30"
      },
      "source": [
        "# Predict using linear regression\n",
        "lin_pred = reg_line.predict([[1,50,50,1,2000]])\n",
        "print('Linear prediction: %d' %lin_pred)\n",
        "\n",
        "# Predict using Polynomial Regression\n",
        "poly_pred = pol_reg.predict(poly_reg.fit_transform([[1,50,50,1,2000]]))\n",
        "print('Polynomial prediction: %d' %poly_pred)\n",
        "\n",
        "# We can also get the predictions as an array\n",
        "poly_arr_pred = pol_reg.predict(poly_reg.fit_transform(X))\n",
        "print(poly_arr_pred)"
      ],
      "execution_count": null,
      "outputs": [
        {
          "output_type": "stream",
          "text": [
            "Linear prediction: 1\n",
            "Polynomial prediction: 1\n",
            "[2.30972926 0.85917893 1.71846113 ... 1.38761933 1.42346811 1.36948287]\n"
          ],
          "name": "stdout"
        }
      ]
    },
    {
      "cell_type": "markdown",
      "metadata": {
        "id": "kPN7BNwfb4RQ",
        "colab_type": "text"
      },
      "source": [
        "The lienar regression model and polynomial regression model made the same prediction of the home score in both cases."
      ]
    },
    {
      "cell_type": "markdown",
      "metadata": {
        "id": "CCCf5VLJUR3g",
        "colab_type": "text"
      },
      "source": [
        "###Cross validation  using  repeated kfold \n",
        "\n",
        "A single run of the k-fold cross-validation procedure may result in a noisy estimate of model performance. Different splits of the data may result in very different results. ... Repeated k-fold cross-validation provides a way to reduce the error in the estimate of mean model performance."
      ]
    },
    {
      "cell_type": "code",
      "metadata": {
        "id": "sHm0hLfHT2O0",
        "colab_type": "code",
        "colab": {
          "base_uri": "https://localhost:8080/",
          "height": 890
        },
        "outputId": "dde6ade1-3b1c-4be5-f32a-622d515b05b2"
      },
      "source": [
        "import numpy as np\n",
        "from numpy import mean\n",
        "from numpy import std\n",
        "from sklearn import metrics\n",
        "from sklearn.model_selection import RepeatedKFold\n",
        "\n",
        "from sklearn.model_selection import cross_val_score\n",
        "from sklearn.linear_model import LogisticRegression\n",
        "# We will use the same 4 independent variables for this\n",
        "X = final_1[['tournament','home_team_rank','away_team_rank','neutral','match_year']].values\n",
        "\n",
        "y = final_1['home_score'].values\n",
        "\n",
        "rkf = RepeatedKFold(n_splits=5, n_repeats=10, random_state=2652124)\n",
        "\n",
        "# We now create and assess 5 models based on the folds we created.\n",
        "RMSES = [] # We will use this array to keep track of the RSME of each model\n",
        "count = 1 # This will just help \n",
        "\n",
        "\n",
        "for train_index, test_index in rkf.split(X):\n",
        "     print(\"TRAIN:\", train_index, \"TEST:\", test_index)\n",
        "# set up the train and test based on the split determined by KFold\n",
        "  # With 5 folds, we will end up with 80% of our data in the training set, and 20% in the test set, just as above\n",
        "     X_train, X_test = X[train_index], X[test_index]     \n",
        "     y_train, y_test = y[train_index], y[test_index]\n",
        "\n",
        "  # fit a model accordingly\n",
        "regressor = LinearRegression()  \n",
        "regressor.fit(X_train, y_train)\n",
        "  \n",
        "  # assess the accuraccy of the model\n",
        "y_pred = regressor.predict(X_test)\n",
        "\n",
        "rmse_value =  np.sqrt(metrics.mean_squared_error(y_test, y_pred))\n",
        "\n",
        "RMSES.append(rmse_value)\n",
        "  \n",
        "count = count + 1\n",
        "print('trained ' + str(count) + ' models' )\n",
        "np.mean(RMSES)\n",
        "\n",
        "# evaluate model\n",
        "#scores = cross_val_score(regressor, X, y, scoring='accuracy', cv=rkf, n_jobs=-1)\n",
        "# report performance\n",
        "#print('Accuracy: %.3f (%.3f)' % (mean(scores), std(scores)))"
      ],
      "execution_count": null,
      "outputs": [
        {
          "output_type": "stream",
          "text": [
            "TRAIN: [    1     2     4 ... 10519 10520 10521] TEST: [    0     3    12 ... 10506 10511 10514]\n",
            "TRAIN: [    0     2     3 ... 10518 10519 10520] TEST: [    1     4     6 ... 10504 10508 10521]\n",
            "TRAIN: [    0     1     2 ... 10519 10520 10521] TEST: [    5     9    21 ... 10510 10515 10517]\n",
            "TRAIN: [    0     1     2 ... 10518 10519 10521] TEST: [   10    15    16 ... 10505 10513 10520]\n",
            "TRAIN: [    0     1     3 ... 10517 10520 10521] TEST: [    2    43    46 ... 10516 10518 10519]\n",
            "TRAIN: [    0     1     2 ... 10519 10520 10521] TEST: [   13    16    23 ... 10503 10509 10518]\n",
            "TRAIN: [    0     1     2 ... 10518 10519 10521] TEST: [   19    29    32 ... 10500 10508 10520]\n",
            "TRAIN: [    0     1     2 ... 10519 10520 10521] TEST: [    3     6    10 ... 10502 10515 10516]\n",
            "TRAIN: [    0     2     3 ... 10519 10520 10521] TEST: [    1     4     5 ... 10499 10501 10517]\n",
            "TRAIN: [    1     3     4 ... 10517 10518 10520] TEST: [    0     2    15 ... 10514 10519 10521]\n",
            "TRAIN: [    1     3     4 ... 10518 10520 10521] TEST: [    0     2     6 ... 10510 10517 10519]\n",
            "TRAIN: [    0     1     2 ... 10519 10520 10521] TEST: [    5    11    12 ... 10511 10515 10518]\n",
            "TRAIN: [    0     1     2 ... 10519 10520 10521] TEST: [    4     9    22 ... 10507 10509 10516]\n",
            "TRAIN: [    0     1     2 ... 10518 10519 10521] TEST: [    8    13    14 ... 10487 10496 10520]\n",
            "TRAIN: [    0     2     4 ... 10518 10519 10520] TEST: [    1     3    17 ... 10513 10514 10521]\n",
            "TRAIN: [    0     1     3 ... 10518 10519 10520] TEST: [    2     8    25 ... 10506 10517 10521]\n",
            "TRAIN: [    0     1     2 ... 10519 10520 10521] TEST: [    3    10    12 ... 10508 10512 10516]\n",
            "TRAIN: [    0     1     2 ... 10519 10520 10521] TEST: [    7    13    14 ... 10510 10513 10515]\n",
            "TRAIN: [    0     2     3 ... 10517 10518 10521] TEST: [    1     4     5 ... 10507 10519 10520]\n",
            "TRAIN: [    1     2     3 ... 10519 10520 10521] TEST: [    0    19    22 ... 10511 10514 10518]\n",
            "TRAIN: [    0     2     3 ... 10518 10519 10521] TEST: [    1     5     8 ... 10501 10509 10520]\n",
            "TRAIN: [    0     1     2 ... 10516 10519 10520] TEST: [   10    14    16 ... 10517 10518 10521]\n",
            "TRAIN: [    0     1     3 ... 10519 10520 10521] TEST: [    2    13    23 ... 10506 10507 10510]\n",
            "TRAIN: [    0     1     2 ... 10519 10520 10521] TEST: [    3     4     6 ... 10504 10511 10516]\n",
            "TRAIN: [    1     2     3 ... 10518 10520 10521] TEST: [    0     7    11 ... 10512 10514 10519]\n",
            "TRAIN: [    4     5     7 ... 10519 10520 10521] TEST: [    0     1     2 ... 10494 10501 10507]\n",
            "TRAIN: [    0     1     2 ... 10519 10520 10521] TEST: [    5    13    15 ... 10496 10499 10516]\n",
            "TRAIN: [    0     1     2 ... 10516 10520 10521] TEST: [    7     9    10 ... 10517 10518 10519]\n",
            "TRAIN: [    0     1     2 ... 10519 10520 10521] TEST: [    4     8    12 ... 10490 10492 10515]\n",
            "TRAIN: [    0     1     2 ... 10517 10518 10519] TEST: [   28    32    37 ... 10512 10520 10521]\n",
            "TRAIN: [    0     1     2 ... 10518 10519 10521] TEST: [    5    14    17 ... 10504 10508 10520]\n",
            "TRAIN: [    0     2     3 ... 10518 10519 10520] TEST: [    1     9    11 ... 10514 10515 10521]\n",
            "TRAIN: [    1     2     3 ... 10519 10520 10521] TEST: [    0     4     7 ... 10484 10512 10517]\n",
            "TRAIN: [    0     1     2 ... 10517 10520 10521] TEST: [    6    15    18 ... 10516 10518 10519]\n",
            "TRAIN: [    0     1     4 ... 10519 10520 10521] TEST: [    2     3    29 ... 10503 10510 10513]\n",
            "TRAIN: [    0     1     2 ... 10518 10519 10521] TEST: [   18    23    25 ... 10506 10512 10520]\n",
            "TRAIN: [    0     1     2 ... 10519 10520 10521] TEST: [    3     6     7 ... 10501 10507 10513]\n",
            "TRAIN: [    0     1     2 ... 10519 10520 10521] TEST: [    5     8    11 ... 10490 10495 10496]\n",
            "TRAIN: [    0     1     3 ... 10519 10520 10521] TEST: [    2     4    10 ... 10511 10514 10518]\n",
            "TRAIN: [    2     3     4 ... 10514 10518 10520] TEST: [    0     1     9 ... 10517 10519 10521]\n",
            "TRAIN: [    2     3     4 ... 10519 10520 10521] TEST: [    0     1     9 ... 10501 10516 10518]\n",
            "TRAIN: [    0     1     2 ... 10518 10519 10521] TEST: [    3     6     8 ... 10512 10513 10520]\n",
            "TRAIN: [    0     1     3 ... 10519 10520 10521] TEST: [    2     4    22 ... 10510 10511 10517]\n",
            "TRAIN: [    0     1     2 ... 10519 10520 10521] TEST: [    7    20    32 ... 10503 10505 10514]\n",
            "TRAIN: [    0     1     2 ... 10517 10518 10520] TEST: [    5    16    18 ... 10515 10519 10521]\n",
            "TRAIN: [    1     2     3 ... 10515 10518 10521] TEST: [    0    14    20 ... 10517 10519 10520]\n",
            "TRAIN: [    0     1     3 ... 10519 10520 10521] TEST: [    2     5     6 ... 10508 10511 10518]\n",
            "TRAIN: [    0     1     2 ... 10519 10520 10521] TEST: [    4     8     9 ... 10496 10503 10506]\n",
            "TRAIN: [    0     1     2 ... 10519 10520 10521] TEST: [   11    15    16 ... 10498 10510 10513]\n",
            "TRAIN: [    0     2     4 ... 10518 10519 10520] TEST: [    1     3    10 ... 10497 10515 10521]\n",
            "trained 2 models\n"
          ],
          "name": "stdout"
        },
        {
          "output_type": "execute_result",
          "data": {
            "text/plain": [
              "1.508536932335562"
            ]
          },
          "metadata": {
            "tags": []
          },
          "execution_count": 144
        }
      ]
    },
    {
      "cell_type": "code",
      "metadata": {
        "id": "yLWFgpo536zT",
        "colab_type": "code",
        "colab": {
          "base_uri": "https://localhost:8080/",
          "height": 34
        },
        "outputId": "7836d6f3-04fd-4382-c272-a1f2b2c0a90a"
      },
      "source": [
        "# To improve on the model, all we need to do is to increase degree of the polynomial\n",
        "# Let's increase the degree to 3\n",
        "\n",
        "# Fit polynomial Regression to the dataset\n",
        "poly_reg = PolynomialFeatures(degree = 3) \n",
        "X_poly = poly_reg.fit_transform(X)\n",
        "\n",
        "\n",
        "pol_reg = LinearRegression()\n",
        "pol_reg.fit(X_poly, y)"
      ],
      "execution_count": null,
      "outputs": [
        {
          "output_type": "execute_result",
          "data": {
            "text/plain": [
              "LinearRegression(copy_X=True, fit_intercept=True, n_jobs=None, normalize=False)"
            ]
          },
          "metadata": {
            "tags": []
          },
          "execution_count": 134
        }
      ]
    },
    {
      "cell_type": "code",
      "metadata": {
        "id": "Dti5h9PMSvC0",
        "colab_type": "code",
        "colab": {
          "base_uri": "https://localhost:8080/",
          "height": 50
        },
        "outputId": "b163709e-d53f-4d0d-ff4d-585f89871e72"
      },
      "source": [
        "#display the intercept / bias\n",
        "print(reg_line.intercept_)\n",
        "\n",
        "#display the coefficient\n",
        "print(reg_line.coef_)"
      ],
      "execution_count": null,
      "outputs": [
        {
          "output_type": "stream",
          "text": [
            "32.65380120942025\n",
            "[ 0.00106552 -0.012126    0.01707088 -0.22942678 -0.01564661]\n"
          ],
          "name": "stdout"
        }
      ]
    },
    {
      "cell_type": "code",
      "metadata": {
        "id": "aoJswAVqUL-z",
        "colab_type": "code",
        "colab": {}
      },
      "source": [
        "#MAE\n",
        "#metrics.mean_absolute_error(X_test, poly_pred)"
      ],
      "execution_count": null,
      "outputs": []
    },
    {
      "cell_type": "markdown",
      "metadata": {
        "id": "UhueJxWIWK-A",
        "colab_type": "text"
      },
      "source": [
        "###Residual plots and heteroskedasticity plots"
      ]
    },
    {
      "cell_type": "code",
      "metadata": {
        "id": "2EQo__5YQ48A",
        "colab_type": "code",
        "colab": {
          "base_uri": "https://localhost:8080/",
          "height": 185
        },
        "outputId": "f2b4303f-4ab1-4fdb-89d4-ca969faf4c71"
      },
      "source": [
        "from sklearn import metrics\n",
        "from sklearn.model_selection import train_test_split\n",
        "from sklearn.linear_model import LinearRegression\n",
        "\n",
        "X = final_1[['tournament','home_team_rank','away_team_rank','neutral','match_year']].values\n",
        "y = final_1['home_score'].values\n",
        "\n",
        "# Split the dataset into train and test sets\n",
        "X_train, X_test, Y_train, Y_test = train_test_split(X,y, test_size = 0.2, random_state=0)\n",
        "\n",
        "#X_train, X_test, admit_train, admit_test = train_test_split(X, y, test_size=0.2, random_state=0)\n",
        "\n",
        "regressor = LinearRegression()\n",
        "regressor.fit(X_train, Y_train)\n",
        "\n",
        "# This is our prediction for admission based on our model\n",
        "poly_pred = regressor.predict(X_test)\n",
        "#admit_predict\n",
        "# We now create the residual by substracting the test value from the predicted \n",
        "# value for each row in our dataset\n",
        "residuals = np.subtract(poly_pred, Y_test)\n",
        "#residuals\n",
        "# Let's describe our residual:\n",
        "print(pd.DataFrame(residuals).describe())\n",
        "\n",
        "residuals.mean()"
      ],
      "execution_count": null,
      "outputs": [
        {
          "output_type": "stream",
          "text": [
            "                 0\n",
            "count  2105.000000\n",
            "mean     -0.027501\n",
            "std       1.617872\n",
            "min     -27.111769\n",
            "25%      -0.725627\n",
            "50%       0.188965\n",
            "75%       0.967120\n",
            "max       3.344445\n"
          ],
          "name": "stdout"
        },
        {
          "output_type": "execute_result",
          "data": {
            "text/plain": [
              "-0.027500863810369015"
            ]
          },
          "metadata": {
            "tags": []
          },
          "execution_count": 196
        }
      ]
    },
    {
      "cell_type": "code",
      "metadata": {
        "id": "pwqVgRL7Vb-s",
        "colab_type": "code",
        "colab": {
          "base_uri": "https://localhost:8080/",
          "height": 279
        },
        "outputId": "1fc1470e-90b6-4806-fa84-562899bb5cf3"
      },
      "source": [
        "import matplotlib.pyplot as plt\n",
        "\n",
        "plt.scatter(poly_pred, residuals, color='black')\n",
        "plt.ylabel('residual')\n",
        "\n",
        "\n",
        "plt.xlabel('fitted values')\n",
        "plt.axhline(y= residuals.mean(), color='red', linewidth=1)\n",
        "plt.show()"
      ],
      "execution_count": null,
      "outputs": [
        {
          "output_type": "display_data",
          "data": {
            "image/png": "[encoded data removed]",
            "text/plain": [
              "<Figure size 432x288 with 1 Axes>"
            ]
          },
          "metadata": {
            "tags": [],
            "needs_background": "light"
          }
        }
      ]
    },
    {
      "cell_type": "code",
      "metadata": {
        "id": "PFBbxxu4VwSY",
        "colab_type": "code",
        "colab": {
          "base_uri": "https://localhost:8080/",
          "height": 67
        },
        "outputId": "51210977-2163-4720-ca1d-32c7bf4e1a34"
      },
      "source": [
        "#bartlett's test for heteroskedasticity\n",
        "import scipy as sp\n",
        "\n",
        "test_result, p_value = sp.stats.bartlett(poly_pred, residuals)\n",
        "\n",
        "# To interpret the results we must also compute a critical value of the chi squared distribution\n",
        "degree_of_freedom = len(poly_pred)-1\n",
        "probability = 1 - p_value\n",
        "\n",
        "critical_value = sp.stats.chi2.ppf(probability, degree_of_freedom)\n",
        "print(critical_value)\n",
        "print(test_result)\n",
        "# If the test_result is greater than the critical value, then we reject our null\n",
        "# hypothesis. This would mean that there are patterns to the variance of the data\n",
        "\n",
        "\n",
        "# Otherwise, we can identify no patterns, and we accept the null hypothesis that \n",
        "# the variance is homogeneous across our data\n",
        "\n",
        "if (test_result > critical_value):\n",
        "  print('the variances are unequal, and the model should be reassessed')\n",
        "else:\n",
        "  print('the variances are homogeneous!')"
      ],
      "execution_count": null,
      "outputs": [
        {
          "output_type": "stream",
          "text": [
            "inf\n",
            "850.5445377635714\n",
            "the variances are homogeneous!\n"
          ],
          "name": "stdout"
        }
      ]
    },
    {
      "cell_type": "markdown",
      "metadata": {
        "id": "8EFQGyPXRt0o",
        "colab_type": "text"
      },
      "source": [
        "### Challenging the solution"
      ]
    },
    {
      "cell_type": "code",
      "metadata": {
        "id": "_EW7DW6SRxwd",
        "colab_type": "code",
        "colab": {}
      },
      "source": [
        "from sklearn.preprocessing import StandardScaler\n",
        "feature_scaler = StandardScaler()\n",
        "X_train = feature_scaler.fit_transform(X_train)\n",
        "X_test = feature_scaler.transform(X_test)"
      ],
      "execution_count": null,
      "outputs": []
    },
    {
      "cell_type": "code",
      "metadata": {
        "id": "sXKg0uHyt3oi",
        "colab_type": "code",
        "colab": {}
      },
      "source": [
        "# Training and Cross Validation\n",
        "# ---\n",
        "# \n",
        "from sklearn.ensemble import RandomForestClassifier\n",
        "classifier = RandomForestClassifier(n_estimators=200, random_state=0)"
      ],
      "execution_count": null,
      "outputs": []
    },
    {
      "cell_type": "code",
      "metadata": {
        "id": "wC19AYpkt_6R",
        "colab_type": "code",
        "colab": {
          "base_uri": "https://localhost:8080/",
          "height": 354
        },
        "outputId": "7a5e7ab0-b6d0-4e5e-e031-9bcc58ac8683"
      },
      "source": [
        "# Training and Cross Validation\n",
        "# ---\n",
        "# Next, to implement cross validation, the cross_val_score method \n",
        "# of the sklearn.model_selection library can be used. \n",
        "# The cross_val_score returns the accuracy for all the folds. \n",
        "# Values for 5 parameters are required to be passed to the cross_val_score class. \n",
        "# The first parameter is estimator which basically specifies \n",
        "# the algorithm that you want to use for cross validation. \n",
        "# The second and third parameters, X and y, contain the X_train and y_train data i.e. features and labels. \n",
        "# Finally the number of folds is passed to the cv parameter as shown in the following code\n",
        "# ---\n",
        "# \n",
        "from sklearn.model_selection import cross_val_score\n",
        "all_accuracies = cross_val_score(estimator=classifier, X=X_train, y=y_train, cv=5)\n",
        "all_accuracies"
      ],
      "execution_count": null,
      "outputs": [
        {
          "output_type": "error",
          "ename": "ValueError",
          "evalue": "ignored",
          "traceback": [
            "\u001b[0;31m---------------------------------------------------------------------------\u001b[0m",
            "\u001b[0;31mValueError\u001b[0m                                Traceback (most recent call last)",
            "\u001b[0;32m<ipython-input-208-5d03d45c11ff>\u001b[0m in \u001b[0;36m<module>\u001b[0;34m()\u001b[0m\n\u001b[1;32m     12\u001b[0m \u001b[0;31m#\u001b[0m\u001b[0;34m\u001b[0m\u001b[0;34m\u001b[0m\u001b[0;34m\u001b[0m\u001b[0m\n\u001b[1;32m     13\u001b[0m \u001b[0;32mfrom\u001b[0m \u001b[0msklearn\u001b[0m\u001b[0;34m.\u001b[0m\u001b[0mmodel_selection\u001b[0m \u001b[0;32mimport\u001b[0m \u001b[0mcross_val_score\u001b[0m\u001b[0;34m\u001b[0m\u001b[0;34m\u001b[0m\u001b[0m\n\u001b[0;32m---> 14\u001b[0;31m \u001b[0mall_accuracies\u001b[0m \u001b[0;34m=\u001b[0m \u001b[0mcross_val_score\u001b[0m\u001b[0;34m(\u001b[0m\u001b[0mestimator\u001b[0m\u001b[0;34m=\u001b[0m\u001b[0mclassifier\u001b[0m\u001b[0;34m,\u001b[0m \u001b[0mX\u001b[0m\u001b[0;34m=\u001b[0m\u001b[0mX_train\u001b[0m\u001b[0;34m,\u001b[0m \u001b[0my\u001b[0m\u001b[0;34m=\u001b[0m\u001b[0my_train\u001b[0m\u001b[0;34m,\u001b[0m \u001b[0mcv\u001b[0m\u001b[0;34m=\u001b[0m\u001b[0;36m5\u001b[0m\u001b[0;34m)\u001b[0m\u001b[0;34m\u001b[0m\u001b[0;34m\u001b[0m\u001b[0m\n\u001b[0m\u001b[1;32m     15\u001b[0m \u001b[0mall_accuracies\u001b[0m\u001b[0;34m\u001b[0m\u001b[0;34m\u001b[0m\u001b[0m\n",
            "\u001b[0;32m/usr/local/lib/python3.6/dist-packages/sklearn/model_selection/_validation.py\u001b[0m in \u001b[0;36mcross_val_score\u001b[0;34m(estimator, X, y, groups, scoring, cv, n_jobs, verbose, fit_params, pre_dispatch, error_score)\u001b[0m\n\u001b[1;32m    388\u001b[0m                                 \u001b[0mfit_params\u001b[0m\u001b[0;34m=\u001b[0m\u001b[0mfit_params\u001b[0m\u001b[0;34m,\u001b[0m\u001b[0;34m\u001b[0m\u001b[0;34m\u001b[0m\u001b[0m\n\u001b[1;32m    389\u001b[0m                                 \u001b[0mpre_dispatch\u001b[0m\u001b[0;34m=\u001b[0m\u001b[0mpre_dispatch\u001b[0m\u001b[0;34m,\u001b[0m\u001b[0;34m\u001b[0m\u001b[0;34m\u001b[0m\u001b[0m\n\u001b[0;32m--> 390\u001b[0;31m                                 error_score=error_score)\n\u001b[0m\u001b[1;32m    391\u001b[0m     \u001b[0;32mreturn\u001b[0m \u001b[0mcv_results\u001b[0m\u001b[0;34m[\u001b[0m\u001b[0;34m'test_score'\u001b[0m\u001b[0;34m]\u001b[0m\u001b[0;34m\u001b[0m\u001b[0;34m\u001b[0m\u001b[0m\n\u001b[1;32m    392\u001b[0m \u001b[0;34m\u001b[0m\u001b[0m\n",
            "\u001b[0;32m/usr/local/lib/python3.6/dist-packages/sklearn/model_selection/_validation.py\u001b[0m in \u001b[0;36mcross_validate\u001b[0;34m(estimator, X, y, groups, scoring, cv, n_jobs, verbose, fit_params, pre_dispatch, return_train_score, return_estimator, error_score)\u001b[0m\n\u001b[1;32m    219\u001b[0m \u001b[0;34m\u001b[0m\u001b[0m\n\u001b[1;32m    220\u001b[0m     \"\"\"\n\u001b[0;32m--> 221\u001b[0;31m     \u001b[0mX\u001b[0m\u001b[0;34m,\u001b[0m \u001b[0my\u001b[0m\u001b[0;34m,\u001b[0m \u001b[0mgroups\u001b[0m \u001b[0;34m=\u001b[0m \u001b[0mindexable\u001b[0m\u001b[0;34m(\u001b[0m\u001b[0mX\u001b[0m\u001b[0;34m,\u001b[0m \u001b[0my\u001b[0m\u001b[0;34m,\u001b[0m \u001b[0mgroups\u001b[0m\u001b[0;34m)\u001b[0m\u001b[0;34m\u001b[0m\u001b[0;34m\u001b[0m\u001b[0m\n\u001b[0m\u001b[1;32m    222\u001b[0m \u001b[0;34m\u001b[0m\u001b[0m\n\u001b[1;32m    223\u001b[0m     \u001b[0mcv\u001b[0m \u001b[0;34m=\u001b[0m \u001b[0mcheck_cv\u001b[0m\u001b[0;34m(\u001b[0m\u001b[0mcv\u001b[0m\u001b[0;34m,\u001b[0m \u001b[0my\u001b[0m\u001b[0;34m,\u001b[0m \u001b[0mclassifier\u001b[0m\u001b[0;34m=\u001b[0m\u001b[0mis_classifier\u001b[0m\u001b[0;34m(\u001b[0m\u001b[0mestimator\u001b[0m\u001b[0;34m)\u001b[0m\u001b[0;34m)\u001b[0m\u001b[0;34m\u001b[0m\u001b[0;34m\u001b[0m\u001b[0m\n",
            "\u001b[0;32m/usr/local/lib/python3.6/dist-packages/sklearn/utils/validation.py\u001b[0m in \u001b[0;36mindexable\u001b[0;34m(*iterables)\u001b[0m\n\u001b[1;32m    246\u001b[0m     \"\"\"\n\u001b[1;32m    247\u001b[0m     \u001b[0mresult\u001b[0m \u001b[0;34m=\u001b[0m \u001b[0;34m[\u001b[0m\u001b[0m_make_indexable\u001b[0m\u001b[0;34m(\u001b[0m\u001b[0mX\u001b[0m\u001b[0;34m)\u001b[0m \u001b[0;32mfor\u001b[0m \u001b[0mX\u001b[0m \u001b[0;32min\u001b[0m \u001b[0miterables\u001b[0m\u001b[0;34m]\u001b[0m\u001b[0;34m\u001b[0m\u001b[0;34m\u001b[0m\u001b[0m\n\u001b[0;32m--> 248\u001b[0;31m     \u001b[0mcheck_consistent_length\u001b[0m\u001b[0;34m(\u001b[0m\u001b[0;34m*\u001b[0m\u001b[0mresult\u001b[0m\u001b[0;34m)\u001b[0m\u001b[0;34m\u001b[0m\u001b[0;34m\u001b[0m\u001b[0m\n\u001b[0m\u001b[1;32m    249\u001b[0m     \u001b[0;32mreturn\u001b[0m \u001b[0mresult\u001b[0m\u001b[0;34m\u001b[0m\u001b[0;34m\u001b[0m\u001b[0m\n\u001b[1;32m    250\u001b[0m \u001b[0;34m\u001b[0m\u001b[0m\n",
            "\u001b[0;32m/usr/local/lib/python3.6/dist-packages/sklearn/utils/validation.py\u001b[0m in \u001b[0;36mcheck_consistent_length\u001b[0;34m(*arrays)\u001b[0m\n\u001b[1;32m    210\u001b[0m     \u001b[0;32mif\u001b[0m \u001b[0mlen\u001b[0m\u001b[0;34m(\u001b[0m\u001b[0muniques\u001b[0m\u001b[0;34m)\u001b[0m \u001b[0;34m>\u001b[0m \u001b[0;36m1\u001b[0m\u001b[0;34m:\u001b[0m\u001b[0;34m\u001b[0m\u001b[0;34m\u001b[0m\u001b[0m\n\u001b[1;32m    211\u001b[0m         raise ValueError(\"Found input variables with inconsistent numbers of\"\n\u001b[0;32m--> 212\u001b[0;31m                          \" samples: %r\" % [int(l) for l in lengths])\n\u001b[0m\u001b[1;32m    213\u001b[0m \u001b[0;34m\u001b[0m\u001b[0m\n\u001b[1;32m    214\u001b[0m \u001b[0;34m\u001b[0m\u001b[0m\n",
            "\u001b[0;31mValueError\u001b[0m: Found input variables with inconsistent numbers of samples: [8417, 8418]"
          ]
        }
      ]
    },
    {
      "cell_type": "markdown",
      "metadata": {
        "id": "ZKlvaUXkQHSJ",
        "colab_type": "text"
      },
      "source": [
        "#Model 2:Polynomial regression: Predict how many goals the away team scores. "
      ]
    },
    {
      "cell_type": "code",
      "metadata": {
        "id": "9jObxvXIfsPU",
        "colab_type": "code",
        "colab": {}
      },
      "source": [
        "#importing the libraries we need\n",
        "from sklearn import metrics\n",
        "from sklearn.model_selection import train_test_split\n",
        "\n",
        "from sklearn.linear_model import LinearRegression\n",
        "from sklearn.preprocessing import PolynomialFeatures"
      ],
      "execution_count": null,
      "outputs": []
    },
    {
      "cell_type": "code",
      "metadata": {
        "id": "b8ZhAAbvf3Ew",
        "colab_type": "code",
        "colab": {
          "base_uri": "https://localhost:8080/",
          "height": 838
        },
        "outputId": "fe5d4f67-56b5-4312-f3dc-aac03873e77b"
      },
      "source": [
        "#Get the 2 and the last column from the dataset \n",
        "X = final_1[['tournament','home_team_rank','away_team_rank','neutral','match_year']]\n",
        "\n",
        "y = final_1['away_score']\n",
        "print(X)\n",
        "print(y)\n",
        "#The tournamnet type is picked as it will dictate the level of competitivenesss the teams will put out.\n",
        "#The home team rank and away team rank are picked as they have a positive moderate correlation with the score\n",
        "# Nueatral was picked as wther a game was played in a neutral ground affects the outcome of the match from previous research.\n",
        "\n",
        "X = pd.get_dummies(X, drop_first=True)\n",
        "X"
      ],
      "execution_count": null,
      "outputs": [
        {
          "output_type": "stream",
          "text": [
            "       tournament  home_team_rank  away_team_rank  neutral  match_year\n",
            "0              26            19.0            67.0        0        1993\n",
            "1              26            70.0             5.0        0        1993\n",
            "2              26            22.0            35.0        0        1993\n",
            "3              26            94.0             8.0        0        1993\n",
            "4              26            58.0            25.0        1        1993\n",
            "...           ...             ...             ...      ...         ...\n",
            "10517          25            27.0            16.0        1        2018\n",
            "10518          25            55.0            21.0        1        2018\n",
            "10519          25            12.0             3.0        1        2018\n",
            "10520          25             7.0             5.0        1        2018\n",
            "10521          25            14.0             4.0        1        2018\n",
            "\n",
            "[10522 rows x 5 columns]\n",
            "0        0\n",
            "1        1\n",
            "2        0\n",
            "3        5\n",
            "4        0\n",
            "        ..\n",
            "10517    1\n",
            "10518    2\n",
            "10519    1\n",
            "10520    3\n",
            "10521    1\n",
            "Name: away_score, Length: 10522, dtype: int64\n"
          ],
          "name": "stdout"
        },
        {
          "output_type": "execute_result",
          "data": {
            "text/html": [
              "<div>\n",
              "<style scoped>\n",
              "    .dataframe tbody tr th:only-of-type {\n",
              "        vertical-align: middle;\n",
              "    }\n",
              "\n",
              "    .dataframe tbody tr th {\n",
              "        vertical-align: top;\n",
              "    }\n",
              "\n",
              "    .dataframe thead th {\n",
              "        text-align: right;\n",
              "    }\n",
              "</style>\n",
              "<table border=\"1\" class=\"dataframe\">\n",
              "  <thead>\n",
              "    <tr style=\"text-align: right;\">\n",
              "      <th></th>\n",
              "      <th>tournament</th>\n",
              "      <th>home_team_rank</th>\n",
              "      <th>away_team_rank</th>\n",
              "      <th>neutral</th>\n",
              "      <th>match_year</th>\n",
              "    </tr>\n",
              "  </thead>\n",
              "  <tbody>\n",
              "    <tr>\n",
              "      <th>0</th>\n",
              "      <td>26</td>\n",
              "      <td>19.0</td>\n",
              "      <td>67.0</td>\n",
              "      <td>0</td>\n",
              "      <td>1993</td>\n",
              "    </tr>\n",
              "    <tr>\n",
              "      <th>1</th>\n",
              "      <td>26</td>\n",
              "      <td>70.0</td>\n",
              "      <td>5.0</td>\n",
              "      <td>0</td>\n",
              "      <td>1993</td>\n",
              "    </tr>\n",
              "    <tr>\n",
              "      <th>2</th>\n",
              "      <td>26</td>\n",
              "      <td>22.0</td>\n",
              "      <td>35.0</td>\n",
              "      <td>0</td>\n",
              "      <td>1993</td>\n",
              "    </tr>\n",
              "    <tr>\n",
              "      <th>3</th>\n",
              "      <td>26</td>\n",
              "      <td>94.0</td>\n",
              "      <td>8.0</td>\n",
              "      <td>0</td>\n",
              "      <td>1993</td>\n",
              "    </tr>\n",
              "    <tr>\n",
              "      <th>4</th>\n",
              "      <td>26</td>\n",
              "      <td>58.0</td>\n",
              "      <td>25.0</td>\n",
              "      <td>1</td>\n",
              "      <td>1993</td>\n",
              "    </tr>\n",
              "    <tr>\n",
              "      <th>...</th>\n",
              "      <td>...</td>\n",
              "      <td>...</td>\n",
              "      <td>...</td>\n",
              "      <td>...</td>\n",
              "      <td>...</td>\n",
              "    </tr>\n",
              "    <tr>\n",
              "      <th>10517</th>\n",
              "      <td>25</td>\n",
              "      <td>27.0</td>\n",
              "      <td>16.0</td>\n",
              "      <td>1</td>\n",
              "      <td>2018</td>\n",
              "    </tr>\n",
              "    <tr>\n",
              "      <th>10518</th>\n",
              "      <td>25</td>\n",
              "      <td>55.0</td>\n",
              "      <td>21.0</td>\n",
              "      <td>1</td>\n",
              "      <td>2018</td>\n",
              "    </tr>\n",
              "    <tr>\n",
              "      <th>10519</th>\n",
              "      <td>25</td>\n",
              "      <td>12.0</td>\n",
              "      <td>3.0</td>\n",
              "      <td>1</td>\n",
              "      <td>2018</td>\n",
              "    </tr>\n",
              "    <tr>\n",
              "      <th>10520</th>\n",
              "      <td>25</td>\n",
              "      <td>7.0</td>\n",
              "      <td>5.0</td>\n",
              "      <td>1</td>\n",
              "      <td>2018</td>\n",
              "    </tr>\n",
              "    <tr>\n",
              "      <th>10521</th>\n",
              "      <td>25</td>\n",
              "      <td>14.0</td>\n",
              "      <td>4.0</td>\n",
              "      <td>1</td>\n",
              "      <td>2018</td>\n",
              "    </tr>\n",
              "  </tbody>\n",
              "</table>\n",
              "<p>10522 rows × 5 columns</p>\n",
              "</div>"
            ],
            "text/plain": [
              "       tournament  home_team_rank  away_team_rank  neutral  match_year\n",
              "0              26            19.0            67.0        0        1993\n",
              "1              26            70.0             5.0        0        1993\n",
              "2              26            22.0            35.0        0        1993\n",
              "3              26            94.0             8.0        0        1993\n",
              "4              26            58.0            25.0        1        1993\n",
              "...           ...             ...             ...      ...         ...\n",
              "10517          25            27.0            16.0        1        2018\n",
              "10518          25            55.0            21.0        1        2018\n",
              "10519          25            12.0             3.0        1        2018\n",
              "10520          25             7.0             5.0        1        2018\n",
              "10521          25            14.0             4.0        1        2018\n",
              "\n",
              "[10522 rows x 5 columns]"
            ]
          },
          "metadata": {
            "tags": []
          },
          "execution_count": 186
        }
      ]
    },
    {
      "cell_type": "markdown",
      "metadata": {
        "id": "25pHJGgjgE9m",
        "colab_type": "text"
      },
      "source": [
        "###Checking for multicollinearity"
      ]
    },
    {
      "cell_type": "code",
      "metadata": {
        "id": "blJDML5-gIHR",
        "colab_type": "code",
        "colab": {
          "base_uri": "https://localhost:8080/",
          "height": 195
        },
        "outputId": "cfcfdae0-7626-45bc-edf0-6b4fa8a50e47"
      },
      "source": [
        "# Let's display the correlations between the variables\n",
        "correlations=X.corr()\n",
        "correlations"
      ],
      "execution_count": null,
      "outputs": [
        {
          "output_type": "execute_result",
          "data": {
            "text/html": [
              "<div>\n",
              "<style scoped>\n",
              "    .dataframe tbody tr th:only-of-type {\n",
              "        vertical-align: middle;\n",
              "    }\n",
              "\n",
              "    .dataframe tbody tr th {\n",
              "        vertical-align: top;\n",
              "    }\n",
              "\n",
              "    .dataframe thead th {\n",
              "        text-align: right;\n",
              "    }\n",
              "</style>\n",
              "<table border=\"1\" class=\"dataframe\">\n",
              "  <thead>\n",
              "    <tr style=\"text-align: right;\">\n",
              "      <th></th>\n",
              "      <th>tournament</th>\n",
              "      <th>home_team_rank</th>\n",
              "      <th>away_team_rank</th>\n",
              "      <th>neutral</th>\n",
              "      <th>match_year</th>\n",
              "    </tr>\n",
              "  </thead>\n",
              "  <tbody>\n",
              "    <tr>\n",
              "      <th>tournament</th>\n",
              "      <td>1.000000</td>\n",
              "      <td>-0.181589</td>\n",
              "      <td>-0.194909</td>\n",
              "      <td>-0.102544</td>\n",
              "      <td>-0.077456</td>\n",
              "    </tr>\n",
              "    <tr>\n",
              "      <th>home_team_rank</th>\n",
              "      <td>-0.181589</td>\n",
              "      <td>1.000000</td>\n",
              "      <td>0.416741</td>\n",
              "      <td>0.068149</td>\n",
              "      <td>0.099268</td>\n",
              "    </tr>\n",
              "    <tr>\n",
              "      <th>away_team_rank</th>\n",
              "      <td>-0.194909</td>\n",
              "      <td>0.416741</td>\n",
              "      <td>1.000000</td>\n",
              "      <td>0.081978</td>\n",
              "      <td>0.081990</td>\n",
              "    </tr>\n",
              "    <tr>\n",
              "      <th>neutral</th>\n",
              "      <td>-0.102544</td>\n",
              "      <td>0.068149</td>\n",
              "      <td>0.081978</td>\n",
              "      <td>1.000000</td>\n",
              "      <td>0.016215</td>\n",
              "    </tr>\n",
              "    <tr>\n",
              "      <th>match_year</th>\n",
              "      <td>-0.077456</td>\n",
              "      <td>0.099268</td>\n",
              "      <td>0.081990</td>\n",
              "      <td>0.016215</td>\n",
              "      <td>1.000000</td>\n",
              "    </tr>\n",
              "  </tbody>\n",
              "</table>\n",
              "</div>"
            ],
            "text/plain": [
              "                tournament  home_team_rank  ...   neutral  match_year\n",
              "tournament        1.000000       -0.181589  ... -0.102544   -0.077456\n",
              "home_team_rank   -0.181589        1.000000  ...  0.068149    0.099268\n",
              "away_team_rank   -0.194909        0.416741  ...  0.081978    0.081990\n",
              "neutral          -0.102544        0.068149  ...  1.000000    0.016215\n",
              "match_year       -0.077456        0.099268  ...  0.016215    1.000000\n",
              "\n",
              "[5 rows x 5 columns]"
            ]
          },
          "metadata": {
            "tags": []
          },
          "execution_count": 187
        }
      ]
    },
    {
      "cell_type": "code",
      "metadata": {
        "id": "InLiqsfFgNV0",
        "colab_type": "code",
        "colab": {
          "base_uri": "https://localhost:8080/",
          "height": 195
        },
        "outputId": "c82c8f1d-a5d2-4d02-a579-0a16eaa417d1"
      },
      "source": [
        "#Creating a dataframe and getting the inverse\n",
        "pd.DataFrame(np.linalg.inv(correlations.values), index = correlations.index, columns=correlations.columns)"
      ],
      "execution_count": null,
      "outputs": [
        {
          "output_type": "execute_result",
          "data": {
            "text/html": [
              "<div>\n",
              "<style scoped>\n",
              "    .dataframe tbody tr th:only-of-type {\n",
              "        vertical-align: middle;\n",
              "    }\n",
              "\n",
              "    .dataframe tbody tr th {\n",
              "        vertical-align: top;\n",
              "    }\n",
              "\n",
              "    .dataframe thead th {\n",
              "        text-align: right;\n",
              "    }\n",
              "</style>\n",
              "<table border=\"1\" class=\"dataframe\">\n",
              "  <thead>\n",
              "    <tr style=\"text-align: right;\">\n",
              "      <th></th>\n",
              "      <th>tournament</th>\n",
              "      <th>home_team_rank</th>\n",
              "      <th>away_team_rank</th>\n",
              "      <th>neutral</th>\n",
              "      <th>match_year</th>\n",
              "    </tr>\n",
              "  </thead>\n",
              "  <tbody>\n",
              "    <tr>\n",
              "      <th>tournament</th>\n",
              "      <td>1.063687</td>\n",
              "      <td>0.121077</td>\n",
              "      <td>0.144971</td>\n",
              "      <td>0.088013</td>\n",
              "      <td>0.057057</td>\n",
              "    </tr>\n",
              "    <tr>\n",
              "      <th>home_team_rank</th>\n",
              "      <td>0.121077</td>\n",
              "      <td>1.231898</td>\n",
              "      <td>-0.481269</td>\n",
              "      <td>-0.030901</td>\n",
              "      <td>-0.072949</td>\n",
              "    </tr>\n",
              "    <tr>\n",
              "      <th>away_team_rank</th>\n",
              "      <td>0.144971</td>\n",
              "      <td>-0.481269</td>\n",
              "      <td>1.236573</td>\n",
              "      <td>-0.053035</td>\n",
              "      <td>-0.041523</td>\n",
              "    </tr>\n",
              "    <tr>\n",
              "      <th>neutral</th>\n",
              "      <td>0.088013</td>\n",
              "      <td>-0.030901</td>\n",
              "      <td>-0.053035</td>\n",
              "      <td>1.015515</td>\n",
              "      <td>-0.002233</td>\n",
              "    </tr>\n",
              "    <tr>\n",
              "      <th>match_year</th>\n",
              "      <td>0.057057</td>\n",
              "      <td>-0.072949</td>\n",
              "      <td>-0.041523</td>\n",
              "      <td>-0.002233</td>\n",
              "      <td>1.015102</td>\n",
              "    </tr>\n",
              "  </tbody>\n",
              "</table>\n",
              "</div>"
            ],
            "text/plain": [
              "                tournament  home_team_rank  ...   neutral  match_year\n",
              "tournament        1.063687        0.121077  ...  0.088013    0.057057\n",
              "home_team_rank    0.121077        1.231898  ... -0.030901   -0.072949\n",
              "away_team_rank    0.144971       -0.481269  ... -0.053035   -0.041523\n",
              "neutral           0.088013       -0.030901  ...  1.015515   -0.002233\n",
              "match_year        0.057057       -0.072949  ... -0.002233    1.015102\n",
              "\n",
              "[5 rows x 5 columns]"
            ]
          },
          "metadata": {
            "tags": []
          },
          "execution_count": 188
        }
      ]
    },
    {
      "cell_type": "markdown",
      "metadata": {
        "id": "_Y0s-yBbgXqR",
        "colab_type": "text"
      },
      "source": [
        "###Building the model"
      ]
    },
    {
      "cell_type": "code",
      "metadata": {
        "id": "9RQ86RuZgaCg",
        "colab_type": "code",
        "colab": {
          "base_uri": "https://localhost:8080/",
          "height": 151
        },
        "outputId": "212f55e2-2e0c-4b7b-d5aa-7ca0305dccd5"
      },
      "source": [
        "#Using the home team rank to create model\n",
        "X = final_1[['tournament','home_team_rank','away_team_rank','neutral','match_year']].values\n",
        "\n",
        "y = final_1['away_score'].values\n",
        "print(X)\n",
        "print(y)\n",
        "# Split the dataset into train and test sets\n",
        "X_train, Y_train, X_test, Y_test = train_test_split(X,y, test_size = 0.2, random_state=0)\n",
        "\n",
        "# Scaling our Data\n",
        "# ---\n",
        "\n",
        "#from sklearn.preprocessing import StandardScaler\n",
        "#feature_scaler = StandardScaler()\n",
        "#X_train = feature_scaler.fit_transform(X_train)\n",
        "#X_test = feature_scaler.transform(X_test)"
      ],
      "execution_count": null,
      "outputs": [
        {
          "output_type": "stream",
          "text": [
            "[[2.600e+01 1.900e+01 6.700e+01 0.000e+00 1.993e+03]\n",
            " [2.600e+01 7.000e+01 5.000e+00 0.000e+00 1.993e+03]\n",
            " [2.600e+01 2.200e+01 3.500e+01 0.000e+00 1.993e+03]\n",
            " ...\n",
            " [2.500e+01 1.200e+01 3.000e+00 1.000e+00 2.018e+03]\n",
            " [2.500e+01 7.000e+00 5.000e+00 1.000e+00 2.018e+03]\n",
            " [2.500e+01 1.400e+01 4.000e+00 1.000e+00 2.018e+03]]\n",
            "[0 1 0 ... 1 3 1]\n"
          ],
          "name": "stdout"
        }
      ]
    },
    {
      "cell_type": "code",
      "metadata": {
        "id": "_wMQwCCdj-m0",
        "colab_type": "code",
        "colab": {
          "base_uri": "https://localhost:8080/",
          "height": 34
        },
        "outputId": "98f01f34-0e1f-46ee-bb42-ab6955046253"
      },
      "source": [
        "# Fit Linear Regression model to the dataset(this is optional. \n",
        "# We are doing this for the sole purpose of comparing the linear regression model to the polynomial regression model)\n",
        "reg_line = LinearRegression()\n",
        "reg_line.fit(X,y)\n",
        "\n",
        "# Fit polynomial Regression to the dataset\n",
        "poly_reg = PolynomialFeatures(degree = 3)\n",
        "X_poly = poly_reg.fit_transform(X)\n",
        "\n",
        "\n",
        "pol_reg = LinearRegression()\n",
        "pol_reg.fit(X_poly, y)\n",
        "\n",
        "\n",
        "pol_reg.predict(poly_reg.fit_transform([[1,50,50,1,2000]]))"
      ],
      "execution_count": null,
      "outputs": [
        {
          "output_type": "execute_result",
          "data": {
            "text/plain": [
              "array([1.25494936])"
            ]
          },
          "metadata": {
            "tags": []
          },
          "execution_count": 198
        }
      ]
    },
    {
      "cell_type": "code",
      "metadata": {
        "id": "p-m1kVu1giG3",
        "colab_type": "code",
        "colab": {
          "base_uri": "https://localhost:8080/",
          "height": 67
        },
        "outputId": "e8bffa47-0386-45c8-a088-24eca2010abc"
      },
      "source": [
        "# Predict using linear regression\n",
        "lin_pred = reg_line.predict([[1,50,50,1,2000]])\n",
        "print('Linear prediction: %d' %lin_pred)\n",
        "\n",
        "# Predict using Polynomial Regression\n",
        "poly_pred = pol_reg.predict(poly_reg.fit_transform([[1,50,50,1,2000]]))\n",
        "print('Polynomial prediction: %d' %poly_pred)\n",
        "\n",
        "# We can also get the predictions as an array\n",
        "poly_arr_pred = pol_reg.predict(poly_reg.fit_transform(X))\n",
        "print(poly_arr_pred)"
      ],
      "execution_count": null,
      "outputs": [
        {
          "output_type": "stream",
          "text": [
            "Linear prediction: 1\n",
            "Polynomial prediction: 1\n",
            "[0.47751979 1.89046179 0.78487199 ... 1.52329777 1.4280017  1.52082886]\n"
          ],
          "name": "stdout"
        }
      ]
    },
    {
      "cell_type": "markdown",
      "metadata": {
        "id": "Igu91FYFg30y",
        "colab_type": "text"
      },
      "source": [
        "The lienar regression model and polynomial regression model made the same prediction of the home score in both cases."
      ]
    },
    {
      "cell_type": "markdown",
      "metadata": {
        "id": "OhkFSNwfgtLP",
        "colab_type": "text"
      },
      "source": [
        "###Cross validation using the repeated kfold approach"
      ]
    },
    {
      "cell_type": "code",
      "metadata": {
        "id": "iOAdgnJ2gxP_",
        "colab_type": "code",
        "colab": {
          "base_uri": "https://localhost:8080/",
          "height": 890
        },
        "outputId": "50c9e134-5312-4d2a-9a81-e4326e4d34bf"
      },
      "source": [
        "import numpy as np\n",
        "from numpy import mean\n",
        "from numpy import std\n",
        "from sklearn import metrics\n",
        "from sklearn.model_selection import RepeatedKFold\n",
        "\n",
        "from sklearn.model_selection import cross_val_score\n",
        "from sklearn.linear_model import LogisticRegression\n",
        "# We will use the same 4 independent variables for this\n",
        "X = final_1[['tournament','home_team_rank','away_team_rank','neutral','match_year']].values\n",
        "\n",
        "y = final_1['away_score'].values\n",
        "\n",
        "rkf = RepeatedKFold(n_splits=5, n_repeats=10, random_state=2652124)\n",
        "\n",
        "# We now create and assess 5 models based on the folds we created.\n",
        "RMSES = [] # We will use this array to keep track of the RSME of each model\n",
        "count = 1 # This will just help \n",
        "\n",
        "\n",
        "for train_index, test_index in rkf.split(X):\n",
        "     print(\"TRAIN:\", train_index, \"TEST:\", test_index)\n",
        "# set up the train and test based on the split determined by KFold\n",
        "  # With 5 folds, we will end up with 80% of our data in the training set, and 20% in the test set, just as above\n",
        "     X_train, X_test = X[train_index], X[test_index]     \n",
        "     y_train, y_test = y[train_index], y[test_index]\n",
        "\n",
        "  # fit a model accordingly\n",
        "regressor = LinearRegression()  \n",
        "regressor.fit(X_train, y_train)\n",
        "\n",
        "  \n",
        "  # assess the accuraccy of the model\n",
        "y_pred = regressor.predict(X_test)\n",
        "\n",
        "rmse_value =  np.sqrt(metrics.mean_squared_error(y_test, y_pred))\n",
        "\n",
        "RMSES.append(rmse_value)\n",
        "  \n",
        "count = count + 1\n",
        "print('trained ' + str(count) + ' models' )\n",
        "np.mean(RMSES)\n",
        "\n",
        "# evaluate model\n",
        "#scores = cross_val_score(regressor, X, y, scoring='accuracy', cv=rkf, n_jobs=-1)\n",
        "# report performance\n",
        "#print('Accuracy: %.3f (%.3f)' % (mean(scores), std(scores)))"
      ],
      "execution_count": null,
      "outputs": [
        {
          "output_type": "stream",
          "text": [
            "TRAIN: [    1     2     4 ... 10519 10520 10521] TEST: [    0     3    12 ... 10506 10511 10514]\n",
            "TRAIN: [    0     2     3 ... 10518 10519 10520] TEST: [    1     4     6 ... 10504 10508 10521]\n",
            "TRAIN: [    0     1     2 ... 10519 10520 10521] TEST: [    5     9    21 ... 10510 10515 10517]\n",
            "TRAIN: [    0     1     2 ... 10518 10519 10521] TEST: [   10    15    16 ... 10505 10513 10520]\n",
            "TRAIN: [    0     1     3 ... 10517 10520 10521] TEST: [    2    43    46 ... 10516 10518 10519]\n",
            "TRAIN: [    0     1     2 ... 10519 10520 10521] TEST: [   13    16    23 ... 10503 10509 10518]\n",
            "TRAIN: [    0     1     2 ... 10518 10519 10521] TEST: [   19    29    32 ... 10500 10508 10520]\n",
            "TRAIN: [    0     1     2 ... 10519 10520 10521] TEST: [    3     6    10 ... 10502 10515 10516]\n",
            "TRAIN: [    0     2     3 ... 10519 10520 10521] TEST: [    1     4     5 ... 10499 10501 10517]\n",
            "TRAIN: [    1     3     4 ... 10517 10518 10520] TEST: [    0     2    15 ... 10514 10519 10521]\n",
            "TRAIN: [    1     3     4 ... 10518 10520 10521] TEST: [    0     2     6 ... 10510 10517 10519]\n",
            "TRAIN: [    0     1     2 ... 10519 10520 10521] TEST: [    5    11    12 ... 10511 10515 10518]\n",
            "TRAIN: [    0     1     2 ... 10519 10520 10521] TEST: [    4     9    22 ... 10507 10509 10516]\n",
            "TRAIN: [    0     1     2 ... 10518 10519 10521] TEST: [    8    13    14 ... 10487 10496 10520]\n",
            "TRAIN: [    0     2     4 ... 10518 10519 10520] TEST: [    1     3    17 ... 10513 10514 10521]\n",
            "TRAIN: [    0     1     3 ... 10518 10519 10520] TEST: [    2     8    25 ... 10506 10517 10521]\n",
            "TRAIN: [    0     1     2 ... 10519 10520 10521] TEST: [    3    10    12 ... 10508 10512 10516]\n",
            "TRAIN: [    0     1     2 ... 10519 10520 10521] TEST: [    7    13    14 ... 10510 10513 10515]\n",
            "TRAIN: [    0     2     3 ... 10517 10518 10521] TEST: [    1     4     5 ... 10507 10519 10520]\n",
            "TRAIN: [    1     2     3 ... 10519 10520 10521] TEST: [    0    19    22 ... 10511 10514 10518]\n",
            "TRAIN: [    0     2     3 ... 10518 10519 10521] TEST: [    1     5     8 ... 10501 10509 10520]\n",
            "TRAIN: [    0     1     2 ... 10516 10519 10520] TEST: [   10    14    16 ... 10517 10518 10521]\n",
            "TRAIN: [    0     1     3 ... 10519 10520 10521] TEST: [    2    13    23 ... 10506 10507 10510]\n",
            "TRAIN: [    0     1     2 ... 10519 10520 10521] TEST: [    3     4     6 ... 10504 10511 10516]\n",
            "TRAIN: [    1     2     3 ... 10518 10520 10521] TEST: [    0     7    11 ... 10512 10514 10519]\n",
            "TRAIN: [    4     5     7 ... 10519 10520 10521] TEST: [    0     1     2 ... 10494 10501 10507]\n",
            "TRAIN: [    0     1     2 ... 10519 10520 10521] TEST: [    5    13    15 ... 10496 10499 10516]\n",
            "TRAIN: [    0     1     2 ... 10516 10520 10521] TEST: [    7     9    10 ... 10517 10518 10519]\n",
            "TRAIN: [    0     1     2 ... 10519 10520 10521] TEST: [    4     8    12 ... 10490 10492 10515]\n",
            "TRAIN: [    0     1     2 ... 10517 10518 10519] TEST: [   28    32    37 ... 10512 10520 10521]\n",
            "TRAIN: [    0     1     2 ... 10518 10519 10521] TEST: [    5    14    17 ... 10504 10508 10520]\n",
            "TRAIN: [    0     2     3 ... 10518 10519 10520] TEST: [    1     9    11 ... 10514 10515 10521]\n",
            "TRAIN: [    1     2     3 ... 10519 10520 10521] TEST: [    0     4     7 ... 10484 10512 10517]\n",
            "TRAIN: [    0     1     2 ... 10517 10520 10521] TEST: [    6    15    18 ... 10516 10518 10519]\n",
            "TRAIN: [    0     1     4 ... 10519 10520 10521] TEST: [    2     3    29 ... 10503 10510 10513]\n",
            "TRAIN: [    0     1     2 ... 10518 10519 10521] TEST: [   18    23    25 ... 10506 10512 10520]\n",
            "TRAIN: [    0     1     2 ... 10519 10520 10521] TEST: [    3     6     7 ... 10501 10507 10513]\n",
            "TRAIN: [    0     1     2 ... 10519 10520 10521] TEST: [    5     8    11 ... 10490 10495 10496]\n",
            "TRAIN: [    0     1     3 ... 10519 10520 10521] TEST: [    2     4    10 ... 10511 10514 10518]\n",
            "TRAIN: [    2     3     4 ... 10514 10518 10520] TEST: [    0     1     9 ... 10517 10519 10521]\n",
            "TRAIN: [    2     3     4 ... 10519 10520 10521] TEST: [    0     1     9 ... 10501 10516 10518]\n",
            "TRAIN: [    0     1     2 ... 10518 10519 10521] TEST: [    3     6     8 ... 10512 10513 10520]\n",
            "TRAIN: [    0     1     3 ... 10519 10520 10521] TEST: [    2     4    22 ... 10510 10511 10517]\n",
            "TRAIN: [    0     1     2 ... 10519 10520 10521] TEST: [    7    20    32 ... 10503 10505 10514]\n",
            "TRAIN: [    0     1     2 ... 10517 10518 10520] TEST: [    5    16    18 ... 10515 10519 10521]\n",
            "TRAIN: [    1     2     3 ... 10515 10518 10521] TEST: [    0    14    20 ... 10517 10519 10520]\n",
            "TRAIN: [    0     1     3 ... 10519 10520 10521] TEST: [    2     5     6 ... 10508 10511 10518]\n",
            "TRAIN: [    0     1     2 ... 10519 10520 10521] TEST: [    4     8     9 ... 10496 10503 10506]\n",
            "TRAIN: [    0     1     2 ... 10519 10520 10521] TEST: [   11    15    16 ... 10498 10510 10513]\n",
            "TRAIN: [    0     2     4 ... 10518 10519 10520] TEST: [    1     3    10 ... 10497 10515 10521]\n",
            "trained 2 models\n"
          ],
          "name": "stdout"
        },
        {
          "output_type": "execute_result",
          "data": {
            "text/plain": [
              "1.1671871620771674"
            ]
          },
          "metadata": {
            "tags": []
          },
          "execution_count": 200
        }
      ]
    },
    {
      "cell_type": "code",
      "metadata": {
        "id": "CEypMSb2hT_O",
        "colab_type": "code",
        "colab": {
          "base_uri": "https://localhost:8080/",
          "height": 50
        },
        "outputId": "20eb290c-0d69-4e97-bec7-272e2eadb142"
      },
      "source": [
        "#display the intercept / bias\n",
        "print(reg_line.intercept_)\n",
        "\n",
        "#display the coefficient\n",
        "print(reg_line.coef_)"
      ],
      "execution_count": null,
      "outputs": [
        {
          "output_type": "stream",
          "text": [
            "32.65380120942025\n",
            "[ 0.00106552 -0.012126    0.01707088 -0.22942678 -0.01564661]\n"
          ],
          "name": "stdout"
        }
      ]
    },
    {
      "cell_type": "markdown",
      "metadata": {
        "id": "crhyA_AcmD4A",
        "colab_type": "text"
      },
      "source": [
        "###Residual plots and heteroskedasticity"
      ]
    },
    {
      "cell_type": "code",
      "metadata": {
        "id": "OyD5C81WmLRw",
        "colab_type": "code",
        "colab": {
          "base_uri": "https://localhost:8080/",
          "height": 185
        },
        "outputId": "7cef4857-90a1-4394-ab90-7ff6ab9d67cc"
      },
      "source": [
        "from sklearn import metrics\n",
        "from sklearn.model_selection import train_test_split\n",
        "from sklearn.linear_model import LinearRegression\n",
        "\n",
        "X = final_1[['tournament','home_team_rank','away_team_rank','neutral','match_year']].values\n",
        "y = final_1['away_score'].values\n",
        "\n",
        "# Split the dataset into train and test sets\n",
        "X_train, X_test, Y_train, Y_test = train_test_split(X,y, test_size = 0.2, random_state=0)\n",
        "\n",
        "#X_train, X_test, admit_train, admit_test = train_test_split(X, y, test_size=0.2, random_state=0)\n",
        "\n",
        "regressor = LinearRegression()\n",
        "regressor.fit(X_train, Y_train)\n",
        "\n",
        "# This is our prediction for admission based on our model\n",
        "poly_pred = regressor.predict(X_test)\n",
        "#admit_predict\n",
        "# We now create the residual by substracting the test value from the predicted \n",
        "# value for each row in our dataset\n",
        "residuals = np.subtract(poly_pred, Y_test)\n",
        "#residuals\n",
        "# Let's describe our residual:\n",
        "print(pd.DataFrame(residuals).describe())\n",
        "\n",
        "residuals.mean()"
      ],
      "execution_count": null,
      "outputs": [
        {
          "output_type": "stream",
          "text": [
            "                 0\n",
            "count  2105.000000\n",
            "mean     -0.031194\n",
            "std       1.160795\n",
            "min      -6.969707\n",
            "25%      -0.607274\n",
            "50%       0.161757\n",
            "75%       0.754678\n",
            "max       2.590530\n"
          ],
          "name": "stdout"
        },
        {
          "output_type": "execute_result",
          "data": {
            "text/plain": [
              "-0.031193571268488405"
            ]
          },
          "metadata": {
            "tags": []
          },
          "execution_count": 201
        }
      ]
    },
    {
      "cell_type": "code",
      "metadata": {
        "id": "5vpRntpOnQep",
        "colab_type": "code",
        "colab": {
          "base_uri": "https://localhost:8080/",
          "height": 279
        },
        "outputId": "2f3ab163-eacd-478d-a75f-f56d3f13900a"
      },
      "source": [
        "import matplotlib.pyplot as plt\n",
        "\n",
        "plt.scatter(poly_pred, residuals, color='black')\n",
        "plt.ylabel('residual')\n",
        "\n",
        "plt.xlabel('fitted values')\n",
        "plt.axhline(y= residuals.mean(), color='red', linewidth=1)\n",
        "plt.show()"
      ],
      "execution_count": null,
      "outputs": [
        {
          "output_type": "display_data",
          "data": {
            "image/png": "[encoded data removed]",
            "text/plain": [
              "<Figure size 432x288 with 1 Axes>"
            ]
          },
          "metadata": {
            "tags": [],
            "needs_background": "light"
          }
        }
      ]
    },
    {
      "cell_type": "code",
      "metadata": {
        "id": "qOwVlnOlnXxb",
        "colab_type": "code",
        "colab": {
          "base_uri": "https://localhost:8080/",
          "height": 67
        },
        "outputId": "2350e30b-78f5-4f6d-e43d-4223e9d9c438"
      },
      "source": [
        "#bartlett's test for heteroskedasticity\n",
        "import scipy as sp\n",
        "\n",
        "test_result, p_value = sp.stats.bartlett(poly_pred, residuals)\n",
        "\n",
        "# To interpret the results we must also compute a critical value of the chi squared distribution\n",
        "degree_of_freedom = len(poly_pred)-1\n",
        "probability = 1 - p_value\n",
        "\n",
        "critical_value = sp.stats.chi2.ppf(probability, degree_of_freedom)\n",
        "print(critical_value)\n",
        "print(test_result)\n",
        "# If the test_result is greater than the critical value, then we reject our null\n",
        "# hypothesis. This would mean that there are patterns to the variance of the data\n",
        "\n",
        "# Otherwise, we can identify no patterns, and we accept the null hypothesis that \n",
        "# the variance is homogeneous across our data\n",
        "\n",
        "if (test_result > critical_value):\n",
        "  print('the variances are unequal, and the model should be reassessed')\n",
        "else:\n",
        "  print('the variances are homogeneous!')"
      ],
      "execution_count": null,
      "outputs": [
        {
          "output_type": "stream",
          "text": [
            "inf\n",
            "772.1695348170057\n",
            "the variances are homogeneous!\n"
          ],
          "name": "stdout"
        }
      ]
    },
    {
      "cell_type": "markdown",
      "metadata": {
        "id": "zhLT-djhuYPG",
        "colab_type": "text"
      },
      "source": [
        "###Challenging the solution"
      ]
    },
    {
      "cell_type": "code",
      "metadata": {
        "id": "-PQ5Rtruua4M",
        "colab_type": "code",
        "colab": {}
      },
      "source": [
        "from sklearn.preprocessing import StandardScaler\n",
        "feature_scaler = StandardScaler()\n",
        "X_train = feature_scaler.fit_transform(X_train)\n",
        "X_test = feature_scaler.transform(X_test)"
      ],
      "execution_count": null,
      "outputs": []
    },
    {
      "cell_type": "code",
      "metadata": {
        "id": "tSPmIyHtugKV",
        "colab_type": "code",
        "colab": {}
      },
      "source": [
        "# Training and Cross Validation\n",
        "# ---\n",
        "# \n",
        "from sklearn.ensemble import RandomForestClassifier\n",
        "classifier = RandomForestClassifier(n_estimators=200, random_state=0)"
      ],
      "execution_count": null,
      "outputs": []
    },
    {
      "cell_type": "code",
      "metadata": {
        "id": "FK4niVkeuoLK",
        "colab_type": "code",
        "colab": {
          "base_uri": "https://localhost:8080/",
          "height": 354
        },
        "outputId": "a55cad3f-78c2-47f0-e435-389c15fd280d"
      },
      "source": [
        "# Training and Cross Validation\n",
        "# ---\n",
        "# Next, to implement cross validation, the cross_val_score method \n",
        "# of the sklearn.model_selection library can be used. \n",
        "# The cross_val_score returns the accuracy for all the folds.                  \n",
        "# Values for 4 parameters are required to be passed to the cross_val_score class. \n",
        "# The first parameter is estimator which basically specifies \n",
        "# the algorithm that you want to use for cross validation. \n",
        "# The second and third parameters, X and y, contain the X_train and y_train data i.e. features and labels. \n",
        "# Finally the number of folds is passed to the cv parameter as shown in the following code\n",
        "# ---\n",
        "# \n",
        "from sklearn.model_selection import cross_val_score\n",
        "all_accuracies = cross_val_score(estimator=classifier, X=X_train, y=y_train, cv=5)\n",
        "all_accuracies"
      ],
      "execution_count": null,
      "outputs": [
        {
          "output_type": "error",
          "ename": "ValueError",
          "evalue": "ignored",
          "traceback": [
            "\u001b[0;31m---------------------------------------------------------------------------\u001b[0m",
            "\u001b[0;31mValueError\u001b[0m                                Traceback (most recent call last)",
            "\u001b[0;32m<ipython-input-211-8e537f049bf2>\u001b[0m in \u001b[0;36m<module>\u001b[0;34m()\u001b[0m\n\u001b[1;32m     12\u001b[0m \u001b[0;31m#\u001b[0m\u001b[0;34m\u001b[0m\u001b[0;34m\u001b[0m\u001b[0;34m\u001b[0m\u001b[0m\n\u001b[1;32m     13\u001b[0m \u001b[0;32mfrom\u001b[0m \u001b[0msklearn\u001b[0m\u001b[0;34m.\u001b[0m\u001b[0mmodel_selection\u001b[0m \u001b[0;32mimport\u001b[0m \u001b[0mcross_val_score\u001b[0m\u001b[0;34m\u001b[0m\u001b[0;34m\u001b[0m\u001b[0m\n\u001b[0;32m---> 14\u001b[0;31m \u001b[0mall_accuracies\u001b[0m \u001b[0;34m=\u001b[0m \u001b[0mcross_val_score\u001b[0m\u001b[0;34m(\u001b[0m\u001b[0mestimator\u001b[0m\u001b[0;34m=\u001b[0m\u001b[0mclassifier\u001b[0m\u001b[0;34m,\u001b[0m \u001b[0mX\u001b[0m\u001b[0;34m=\u001b[0m\u001b[0mX_train\u001b[0m\u001b[0;34m,\u001b[0m \u001b[0my\u001b[0m\u001b[0;34m=\u001b[0m\u001b[0my_train\u001b[0m\u001b[0;34m,\u001b[0m \u001b[0mcv\u001b[0m\u001b[0;34m=\u001b[0m\u001b[0;36m5\u001b[0m\u001b[0;34m)\u001b[0m\u001b[0;34m\u001b[0m\u001b[0;34m\u001b[0m\u001b[0m\n\u001b[0m\u001b[1;32m     15\u001b[0m \u001b[0mall_accuracies\u001b[0m\u001b[0;34m\u001b[0m\u001b[0;34m\u001b[0m\u001b[0m\n",
            "\u001b[0;32m/usr/local/lib/python3.6/dist-packages/sklearn/model_selection/_validation.py\u001b[0m in \u001b[0;36mcross_val_score\u001b[0;34m(estimator, X, y, groups, scoring, cv, n_jobs, verbose, fit_params, pre_dispatch, error_score)\u001b[0m\n\u001b[1;32m    388\u001b[0m                                 \u001b[0mfit_params\u001b[0m\u001b[0;34m=\u001b[0m\u001b[0mfit_params\u001b[0m\u001b[0;34m,\u001b[0m\u001b[0;34m\u001b[0m\u001b[0;34m\u001b[0m\u001b[0m\n\u001b[1;32m    389\u001b[0m                                 \u001b[0mpre_dispatch\u001b[0m\u001b[0;34m=\u001b[0m\u001b[0mpre_dispatch\u001b[0m\u001b[0;34m,\u001b[0m\u001b[0;34m\u001b[0m\u001b[0;34m\u001b[0m\u001b[0m\n\u001b[0;32m--> 390\u001b[0;31m                                 error_score=error_score)\n\u001b[0m\u001b[1;32m    391\u001b[0m     \u001b[0;32mreturn\u001b[0m \u001b[0mcv_results\u001b[0m\u001b[0;34m[\u001b[0m\u001b[0;34m'test_score'\u001b[0m\u001b[0;34m]\u001b[0m\u001b[0;34m\u001b[0m\u001b[0;34m\u001b[0m\u001b[0m\n\u001b[1;32m    392\u001b[0m \u001b[0;34m\u001b[0m\u001b[0m\n",
            "\u001b[0;32m/usr/local/lib/python3.6/dist-packages/sklearn/model_selection/_validation.py\u001b[0m in \u001b[0;36mcross_validate\u001b[0;34m(estimator, X, y, groups, scoring, cv, n_jobs, verbose, fit_params, pre_dispatch, return_train_score, return_estimator, error_score)\u001b[0m\n\u001b[1;32m    219\u001b[0m \u001b[0;34m\u001b[0m\u001b[0m\n\u001b[1;32m    220\u001b[0m     \"\"\"\n\u001b[0;32m--> 221\u001b[0;31m     \u001b[0mX\u001b[0m\u001b[0;34m,\u001b[0m \u001b[0my\u001b[0m\u001b[0;34m,\u001b[0m \u001b[0mgroups\u001b[0m \u001b[0;34m=\u001b[0m \u001b[0mindexable\u001b[0m\u001b[0;34m(\u001b[0m\u001b[0mX\u001b[0m\u001b[0;34m,\u001b[0m \u001b[0my\u001b[0m\u001b[0;34m,\u001b[0m \u001b[0mgroups\u001b[0m\u001b[0;34m)\u001b[0m\u001b[0;34m\u001b[0m\u001b[0;34m\u001b[0m\u001b[0m\n\u001b[0m\u001b[1;32m    222\u001b[0m \u001b[0;34m\u001b[0m\u001b[0m\n\u001b[1;32m    223\u001b[0m     \u001b[0mcv\u001b[0m \u001b[0;34m=\u001b[0m \u001b[0mcheck_cv\u001b[0m\u001b[0;34m(\u001b[0m\u001b[0mcv\u001b[0m\u001b[0;34m,\u001b[0m \u001b[0my\u001b[0m\u001b[0;34m,\u001b[0m \u001b[0mclassifier\u001b[0m\u001b[0;34m=\u001b[0m\u001b[0mis_classifier\u001b[0m\u001b[0;34m(\u001b[0m\u001b[0mestimator\u001b[0m\u001b[0;34m)\u001b[0m\u001b[0;34m)\u001b[0m\u001b[0;34m\u001b[0m\u001b[0;34m\u001b[0m\u001b[0m\n",
            "\u001b[0;32m/usr/local/lib/python3.6/dist-packages/sklearn/utils/validation.py\u001b[0m in \u001b[0;36mindexable\u001b[0;34m(*iterables)\u001b[0m\n\u001b[1;32m    246\u001b[0m     \"\"\"\n\u001b[1;32m    247\u001b[0m     \u001b[0mresult\u001b[0m \u001b[0;34m=\u001b[0m \u001b[0;34m[\u001b[0m\u001b[0m_make_indexable\u001b[0m\u001b[0;34m(\u001b[0m\u001b[0mX\u001b[0m\u001b[0;34m)\u001b[0m \u001b[0;32mfor\u001b[0m \u001b[0mX\u001b[0m \u001b[0;32min\u001b[0m \u001b[0miterables\u001b[0m\u001b[0;34m]\u001b[0m\u001b[0;34m\u001b[0m\u001b[0;34m\u001b[0m\u001b[0m\n\u001b[0;32m--> 248\u001b[0;31m     \u001b[0mcheck_consistent_length\u001b[0m\u001b[0;34m(\u001b[0m\u001b[0;34m*\u001b[0m\u001b[0mresult\u001b[0m\u001b[0;34m)\u001b[0m\u001b[0;34m\u001b[0m\u001b[0;34m\u001b[0m\u001b[0m\n\u001b[0m\u001b[1;32m    249\u001b[0m     \u001b[0;32mreturn\u001b[0m \u001b[0mresult\u001b[0m\u001b[0;34m\u001b[0m\u001b[0;34m\u001b[0m\u001b[0m\n\u001b[1;32m    250\u001b[0m \u001b[0;34m\u001b[0m\u001b[0m\n",
            "\u001b[0;32m/usr/local/lib/python3.6/dist-packages/sklearn/utils/validation.py\u001b[0m in \u001b[0;36mcheck_consistent_length\u001b[0;34m(*arrays)\u001b[0m\n\u001b[1;32m    210\u001b[0m     \u001b[0;32mif\u001b[0m \u001b[0mlen\u001b[0m\u001b[0;34m(\u001b[0m\u001b[0muniques\u001b[0m\u001b[0;34m)\u001b[0m \u001b[0;34m>\u001b[0m \u001b[0;36m1\u001b[0m\u001b[0;34m:\u001b[0m\u001b[0;34m\u001b[0m\u001b[0;34m\u001b[0m\u001b[0m\n\u001b[1;32m    211\u001b[0m         raise ValueError(\"Found input variables with inconsistent numbers of\"\n\u001b[0;32m--> 212\u001b[0;31m                          \" samples: %r\" % [int(l) for l in lengths])\n\u001b[0m\u001b[1;32m    213\u001b[0m \u001b[0;34m\u001b[0m\u001b[0m\n\u001b[1;32m    214\u001b[0m \u001b[0;34m\u001b[0m\u001b[0m\n",
            "\u001b[0;31mValueError\u001b[0m: Found input variables with inconsistent numbers of samples: [8417, 8418]"
          ]
        }
      ]
    },
    {
      "cell_type": "markdown",
      "metadata": {
        "id": "Mjl_L8jpJirN",
        "colab_type": "text"
      },
      "source": [
        "#Logistic regression"
      ]
    },
    {
      "cell_type": "markdown",
      "metadata": {
        "id": "2IydiuG1YlTY",
        "colab_type": "text"
      },
      "source": [
        "ASSUMPTIONS MADE\n",
        "\n",
        "- No outliers in the data. An outlier can be identified by analyzing the independent variables\n",
        "- No correlation (multi-collinearity) between the independent variables."
      ]
    },
    {
      "cell_type": "markdown",
      "metadata": {
        "id": "HVeP_Myq-sTC",
        "colab_type": "text"
      },
      "source": [
        "### EDA and feature engineering"
      ]
    },
    {
      "cell_type": "code",
      "metadata": {
        "id": "yY4UMA4Sy_Qw",
        "colab_type": "code",
        "colab": {}
      },
      "source": [
        "final.head()\n"
      ],
      "execution_count": null,
      "outputs": []
    },
    {
      "cell_type": "code",
      "metadata": {
        "id": "NXpSN42xZbus",
        "colab_type": "code",
        "colab": {}
      },
      "source": [
        "# Checking that our target variable\n",
        "# Since we are building a model to predict how a team fairs on from the perspective of hte home team\n",
        "# our target is going to be home_status variable from the final dataframe. \n",
        "# let's use Seaborn's countplot() function to make sure there are just 3 varibles.\n",
        "# \n",
        "sns.countplot(x='home_status',data=final, palette='hls')\n",
        "\n",
        "# from the output we see that the home_status variable are 3: draw, loss and win."
      ],
      "execution_count": null,
      "outputs": []
    },
    {
      "cell_type": "code",
      "metadata": {
        "id": "yZj6JoKZuH24",
        "colab_type": "code",
        "colab": {}
      },
      "source": [
        ""
      ],
      "execution_count": null,
      "outputs": []
    },
    {
      "cell_type": "code",
      "metadata": {
        "id": "MpMYyz0saLC_",
        "colab_type": "code",
        "colab": {}
      },
      "source": [
        "#checking for null values\n",
        "final.isnull().sum()\n",
        "#no missing values found in he dataset"
      ],
      "execution_count": null,
      "outputs": []
    },
    {
      "cell_type": "code",
      "metadata": {
        "id": "l-DheYnHaeDS",
        "colab_type": "code",
        "colab": {}
      },
      "source": [
        "# Understanding the dataset abit more\n",
        "# \n",
        "final.info()\n",
        "\n",
        "# Ok, so there are only10522 rows in the final data frame. \n",
        "# Since we are predicting theprobability of a home team winning, lossing or drwaing\n",
        "# we are going to use the home team rank column, the away team rank\n",
        "#and  the touranment type(level of competitiveness).\n",
        "# These 3 features are good indicators of the competitiveness of the game and would be good in predicting whether a game is won, lost or drawn\n"
      ],
      "execution_count": null,
      "outputs": []
    },
    {
      "cell_type": "code",
      "metadata": {
        "id": "ohq59kWPbgCk",
        "colab_type": "code",
        "colab": {}
      },
      "source": [
        "#Choosing the columns we will use\n",
        "outcome=final[['home_team_rank','away_team_rank','tournament','home_status']]\n",
        "outcome"
      ],
      "execution_count": null,
      "outputs": []
    },
    {
      "cell_type": "code",
      "metadata": {
        "id": "TPOu1ipQcH7m",
        "colab_type": "code",
        "colab": {}
      },
      "source": [
        "#finding the number of unique entries in the tournament column\n",
        "print(outcome.tournament.unique())\n",
        "outcome.tournament.value_counts()"
      ],
      "execution_count": null,
      "outputs": []
    },
    {
      "cell_type": "code",
      "metadata": {
        "id": "HzzuWUoRg6i3",
        "colab_type": "code",
        "colab": {}
      },
      "source": [
        "# There is no greater competition than the World Cup. Therefore we are going to pick the fifa world cup and qualification tournaments to predict who is going to win the world cup\n",
        "#Choosing multiple values you want to include, put them in a list (or more generally, any iterable) and use isin:\n",
        "tournamnet=outcome.loc[outcome['tournament'].isin(['FIFA World Cup','FIFA World Cup qualification'])]\n"
      ],
      "execution_count": null,
      "outputs": []
    },
    {
      "cell_type": "code",
      "metadata": {
        "id": "b9m5NIzQiV3d",
        "colab_type": "code",
        "colab": {}
      },
      "source": [
        "#Dropoing the tournament column from the outcome dataframe\n",
        "outcome.drop(['tournament'],axis=1,inplace=True)\n",
        "outcome.head()"
      ],
      "execution_count": null,
      "outputs": []
    },
    {
      "cell_type": "code",
      "metadata": {
        "id": "pwwSWO7VbfLw",
        "colab_type": "code",
        "colab": {}
      },
      "source": [
        "# Converting categorical variables to a dummy indicators\n",
        "# ---\n",
        "# The next thing we need to do is reformat our variables so that they work with the model. \n",
        "# Specifically, we need to reformat the Sex and Embarked variables into numeric variables.\n",
        "#\n",
        "tournament = pd.get_dummies(tournamnet['tournament'],drop_first=True)\n",
        "tournament.head()"
      ],
      "execution_count": null,
      "outputs": []
    },
    {
      "cell_type": "code",
      "metadata": {
        "id": "hgATQk6f643V",
        "colab_type": "code",
        "colab": {}
      },
      "source": [
        "fifa = pd.concat([outcome,tournament],axis=1)\n",
        "fifa.head()\n"
      ],
      "execution_count": null,
      "outputs": []
    },
    {
      "cell_type": "code",
      "metadata": {
        "id": "FpzfcWBxjze_",
        "colab_type": "code",
        "colab": {}
      },
      "source": [
        "from sklearn.preprocessing import LabelEncoder\n",
        "from sklearn.pipeline import Pipeline\n",
        "\n",
        "class MultiColumnLabelEncoder:\n",
        "    def __init__(self,columns = None):\n",
        "        self.columns = columns # array of column names to encode\n",
        "\n",
        "    def fit(self,X,y=None):\n",
        "        return self # not relevant here\n",
        "\n",
        "    def transform(self,X):\n",
        "        \n",
        "#        Transforms columns of X specified in self.columns using\n",
        "#        LabelEncoder(). If no columns specified, transforms all\n",
        "#        columns in X.\n",
        "        \n",
        "        output = X.copy()\n",
        "        if self.columns is not None:\n",
        "            for col in self.columns:\n",
        "                output[col] = LabelEncoder().fit_transform(output[col])\n",
        "        else:\n",
        "            for colname,col in output.iteritems():\n",
        "                output[colname] = LabelEncoder().fit_transform(col)\n",
        "        return output\n",
        "\n",
        "    def fit_transform(self,X,y=None):\n",
        "        return self.fit(X,y).transform(X)\n",
        "\n",
        "fifa=MultiColumnLabelEncoder(columns = ['home_status']).fit_transform(fifa)\n",
        "fifa.head()\n",
        "\n",
        "# Now we have a dataset with all the variables in the correct format!"
      ],
      "execution_count": null,
      "outputs": []
    },
    {
      "cell_type": "markdown",
      "metadata": {
        "id": "MKh20K0bkZXZ",
        "colab_type": "text"
      },
      "source": [
        "###Checking for multicollinearity"
      ]
    },
    {
      "cell_type": "code",
      "metadata": {
        "id": "d9SvH8GkkQ5E",
        "colab_type": "code",
        "colab": {}
      },
      "source": [
        "# Remove the home_status columns, we want to focus on our independent variables only.\n",
        "independent_only = fifa.drop(columns=['home_status'])\n",
        "\n",
        "# Let's display the correlations between the variables\n",
        "correlations = independent_only.corr()\n",
        "\n",
        "correlations"
      ],
      "execution_count": null,
      "outputs": []
    },
    {
      "cell_type": "code",
      "metadata": {
        "id": "zgodJNtqk0CO",
        "colab_type": "code",
        "colab": {}
      },
      "source": [
        "# Checking for independence between features¶\n",
        "# \n",
        "import matplotlib.pyplot as plt\n",
        " \n",
        "\n",
        "plt.subplots(figsize=(15, 10))\n",
        "sns.heatmap(fifa.corr(), annot=True) \n",
        "#the variables are independent of each other therefore we can move on"
      ],
      "execution_count": null,
      "outputs": []
    },
    {
      "cell_type": "code",
      "metadata": {
        "id": "GyhQw3g9leaC",
        "colab_type": "code",
        "colab": {}
      },
      "source": [
        "# Checking that your dataset size is sufficient\n",
        "# We have 3 predictive features that remain. The rule of thumb is 50 records per feature \n",
        "# so we need to have at least 300 records in this dataset. Let's check again.\n",
        "#\n",
        "fifa.info()          \n",
        "# From the output we have 10522 records and a good number of them are null as they dont belong to the fifa world cup or qualifcation tournaments"
      ],
      "execution_count": null,
      "outputs": []
    },
    {
      "cell_type": "markdown",
      "metadata": {
        "id": "3eXd0awvGEMo",
        "colab_type": "text"
      },
      "source": [
        "results_2018.head(2)"
      ]
    },
    {
      "cell_type": "code",
      "metadata": {
        "id": "jAaYlbqAmKE0",
        "colab_type": "code",
        "colab": {}
      },
      "source": [
        "#Checking number of null values\n",
        "fifa.isnull().sum()\n"
      ],
      "execution_count": null,
      "outputs": []
    },
    {
      "cell_type": "code",
      "metadata": {
        "id": "71bZdi9kmXoN",
        "colab_type": "code",
        "colab": {}
      },
      "source": [
        "#dropping the null values\n",
        "fifa1=fifa.dropna()\n",
        "fifa1\n",
        "\n",
        "# Checking for Outliers\n",
        "#\n",
        "# save the column names onto a dictionary\n",
        "columns_dict={ 'home_team_rank':1, 'away_team_rank':2}\n",
        "\n",
        "plt.figure(figsize=(20,30))\n",
        "\n",
        "# make a boxplot for each numerical column\n",
        "for variable,i in columns_dict.items():\n",
        "  plt.subplot(5,4,i)\n",
        "  plt.boxplot(fifa1[variable])\n",
        "  plt.title(variable)\n",
        "\n",
        "plt.show()"
      ],
      "execution_count": null,
      "outputs": []
    },
    {
      "cell_type": "markdown",
      "metadata": {
        "id": "CFnVobDa-hQN",
        "colab_type": "text"
      },
      "source": [
        "###Building the model"
      ]
    },
    {
      "cell_type": "markdown",
      "metadata": {
        "id": "diLzPxkAuq3K",
        "colab_type": "text"
      },
      "source": [
        "Since there ar no outliers and there is no collinearity between the independent variables we can go ahead and continue with the modelling."
      ]
    },
    {
      "cell_type": "code",
      "metadata": {
        "id": "BfakHWgRlo1j",
        "colab_type": "code",
        "colab": {}
      },
      "source": [
        "# Splitting our dataset\n",
        "#\n",
        "X = fifa1.drop(\"home_status\",axis=1)\n",
        "y = fifa1[\"home_status\"]\n",
        "\n",
        "from sklearn.model_selection import train_test_split\n",
        "X_train, X_test, y_train, y_test = train_test_split(X, y, test_size = .3, random_state=25)"
      ],
      "execution_count": null,
      "outputs": []
    },
    {
      "cell_type": "code",
      "metadata": {
        "id": "P9yhfEVPmDjA",
        "colab_type": "code",
        "colab": {}
      },
      "source": [
        "# Fitting our model\n",
        "# \n",
        "from sklearn.linear_model import LogisticRegression\n",
        "\n",
        "LogReg = LogisticRegression()\n",
        "LogReg.fit(X_train, y_train)"
      ],
      "execution_count": null,
      "outputs": []
    },
    {
      "cell_type": "code",
      "metadata": {
        "id": "Aq8ekPCBm98m",
        "colab_type": "code",
        "colab": {}
      },
      "source": [
        "# Using our model to make a prediction\n",
        "#\n",
        "y_pred = LogReg.predict(X_test)\n",
        "y_pred"
      ],
      "execution_count": null,
      "outputs": []
    },
    {
      "cell_type": "code",
      "metadata": {
        "id": "EIIRR-n3nNjL",
        "colab_type": "code",
        "colab": {}
      },
      "source": [
        "import numpy as np\n",
        "unique_elements, counts_elements = np.unique(y_pred, return_counts=True)\n",
        "print(\"Frequency of unique values of the said array:\")\n",
        "print(np.asarray((unique_elements, counts_elements)))\n",
        "# count of predicted array only\n",
        "# 0 - Draw and 1 Loss 2- win\n",
        "# 13 draws and 408 losses and 820 wins"
      ],
      "execution_count": null,
      "outputs": []
    },
    {
      "cell_type": "code",
      "metadata": {
        "id": "mLSxZkLEnrHo",
        "colab_type": "code",
        "colab": {}
      },
      "source": [
        "import numpy as np\n",
        "unique_elements, counts_elements = np.unique(y_test, return_counts=True)\n",
        "print(\"Frequency of unique values of the said array:\")\n",
        "print(np.asarray((unique_elements, counts_elements)))\n",
        "# # 276 draws and 348 losses and 617 wins"
      ],
      "execution_count": null,
      "outputs": []
    },
    {
      "cell_type": "code",
      "metadata": {
        "id": "SFBf-cGVn8_L",
        "colab_type": "code",
        "colab": {}
      },
      "source": [
        "# Evaluating the model\n",
        "#\n",
        "from sklearn.metrics import confusion_matrix\n",
        "confusion_matrix = confusion_matrix(y_test, y_pred)\n",
        "confusion_matrix\n",
        "\n",
        "# The results from the confusion matrix tell us that 4 draws 244 losses and 557 wins were prdicted correctly\n",
        "# 109- actual draws and 55 wins predicted as losses\n",
        "#4 actual losses and 5actual wins predicted predicted as draws\n",
        "#163 actual draws and 100 actual losses predicted as wins\n",
        "# "
      ],
      "execution_count": null,
      "outputs": []
    },
    {
      "cell_type": "code",
      "metadata": {
        "id": "Sruf_VnFpbj-",
        "colab_type": "code",
        "colab": {}
      },
      "source": [
        "# sklearn accuracy score\n",
        "print('Accuracy of logistic regression classifier on test set: {:.2f}'.format(LogReg.score(X_test, y_test)))"
      ],
      "execution_count": null,
      "outputs": []
    },
    {
      "cell_type": "code",
      "metadata": {
        "id": "yvtNwq5CqdwX",
        "colab_type": "code",
        "colab": {}
      },
      "source": [
        "print('Mean Absolute Error:', metrics.mean_absolute_error(y_test, y_pred))  \n",
        "print('Mean Squared Error:', metrics.mean_squared_error(y_test, y_pred))  \n",
        "print('Root Mean Squared Error:', np.sqrt(metrics.mean_squared_error(y_test, y_pred)))"
      ],
      "execution_count": null,
      "outputs": []
    },
    {
      "cell_type": "markdown",
      "metadata": {
        "id": "1tvP9ZUTrHxA",
        "colab_type": "text"
      },
      "source": [
        "###Cross validation of the logistic regression"
      ]
    },
    {
      "cell_type": "code",
      "metadata": {
        "id": "rePKAbwerHJP",
        "colab_type": "code",
        "colab": {}
      },
      "source": [
        "# Scaling our Data\n",
        "# ---\n",
        "# \n",
        "from sklearn.preprocessing import StandardScaler\n",
        "feature_scaler = StandardScaler()\n",
        "X_train = feature_scaler.fit_transform(X_train)\n",
        "X_test = feature_scaler.transform(X_test)"
      ],
      "execution_count": null,
      "outputs": []
    },
    {
      "cell_type": "code",
      "metadata": {
        "id": "WK8oYvpi4AeP",
        "colab_type": "code",
        "colab": {}
      },
      "source": [
        "# Training and Cross Validation\n",
        "# ---\n",
        "# \n",
        "from sklearn.ensemble import RandomForestClassifier\n",
        "classifier = RandomForestClassifier(n_estimators=300, random_state=0)"
      ],
      "execution_count": null,
      "outputs": []
    },
    {
      "cell_type": "code",
      "metadata": {
        "id": "LUdeYqdOqqw1",
        "colab_type": "code",
        "colab": {}
      },
      "source": [
        "# We will use the same 4 independent variables for this\n",
        "from sklearn.model_selection import KFold\n",
        "X = fifa1.drop(\"home_status\",axis=1).values\n",
        "y = fifa1[\"home_status\"].values\n",
        "folds = KFold(n_splits=5)\n",
        "\n",
        "# note that if you have a KFold object, you can figure out how many folds you set up \n",
        "# for it using get_n_splits\n",
        "print('we are using ' +str(folds.get_n_splits(X)) + ' folds')\n",
        "\n",
        "# We now create and assess 5 models based on the folds we created.\n",
        "RMSES = [] # We will use this array to keep track of the RSME of each model\n",
        "count = 1 # This will just help \n",
        "for train_index, test_index in folds.split(X):\n",
        "  print('\\nTraining model ' + str(count))\n",
        "  \n",
        "  # set up the train and test based on the split determined by KFold\n",
        "  # With 5 folds, we will end up with 80% of our data in the training set, and 20% in the test set, just as above\n",
        "  X_train, X_test = X[train_index], X[test_index]\n",
        "  y_train, y_test = y[train_index], y[test_index]\n",
        "  \n",
        "  # fit a model accordingly\n",
        "  regressor = LinearRegression()  \n",
        "  regressor.fit(X_train, y_train)\n",
        "  \n",
        "  # assess the accuraccy of the model\n",
        "  y_pred = regressor.predict(X_test)\n",
        "  \n",
        "  rmse_value =  np.sqrt(metrics.mean_squared_error(y_test, y_pred))\n",
        "  RMSES.append(rmse_value)\n",
        "  \n",
        "  print('Model ' + str(count) + ' Root Mean Squared Error:',rmse_value)\n",
        "  count = count + 1\n",
        "\n",
        "import matplotlib.pyplot as plt\n",
        "\n",
        "plt.plot(RMSES)\n",
        "plt.ylabel('RMSE value')\n",
        "plt.xlabel('model ID')\n",
        "plt.show()"
      ],
      "execution_count": null,
      "outputs": []
    },
    {
      "cell_type": "markdown",
      "metadata": {
        "id": "x2Q-DTF9tLi2",
        "colab_type": "text"
      },
      "source": [
        "\n",
        "\n",
        "As you can tell from running the code, the RMSE value for our second and forth model are fairly larger than the RMSE of the other models ad for what we found above. This would beg for an analysis of the specific indeces used. \n",
        "\n",
        "The third model had the lowest RMSE.\n",
        "\n",
        "As a challenge, perform a comparative analysis of the subset of the data used to test model 1 in comparison with the dataset as a whole.\n",
        "\n",
        "Another useful observation is comparing the average RMSE value of all these models to the one we obtain in our initial approache. We created the array RMSES to gather all the RMSE values, we can compute the average simply as follows"
      ]
    },
    {
      "cell_type": "code",
      "metadata": {
        "id": "ZwKkEnSirs_A",
        "colab_type": "code",
        "colab": {}
      },
      "source": [
        "np.mean(RMSES)"
      ],
      "execution_count": null,
      "outputs": []
    },
    {
      "cell_type": "markdown",
      "metadata": {
        "id": "Kz8OtydU13ho",
        "colab_type": "text"
      },
      "source": [
        "repeated kfold Cross validation approach\n",
        "\n",
        "\n",
        "Then, create a model to predict university admission again, this time using all independent varible, and krepeated kfold of your choice. Can you improve on the results without cross validation? Can you improve on the results from the kfold cross validation?"
      ]
    },
    {
      "cell_type": "code",
      "metadata": {
        "id": "qOC57rTowOCZ",
        "colab_type": "code",
        "colab": {}
      },
      "source": [
        "import numpy as np\n",
        "from numpy import mean\n",
        "from numpy import std\n",
        "from sklearn.datasets import make_classification\n",
        "from sklearn.model_selection import RepeatedKFold\n",
        "from sklearn.model_selection import cross_val_score\n",
        "from sklearn.linear_model import LogisticRegression\n",
        "# We will use the same 4 independent variables for this\n",
        "\n",
        "X = fifa1.drop(\"home_status\",axis=1).values\n",
        "y = fifa1[\"home_status\"].values\n",
        "\n",
        "rkf = RepeatedKFold(n_splits=5, n_repeats=5, random_state=2652124)\n",
        "\n",
        "for train_index, test_index in rkf.split(X):\n",
        "     print(\"TRAIN:\", train_index, \"TEST:\", test_index)\n",
        "# set up the train and test based on the split determined by KFold\n",
        "  # With 5 folds, we will end up with 80% of our data in the training set, and 20% in the test set, just as above\n",
        "     X_train, X_test = X[train_index], X[test_index]     \n",
        "     y_train, y_test = y[train_index], y[test_index]\n",
        "\n",
        "  # fit a model accordingly\n",
        "regressor = LinearRegression()  \n",
        "regressor.fit(X_train, y_train)\n",
        "  \n",
        "  # assess the accuraccy of the model\n",
        "y_pred = regressor.predict(X_test)\n",
        "  \n",
        "rmse_value =  np.sqrt(metrics.mean_squared_error(y_test, y_pred))\n",
        "RMSES.append(rmse_value)\n",
        "  \n",
        "count = count + 1\n",
        "print('trained ' + str(count) + ' models' )\n",
        "np.mean(RMSES)\n",
        "\n",
        "# prepare the cross-validation procedure\n",
        "rkf = RepeatedKFold(n_splits=5, n_repeats=5, random_state=2652124)\n",
        "# create model\n",
        "regressor = LogisticRegression()\n",
        "# evaluate model\n",
        "scores = cross_val_score(regressor, X, y, scoring='accuracy', cv=rkf, n_jobs=-1)\n",
        "# report performance\n",
        "print('Accuracy: %.3f (%.3f)' % (mean(scores), std(scores)))\n",
        "\n",
        "print('Model ' + str(count) + ' Root Mean Squared Error:',rmse_value)\n",
        "count = count + 1\n",
        "\n",
        "print('mean RMSE', np.mean(RMSES))\n",
        "\n",
        "import matplotlib.pyplot as plt\n",
        "\n",
        "plt.plot(RMSES)\n",
        "plt.ylabel('RMSE value')\n",
        "plt.xlabel('model ID')\n",
        "plt.show()"
      ],
      "execution_count": null,
      "outputs": []
    },
    {
      "cell_type": "markdown",
      "metadata": {
        "id": "sK486QZPxsrz",
        "colab_type": "text"
      },
      "source": [
        "With the reapeated kfold cross validation, 12 models were trained with an overall accuracy of 0.645. \n",
        "\n",
        "The mean RMSE is 0.7258 which is slightly higher than kfold approach."
      ]
    },
    {
      "cell_type": "code",
      "metadata": {
        "id": "OaNKC0vQ0Fwq",
        "colab_type": "code",
        "colab": {}
      },
      "source": [
        "# We now create the residual by substracting the test value from the predicted \n",
        "# value for each row in our dataset\n",
        "\n",
        "residuals = np.subtract(y_pred, y_test)\n",
        "#residuals\n",
        "# Let's describe our residual:\n",
        "print(pd.DataFrame(residuals).describe())\n",
        "\n",
        "residuals.mean()"
      ],
      "execution_count": null,
      "outputs": []
    },
    {
      "cell_type": "markdown",
      "metadata": {
        "id": "zx6KftwG0fwU",
        "colab_type": "text"
      },
      "source": [
        "Our min and max for the residual are fairly high: they suggest we've been up to 198% off target. It's important for us to plot this first: Is this a common occurence, or a few outliers?\n",
        "\n",
        "Our mean on the other hand is close to 0, indicating that we tend to be fairly correct, although slightly over estimating chances by, on average, 10%"
      ]
    },
    {
      "cell_type": "code",
      "metadata": {
        "id": "Vn4dbrQs03K5",
        "colab_type": "code",
        "colab": {}
      },
      "source": [
        "#plotting the residual plto\n",
        "import matplotlib.pyplot as plt\n",
        "\n",
        "plt.scatter(y_pred, residuals, color='black')\n",
        "plt.ylabel('residual')\n",
        "plt.xlabel('fitted values')\n",
        "plt.axhline(y= residuals.mean(), color='red', linewidth=1)\n",
        "plt.show()"
      ],
      "execution_count": null,
      "outputs": []
    },
    {
      "cell_type": "markdown",
      "metadata": {
        "id": "WAL-HaKZ1eyc",
        "colab_type": "text"
      },
      "source": [
        "Although our residuals are centered around a mean that is very close to 0, and they do follow a patterns. Let's be thorough though, and perform a heteroskedasticity test.\n",
        "\n",
        "For this we will use bartlett's test. The test establishes as a null hypothesis that the variance is equal for all our datapoints,and the new hypothesis that the variance is different for at least one pair of datapoints."
      ]
    },
    {
      "cell_type": "code",
      "metadata": {
        "id": "qmv_yxVtHZw1",
        "colab_type": "code",
        "colab": {}
      },
      "source": [
        "#bartlett's test for heteroskedasticity\n",
        "import scipy as sp\n",
        "\n",
        "test_result, p_value = sp.stats.bartlett(y_pred, residuals)\n",
        "\n",
        "# To interpret the results we must also compute a critical value of the chi squared distribution\n",
        "degree_of_freedom = len(y_pred)-1\n",
        "probability = 1 - p_value\n",
        "\n",
        "critical_value = sp.stats.chi2.ppf(probability, degree_of_freedom)\n",
        "print(critical_value)\n",
        "print(test_result)\n",
        "# If the test_result is greater than the critical value, then we reject our null\n",
        "# hypothesis. This would mean that there are patterns to the variance of the data\n",
        "\n",
        "# Otherwise, we can identify no patterns, and we accept the null hypothesis that \n",
        "# the variance is homogeneous across our data\n",
        "\n",
        "if (test_result > critical_value):\n",
        "  print('the variances are unequal, and the model should be reassessed')\n",
        "else:\n",
        "  print('the variances are homogeneous!')\n"
      ],
      "execution_count": null,
      "outputs": []
    },
    {
      "cell_type": "code",
      "metadata": {
        "id": "8rOXkI0Y4clf",
        "colab_type": "code",
        "colab": {}
      },
      "source": [
        "# Training and Cross Validation\n",
        "# ---\n",
        "# Next, to implement cross validation, the cross_val_score method \n",
        "# of the sklearn.model_selection library can be used. \n",
        "# The cross_val_score returns the accuracy for all the folds. \n",
        "# Values for 4 parameters are required to be passed to the cross_val_score class. \n",
        "# The first parameter is estimator which basically specifies \n",
        "# the algorithm that you want to use for cross validation. \n",
        "# The second and third parameters, X and y, contain the X_train and y_train data i.e. features and labels. \n",
        "# Finally the number of folds is passed to the cv parameter as shown in the following code\n",
        "# ---\n",
        "# \n",
        "from sklearn.model_selection import cross_val_score\n",
        "all_accuracies = cross_val_score(estimator=classifier, X=X_train, y=y_train, cv=5)\n",
        "all_accuracies"
      ],
      "execution_count": null,
      "outputs": []
    },
    {
      "cell_type": "code",
      "metadata": {
        "id": "iKSybiGL4kjJ",
        "colab_type": "code",
        "colab": {}
      },
      "source": [
        "# Printing the accuracies returned for five folds \n",
        "# by the cross_val_score method by calling print on all_accuracies\n",
        "# ---\n",
        "#\n",
        "print(all_accuracies.mean())"
      ],
      "execution_count": null,
      "outputs": []
    },
    {
      "cell_type": "code",
      "metadata": {
        "id": "pZ2xnYv74pvA",
        "colab_type": "code",
        "colab": {}
      },
      "source": [
        "# Step 1: Hyperparameters: Getting Started with Random Search\n",
        "# ---\n",
        "# Random search differs from grid search in that we no longer \n",
        "# provide a discrete set of values to explore for each hyperparameter; rather, \n",
        "# we provide a statistical distribution for each hyperparameter \n",
        "# from which values may be randomly sampled.\n",
        "# We'll define a sampling distribution for each hyperparameter.\n",
        "# ---\n",
        "# \n",
        "\n",
        "# specify parameters and distributions to sample from\n",
        "from scipy.stats import randint as sp_randint\n",
        "param_dist = {\"max_depth\": [3, None],\n",
        "              \"max_features\": sp_randint(1, 11),\n",
        "              \"min_samples_split\": sp_randint(2, 11),\n",
        "              \"bootstrap\": [True, False],\n",
        "              \"criterion\": [\"gini\", \"entropy\"]}"
      ],
      "execution_count": null,
      "outputs": []
    },
    {
      "cell_type": "code",
      "metadata": {
        "id": "m6_e6OsF4wHN",
        "colab_type": "code",
        "colab": {}
      },
      "source": [
        "# Step 2: Instantiating RandomizedSearchCV object \n",
        "# ---\n",
        "# \n",
        "from sklearn.model_selection import RandomizedSearchCV \n",
        "random_sr = RandomizedSearchCV(classifier, param_dist, cv = 5)"
      ],
      "execution_count": null,
      "outputs": []
    },
    {
      "cell_type": "code",
      "metadata": {
        "id": "jOD7WHQa7qC-",
        "colab_type": "code",
        "colab": {}
      },
      "source": [
        "# Step 3: Calling the fit method\n",
        "# ---\n",
        "#\n",
        "random_sr.fit(X_train, y_train)"
      ],
      "execution_count": null,
      "outputs": []
    },
    {
      "cell_type": "code",
      "metadata": {
        "id": "Ab1X1E4C7ACq",
        "colab_type": "code",
        "colab": {}
      },
      "source": [
        "# Step 4: Checking the parameters that return the highest accuracy\n",
        "# ---\n",
        "#\n",
        "best_parameters = random_sr.best_params_\n",
        "print(best_parameters)\n",
        "# The result shows that the highest accuracy is achieved \n",
        "# when the n_estimators are 300, bootstrap is True and criterion is \"gini\". \n",
        "# It would be a good idea to add more number of estimators \n",
        "# and see if performance further increases since the highest \n",
        "# allowed value of n_estimators was chosen."
      ],
      "execution_count": null,
      "outputs": []
    },
    {
      "cell_type": "markdown",
      "metadata": {
        "id": "LhgYcCOo8NHr",
        "colab_type": "text"
      },
      "source": [
        "The result shows that the highest accuracy is achieved \n",
        " when the  bootstrap is False and criterion is \"gini\", max depth is 3, max features are 3 and mini saample split is 3.\n"
      ]
    },
    {
      "cell_type": "code",
      "metadata": {
        "id": "hmlRJFVm73NW",
        "colab_type": "code",
        "colab": {}
      },
      "source": [
        "# Finding the obtained accuracy\n",
        "# --\n",
        "# \n",
        "best_result = random_sr.best_score_\n",
        "print(best_result)\n"
      ],
      "execution_count": null,
      "outputs": []
    },
    {
      "cell_type": "markdown",
      "metadata": {
        "id": "wCcFPiPJdUY5",
        "colab_type": "text"
      },
      "source": [
        "#Follow up questions"
      ]
    },
    {
      "cell_type": "markdown",
      "metadata": {
        "id": "e2dj-6tFdut0",
        "colab_type": "text"
      },
      "source": [
        "At this point, we can refine our question or collect new data, all in an iterative process to get at the truth"
      ]
    },
    {
      "cell_type": "markdown",
      "metadata": {
        "id": "pua6BFQOd6tW",
        "colab_type": "text"
      },
      "source": [
        "a). Did we have the right data?\n",
        "\n",
        "We  have the right data as it has the needed features and variables needed for the predicitions needed. It is also"
      ]
    },
    {
      "cell_type": "markdown",
      "metadata": {
        "id": "FWUFiZLWeyxw",
        "colab_type": "text"
      },
      "source": [
        "b). Do we need other data to answer our question?\n",
        "We do not need more data to answer the questions and make predictions as the one we have is satisfactory"
      ]
    },
    {
      "cell_type": "markdown",
      "metadata": {
        "id": "Lp9sXIcAfEEM",
        "colab_type": "text"
      },
      "source": [
        "c). Did we have the right question?\n",
        "\n",
        "Yes we have the right questions."
      ]
    }
  ]
}